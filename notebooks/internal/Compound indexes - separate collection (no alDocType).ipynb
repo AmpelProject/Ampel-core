{
 "cells": [
  {
   "cell_type": "code",
   "execution_count": 1,
   "metadata": {},
   "outputs": [],
   "source": [
    "from ampel.pipeline.t0.AlertProcessor import AlertProcessor\n",
    "from ampel.pipeline.t0.alerts.TarAlertLoader import TarAlertLoader\n",
    "from ampel.pipeline.t0.alerts.AlertSupplier import AlertSupplier\n",
    "from ampel.pipeline.t0.alerts.ZIAlertShaper import ZIAlertShaper\n",
    "from ampel.pipeline.t0.alerts.FileAlertLoader import FileAlertLoader\n",
    "from ampel.flags.AlDocTypes import AlDocTypes\n",
    "import pymongo, json"
   ]
  },
  {
   "cell_type": "code",
   "execution_count": 2,
   "metadata": {},
   "outputs": [],
   "source": [
    "mc=pymongo.MongoClient()\n",
    "db=mc.Ampel_testt\n",
    "col=db.docs\n",
    "mc.drop_database(\"Ampel_testt\")\n",
    "col=db.create_collection(\"docs\")"
   ]
  },
  {
   "cell_type": "code",
   "execution_count": 3,
   "metadata": {},
   "outputs": [
    {
     "name": "stdout",
     "output_type": "stream",
     "text": [
      "tranId_1_channels_1\n"
     ]
    }
   ],
   "source": [
    "#print(col.ensure_index(\"alDocType\"))\n",
    "#print(col.ensure_index(\"tranId\"))\n",
    "#print(col.ensure_index(\"channels\"))\n",
    "\n",
    "#print(col.create_index([(\"tranId\", pymongo.ASCENDING), (\"channels\", pymongo.ASCENDING)]))\n",
    "#print(\n",
    "#    col.create_index(\n",
    "#        [\n",
    "#            (\"tranId\", pymongo.ASCENDING)\n",
    "#        ],\n",
    "#        **{ \n",
    "#            \"partialFilterExpression\": {\n",
    "#                 \"alDocType\": {\n",
    "#                      \"$gt\": 1\n",
    "#                  }\n",
    "#            }\n",
    "#        }\n",
    "#    )\n",
    "#)\n",
    "\n",
    "print(\n",
    "    col.create_index(\n",
    "        [\n",
    "            (\"tranId\", pymongo.ASCENDING), \n",
    "            (\"channels\", pymongo.ASCENDING)\n",
    "        ]\n",
    "    )\n",
    ")\n",
    "\n",
    "#print(\n",
    "#    col.create_index(\n",
    "#        [\n",
    "#            (\"alDocType\", pymongo.DESCENDING), \n",
    "#            (\"channels\", pymongo.DESCENDING)\n",
    "#        ],\n",
    "#        **{ \n",
    "#            \"partialFilterExpression\": {\n",
    "#                 \"alDocType\": {\n",
    "#                      \"$gt\": 1\n",
    "#                  }\n",
    "#            }\n",
    "#        }\n",
    "#    )\n",
    "#)\n",
    "#print(col.create_index([(\"channels\", pymongo.ASCENDING), (\"alDocType\", pymongo.ASCENDING)]))\n",
    "\n",
    "\n",
    "#print(col.create_index([(\"tranId\", pymongo.ASCENDING)]))\n",
    "#print(col.create_index([(\"alDocType\", pymongo.ASCENDING)]))"
   ]
  },
  {
   "cell_type": "code",
   "execution_count": 4,
   "metadata": {},
   "outputs": [
    {
     "data": {
      "text/plain": [
       "<pymongo.results.InsertOneResult at 0x107be2b08>"
      ]
     },
     "execution_count": 4,
     "metadata": {},
     "output_type": "execute_result"
    }
   ],
   "source": [
    "col.insert_one({\n",
    "    \"tranId\" : 1710101314291314,\n",
    "    \"alFlags\" : [ \n",
    "        1, \n",
    "        5\n",
    "    ],\n",
    "    \"channels\" : [\n",
    "        \"HU_RANDOM\",\n",
    "        \"HU_SN1\"\n",
    "    ],\n",
    "    \"lastModified\" : [ \n",
    "        {\n",
    "            \"dt\" : 1526566138.78038,\n",
    "            \"tier\" : 0,\n",
    "            \"src\" : \"ZIAI\",\n",
    "            \"channels\" : [ \n",
    "                \"HU_RANDOM\", \n",
    "                \"HU_SN1\"\n",
    "            ]\n",
    "        }\n",
    "    ],\n",
    "    \"lastPPDate\" : 2458158.6052083,\n",
    "    \"modified\" : 1526566138.78038\n",
    "})"
   ]
  },
  {
   "cell_type": "code",
   "execution_count": 5,
   "metadata": {},
   "outputs": [
    {
     "data": {
      "text/plain": [
       "<pymongo.results.InsertOneResult at 0x107bd7988>"
      ]
     },
     "execution_count": 5,
     "metadata": {},
     "output_type": "execute_result"
    }
   ],
   "source": [
    "col.insert_one({\n",
    "    \"tranId\" : 1710101314291315,\n",
    "    \"alFlags\" : [ \n",
    "        1, \n",
    "        5\n",
    "    ],\n",
    "    \"channels\" : [\n",
    "        \"HU_SN1\"\n",
    "    ],\n",
    "    \"lastModified\" : [ \n",
    "        {\n",
    "            \"dt\" : 1526566138.86913,\n",
    "            \"tier\" : 0,\n",
    "            \"src\" : \"ZIAI\",\n",
    "            \"channels\" : [ \n",
    "                \"HU_RANDOM\"\n",
    "            ]\n",
    "        }\n",
    "    ],\n",
    "    \"lastPPDate\" : 2458159.6052083,\n",
    "    \"modified\" : 1526566138.86913\n",
    "})"
   ]
  },
  {
   "cell_type": "code",
   "execution_count": 6,
   "metadata": {},
   "outputs": [
    {
     "data": {
      "text/plain": [
       "<pymongo.results.InsertOneResult at 0x107c09b88>"
      ]
     },
     "execution_count": 6,
     "metadata": {},
     "output_type": "execute_result"
    }
   ],
   "source": [
    "col.insert_one({\n",
    "    \"tranId\" : 1710101314291316,\n",
    "    \"alFlags\" : [ \n",
    "        1, \n",
    "        5\n",
    "    ],\n",
    "    \"channels\" : [\n",
    "        \"HU_RANDOM\"    \n",
    "    ],\n",
    "    \"lastModified\" : [ \n",
    "        {\n",
    "            \"dt\" : 1526566138.95514,\n",
    "            \"tier\" : 0,\n",
    "            \"src\" : \"ZIAI\",\n",
    "            \"channels\" : [ \n",
    "                \"HU_RANDOM\"\n",
    "            ]\n",
    "        }\n",
    "    ],\n",
    "    \"lastPPDate\" : 2458160.6052083,\n",
    "    \"modified\" : 1526566138.95514\n",
    "})"
   ]
  },
  {
   "cell_type": "code",
   "execution_count": 7,
   "metadata": {},
   "outputs": [
    {
     "name": "stdout",
     "output_type": "stream",
     "text": [
      "total count: 3\n",
      "HU_SN1 count: 2\n",
      "totalDocsExamined 0\n"
     ]
    }
   ],
   "source": [
    "chan=\"HU_SN1\"\n",
    "print(\"total count: %s\" % \n",
    "      col.find(\n",
    "        {}\n",
    "      ).count()\n",
    ")\n",
    "print(\"HU_SN1 count: %s\" % \n",
    "      col.find(\n",
    "        {'channels': \"HU_SN1\"}\n",
    "      ).count()\n",
    ")\n",
    "print(\"totalDocsExamined %s\" % \n",
    "    json.dumps(\n",
    "        col.find(\n",
    "            {'tranId': {'$gt': 1}},\n",
    "            {'_id':0, 'tranId': 1}\n",
    "        ).explain()['executionStats']['totalDocsExamined'], \n",
    "        #).explain(),\n",
    "        indent=2, sort_keys=True      \n",
    "    )\n",
    ")"
   ]
  },
  {
   "cell_type": "code",
   "execution_count": 8,
   "metadata": {},
   "outputs": [
    {
     "name": "stdout",
     "output_type": "stream",
     "text": [
      "total count: 3\n",
      "HU_SN1 count: 2\n",
      "totalDocsExamined 0\n",
      "\n",
      "Res\n",
      "---\n",
      "[\n",
      "  {\n",
      "    \"tranId\": 1710101314291314\n",
      "  },\n",
      "  {\n",
      "    \"tranId\": 1710101314291315\n",
      "  }\n",
      "]\n"
     ]
    }
   ],
   "source": [
    "chan=\"HU_SN1\"\n",
    "\n",
    "print(\"total count: %s\" % \n",
    "      col.find(\n",
    "        {}\n",
    "      ).count()\n",
    ")\n",
    "\n",
    "print(\"HU_SN1 count: %s\" % \n",
    "      col.find(\n",
    "        {'channels': \"HU_SN1\"}\n",
    "      ).count()\n",
    ")\n",
    "\n",
    "print(\"totalDocsExamined %s\" % \n",
    "    json.dumps(\n",
    "        col.find(\n",
    "            {'tranId': {\"$gt\" : 1}, \"channels\": \"HU_SN1\"},\n",
    "            {'_id':0, 'tranId':1}\n",
    "        ).explain()['executionStats']['totalDocsExamined'], \n",
    "        #).explain(),\n",
    "        indent=2, sort_keys=True      \n",
    "    )\n",
    ")\n",
    "\n",
    "print(\"\")\n",
    "print(\"Res\")\n",
    "print(\"---\")\n",
    "\n",
    "print(\n",
    "    json.dumps(\n",
    "        list(\n",
    "            col.find(\n",
    "                {'tranId': {\"$gt\" : 1}, \"channels\": \"HU_SN1\"},\n",
    "                {'_id':0, 'tranId':1}\n",
    "            )\n",
    "        ),\n",
    "        indent=2, sort_keys=True      \n",
    "    )\n",
    ")\n"
   ]
  },
  {
   "cell_type": "code",
   "execution_count": 9,
   "metadata": {},
   "outputs": [
    {
     "name": "stdout",
     "output_type": "stream",
     "text": [
      "total count: 3\n",
      "HU_SN1 count: 2\n",
      "totalDocsExamined 1\n"
     ]
    }
   ],
   "source": [
    "print(\"total count: %s\" % \n",
    "      col.find(\n",
    "        {}\n",
    "      ).count()\n",
    ")\n",
    "\n",
    "print(\"HU_SN1 count: %s\" % \n",
    "      col.find(\n",
    "        {'tranId': {\"$gt\" : 1}, \"channels\": \"HU_SN1\"}\n",
    "      ).count()\n",
    ")\n",
    "\n",
    "\n",
    "print(\"totalDocsExamined %s\" % \n",
    "    json.dumps(\n",
    "        col.find(\n",
    "            {'tranId': 1710101314291314},\n",
    "        ).explain()['executionStats']['totalDocsExamined'], \n",
    "        #).explain(),\n",
    "        indent=2, sort_keys=True      \n",
    "    )\n",
    ")"
   ]
  },
  {
   "cell_type": "code",
   "execution_count": 10,
   "metadata": {},
   "outputs": [
    {
     "name": "stdout",
     "output_type": "stream",
     "text": [
      "total count: 3\n",
      "HU_SN1 count: 2\n",
      "totalDocsExamined 2\n"
     ]
    }
   ],
   "source": [
    "chan=\"HU_SN1\"\n",
    "\n",
    "print(\"total count: %s\" % \n",
    "      col.find(\n",
    "        {}\n",
    "      ).count()\n",
    ")\n",
    "\n",
    "print(\"HU_SN1 count: %s\" % \n",
    "      col.find(\n",
    "        {'tranId': {\"$gt\" : 1}, \"channels\": \"HU_SN1\"}\n",
    "      ).count()\n",
    ")\n",
    "\n",
    "\n",
    "print(\"totalDocsExamined %s\" % \n",
    "    json.dumps(\n",
    "        col.find(\n",
    "            {'tranId': {\"$gt\" : 1},  \"channels\": \"HU_SN1\", \"lastPPDate\" : {\"$gt\": 2458160}}\n",
    "        ).explain()['executionStats']['totalDocsExamined'], \n",
    "        #).explain(),\n",
    "        indent=2, sort_keys=True      \n",
    "    )\n",
    ")"
   ]
  },
  {
   "cell_type": "code",
   "execution_count": 11,
   "metadata": {},
   "outputs": [
    {
     "data": {
      "text/plain": [
       "[{'tranId': 1710101314291314}, {'tranId': 1710101314291315}]"
      ]
     },
     "execution_count": 11,
     "metadata": {},
     "output_type": "execute_result"
    }
   ],
   "source": [
    "list(col.find(\n",
    "            {'tranId': {\"$gt\" : 1}, \"channels\": \"HU_SN1\"},\n",
    "            #{'tranId': {\"$gt\" : 1}, 'alDocType': 8, \"channels\": \"HU_SN1\"}, \n",
    "            #{'tranId': {\"$gt\" : 1}, 'alDocType': 8},\n",
    "            #{'_id':0, 'alDocType': 1, 'channels.%s' % chan: 1}\n",
    "            {'_id':0, 'tranId':1}\n",
    "        ))\n"
   ]
  }
 ],
 "metadata": {
  "kernelspec": {
   "display_name": "Python 3",
   "language": "python",
   "name": "python3"
  },
  "language_info": {
   "codemirror_mode": {
    "name": "ipython",
    "version": 3
   },
   "file_extension": ".py",
   "mimetype": "text/x-python",
   "name": "python",
   "nbconvert_exporter": "python",
   "pygments_lexer": "ipython3",
   "version": "3.6.4"
  }
 },
 "nbformat": 4,
 "nbformat_minor": 2
}
