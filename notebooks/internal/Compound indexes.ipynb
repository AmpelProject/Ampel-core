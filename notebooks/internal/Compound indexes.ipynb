{
 "cells": [
  {
   "cell_type": "code",
   "execution_count": 1,
   "metadata": {},
   "outputs": [],
   "source": [
    "from ampel.pipeline.t0.AlertProcessor import AlertProcessor\n",
    "from ampel.pipeline.t0.alerts.TarAlertLoader import TarAlertLoader\n",
    "from ampel.pipeline.t0.alerts.AlertSupplier import AlertSupplier\n",
    "from ampel.pipeline.t0.alerts.ZIAlertShaper import ZIAlertShaper\n",
    "from ampel.pipeline.t0.alerts.FileAlertLoader import FileAlertLoader\n",
    "from ampel.flags.AlDocTypes import AlDocTypes\n",
    "import pymongo, json"
   ]
  },
  {
   "cell_type": "code",
   "execution_count": 2,
   "metadata": {},
   "outputs": [],
   "source": [
    "mc=pymongo.MongoClient()\n",
    "db=mc.Ampel_testt\n",
    "col=db.docs\n",
    "mc.drop_database(\"Ampel_testt\")\n",
    "col=db.create_collection(\"docs\")"
   ]
  },
  {
   "cell_type": "code",
   "execution_count": 3,
   "metadata": {},
   "outputs": [
    {
     "name": "stdout",
     "output_type": "stream",
     "text": [
      "tranId_1_alDocType_1_channels_1\n"
     ]
    }
   ],
   "source": [
    "#print(col.ensure_index(\"alDocType\"))\n",
    "#print(col.ensure_index(\"tranId\"))\n",
    "\n",
    "#print(col.create_index([(\"tranId\", pymongo.ASCENDING), (\"channels\", pymongo.ASCENDING)]))\n",
    "#print(\n",
    "#    col.create_index(\n",
    "#        [\n",
    "#            (\"tranId\", pymongo.ASCENDING)\n",
    "#        ]\n",
    "#    )\n",
    "#)\n",
    "\n",
    "print(\n",
    "    col.create_index(\n",
    "        [\n",
    "            (\"tranId\", pymongo.ASCENDING), \n",
    "            (\"alDocType\", pymongo.ASCENDING), \n",
    "            (\"channels\", pymongo.ASCENDING)\n",
    "        ]\n",
    "    )\n",
    ")\n",
    "\n",
    "#print(\n",
    "#    col.create_index(\n",
    "#        [\n",
    "#            (\"alDocType\", pymongo.DESCENDING), \n",
    "#            (\"channels\", pymongo.DESCENDING)\n",
    "#        ],\n",
    "#        **{ \n",
    "#            \"partialFilterExpression\": {\n",
    "#                 \"alDocType\": {\n",
    "#                      \"$gt\": 1\n",
    "#                  }\n",
    "#            }\n",
    "#        }\n",
    "#    )\n",
    "#)\n",
    "#print(col.create_index([(\"channels\", pymongo.ASCENDING), (\"alDocType\", pymongo.ASCENDING)]))\n",
    "\n",
    "\n",
    "#print(col.create_index([(\"tranId\", pymongo.ASCENDING)]))\n",
    "#print(col.create_index([(\"alDocType\", pymongo.ASCENDING)]))"
   ]
  },
  {
   "cell_type": "code",
   "execution_count": 4,
   "metadata": {},
   "outputs": [
    {
     "data": {
      "text/plain": [
       "<pymongo.results.InsertOneResult at 0x107c15988>"
      ]
     },
     "execution_count": 4,
     "metadata": {},
     "output_type": "execute_result"
    }
   ],
   "source": [
    "col.insert_one({\n",
    "    \"alDocType\" : AlDocTypes.TRANSIENT,\n",
    "    \"tranId\" : 1710101314291314,\n",
    "    \"alFlags\" : [ \n",
    "        1, \n",
    "        5\n",
    "    ],\n",
    "    \"channels\" : [\n",
    "        \"HU_RANDOM\",\n",
    "        \"HU_SN1\"\n",
    "    ],\n",
    "    \"lastModified\" : [ \n",
    "        {\n",
    "            \"dt\" : 1526566138.78038,\n",
    "            \"tier\" : 0,\n",
    "            \"src\" : \"ZIAI\",\n",
    "            \"channels\" : [ \n",
    "                \"HU_RANDOM\", \n",
    "                \"HU_SN1\"\n",
    "            ]\n",
    "        }\n",
    "    ],\n",
    "    \"lastPPDate\" : 2458158.6052083,\n",
    "    \"modified\" : 1526566138.78038\n",
    "})\n",
    "col.insert_one({\n",
    "    \"alDocType\" : AlDocTypes.TRANSIENT,\n",
    "    \"tranId\" : 1710101314291315,\n",
    "    \"alFlags\" : [ \n",
    "        1, \n",
    "        5\n",
    "    ],\n",
    "    \"channels\" : [\n",
    "        \"HU_SN1\"\n",
    "    ],\n",
    "    \"lastModified\" : [ \n",
    "        {\n",
    "            \"dt\" : 1526566138.86913,\n",
    "            \"tier\" : 0,\n",
    "            \"src\" : \"ZIAI\",\n",
    "            \"channels\" : [ \n",
    "                \"HU_RANDOM\"\n",
    "            ]\n",
    "        }\n",
    "    ],\n",
    "    \"lastPPDate\" : 2458158.6052083,\n",
    "    \"modified\" : 1526566138.86913\n",
    "})\n",
    "col.insert_one({\n",
    "    \"alDocType\" : AlDocTypes.TRANSIENT,\n",
    "    \"tranId\" : 1710101314291316,\n",
    "    \"alFlags\" : [ \n",
    "        1, \n",
    "        5\n",
    "    ],\n",
    "    \"channels\" : [\n",
    "        \"HU_RANDOM\"    \n",
    "    ],\n",
    "    \"lastModified\" : [ \n",
    "        {\n",
    "            \"dt\" : 1526566138.95514,\n",
    "            \"tier\" : 0,\n",
    "            \"src\" : \"ZIAI\",\n",
    "            \"channels\" : [ \n",
    "                \"HU_RANDOM\"\n",
    "            ]\n",
    "        }\n",
    "    ],\n",
    "    \"lastPPDate\" : 2458158.6052083,\n",
    "    \"modified\" : 1526566138.95514\n",
    "})\n",
    "col.insert_one({\n",
    "    \"alDocType\" : AlDocTypes.PHOTOPOINT,\n",
    "    \"tranId\" : 1710101314291315,\n",
    "    \"magpsf\": 15\n",
    "})\n",
    "col.insert_one({\n",
    "    \"alDocType\" : AlDocTypes.PHOTOPOINT,\n",
    "    \"tranId\" : 1710101314291314,\n",
    "    \"magpsf\": 14\n",
    "})\n",
    "col.insert_one({\n",
    "    \"alDocType\" : AlDocTypes.PHOTOPOINT,\n",
    "    \"tranId\" : 1710101314291316,\n",
    "    \"magpsf\": 16\n",
    "})"
   ]
  },
  {
   "cell_type": "code",
   "execution_count": 5,
   "metadata": {},
   "outputs": [],
   "source": [
    "def review_query(match_dict, projection=None):\n",
    "    \n",
    "    print(\"total count: %s\" % col.find({}).count())\n",
    "    print(\"match count: %s\" %  col.find(match_dict, projection).count())\n",
    "    print(\"totalDocsExamined %s\" % \n",
    "        json.dumps(\n",
    "            col.find(match_dict, projection).explain()['executionStats']['totalDocsExamined'], \n",
    "            indent=2, sort_keys=True      \n",
    "        )\n",
    "    )\n",
    "\n",
    "    print(\"\\n\\n-------\")\n",
    "    print(\"Results\")\n",
    "    print(\"-------\")\n",
    "\n",
    "    try: \n",
    "        print(\n",
    "            json.dumps(\n",
    "                list(col.find(match_dict, projection)),\n",
    "                indent=2, sort_keys=True      \n",
    "            )\n",
    "        )\n",
    "    except:\n",
    "        print(\n",
    "            list(col.find(match_dict, projection))     \n",
    "        )"
   ]
  },
  {
   "cell_type": "markdown",
   "metadata": {},
   "source": [
    "# RESULTS\n",
    "# -----------"
   ]
  },
  {
   "cell_type": "code",
   "execution_count": 6,
   "metadata": {},
   "outputs": [
    {
     "name": "stdout",
     "output_type": "stream",
     "text": [
      "------------------------------------------\n",
      "RETURN IDS OF *ALL* TRAN DOCS (SIMPLE WAY)\n",
      "------------------------------------------\n",
      "total count: 6\n",
      "match count: 3\n",
      "totalDocsExamined 6\n",
      "\n",
      "\n",
      "-------\n",
      "Results\n",
      "-------\n",
      "[\n",
      "  {\n",
      "    \"tranId\": 1710101314291314\n",
      "  },\n",
      "  {\n",
      "    \"tranId\": 1710101314291315\n",
      "  },\n",
      "  {\n",
      "    \"tranId\": 1710101314291316\n",
      "  }\n",
      "]\n",
      "\n",
      "\n",
      "-----------------------------------------\n",
      "RETURN IDS OF *ALL* TRAN DOCS (RIGHT WAY)\n",
      "-----------------------------------------\n",
      "total count: 6\n",
      "match count: 3\n",
      "totalDocsExamined 0\n",
      "\n",
      "\n",
      "-------\n",
      "Results\n",
      "-------\n",
      "[\n",
      "  {\n",
      "    \"tranId\": 1710101314291314\n",
      "  },\n",
      "  {\n",
      "    \"tranId\": 1710101314291315\n",
      "  },\n",
      "  {\n",
      "    \"tranId\": 1710101314291316\n",
      "  }\n",
      "]\n"
     ]
    }
   ],
   "source": [
    "print(\"------------------------------------------\")\n",
    "print(\"RETURN IDS OF *ALL* TRAN DOCS (SIMPLE WAY)\")\n",
    "print(\"------------------------------------------\")\n",
    "\n",
    "review_query(\n",
    "    {\n",
    "        'alDocType': AlDocTypes.TRANSIENT, \n",
    "    }, \n",
    "    {'_id':0, 'tranId':1}\n",
    ")\n",
    "\n",
    "print(\"\\n\\n-----------------------------------------\")\n",
    "print(\"RETURN IDS OF *ALL* TRAN DOCS (RIGHT WAY)\")\n",
    "print(\"-----------------------------------------\")\n",
    "\n",
    "review_query(\n",
    "    {\n",
    "        'tranId': {'$gt': 1},\n",
    "        'alDocType': AlDocTypes.TRANSIENT\n",
    "    }, \n",
    "    {'_id':0, 'tranId':1}\n",
    ")\n"
   ]
  },
  {
   "cell_type": "code",
   "execution_count": 7,
   "metadata": {},
   "outputs": [
    {
     "name": "stdout",
     "output_type": "stream",
     "text": [
      "--------------------------------\n",
      "RETURN IDS OF *HU_SN1* TRAN DOCS\n",
      "--------------------------------\n",
      "total count: 6\n",
      "match count: 2\n",
      "totalDocsExamined 0\n",
      "\n",
      "\n",
      "-------\n",
      "Results\n",
      "-------\n",
      "[\n",
      "  {\n",
      "    \"tranId\": 1710101314291314\n",
      "  },\n",
      "  {\n",
      "    \"tranId\": 1710101314291315\n",
      "  }\n",
      "]\n"
     ]
    }
   ],
   "source": [
    "print(\"--------------------------------\")\n",
    "print(\"RETURN IDS OF *HU_SN1* TRAN DOCS\")\n",
    "print(\"--------------------------------\")\n",
    "\n",
    "review_query(\n",
    "    {\n",
    "        'tranId': {\"$gt\" : 1}, \n",
    "        'alDocType': 1, \n",
    "        \"channels\": \"HU_SN1\"\n",
    "    }, \n",
    "    {'_id':0, 'tranId':1}\n",
    ")"
   ]
  },
  {
   "cell_type": "code",
   "execution_count": 8,
   "metadata": {
    "scrolled": false
   },
   "outputs": [
    {
     "name": "stdout",
     "output_type": "stream",
     "text": [
      "---------------------------------\n",
      "RETURN ALL DOCS FOR GIVEN TRAN ID\n",
      "---------------------------------\n",
      "total count: 6\n",
      "match count: 2\n",
      "totalDocsExamined 2\n",
      "\n",
      "\n",
      "-------\n",
      "Results\n",
      "-------\n",
      "[{'_id': ObjectId('5b369bde6f21da1b2a820e42'), 'alDocType': 1, 'tranId': 1710101314291314, 'alFlags': [1, 5], 'channels': ['HU_RANDOM', 'HU_SN1'], 'lastModified': [{'dt': 1526566138.78038, 'tier': 0, 'src': 'ZIAI', 'channels': ['HU_RANDOM', 'HU_SN1']}], 'lastPPDate': 2458158.6052083, 'modified': 1526566138.78038}, {'_id': ObjectId('5b369bde6f21da1b2a820e46'), 'alDocType': 2, 'tranId': 1710101314291314, 'magpsf': 14}]\n"
     ]
    }
   ],
   "source": [
    "print(\"---------------------------------\")\n",
    "print(\"RETURN ALL DOCS FOR GIVEN TRAN ID\")\n",
    "print(\"---------------------------------\")\n",
    "\n",
    "review_query(\n",
    "    {'tranId': 1710101314291314}\n",
    ")"
   ]
  },
  {
   "cell_type": "code",
   "execution_count": 9,
   "metadata": {
    "scrolled": false
   },
   "outputs": [
    {
     "name": "stdout",
     "output_type": "stream",
     "text": [
      "---------------------------------------\n",
      "RETURN ALDCOTYPE DOCS FOR GIVEN TRAN ID\n",
      "---------------------------------------\n",
      "total count: 6\n",
      "match count: 1\n",
      "totalDocsExamined 1\n",
      "\n",
      "\n",
      "-------\n",
      "Results\n",
      "-------\n",
      "[{'_id': ObjectId('5b369bde6f21da1b2a820e46'), 'alDocType': 2, 'tranId': 1710101314291314, 'magpsf': 14}]\n"
     ]
    }
   ],
   "source": [
    "print(\"---------------------------------------\")\n",
    "print(\"RETURN ALDCOTYPE DOCS FOR GIVEN TRAN ID\")\n",
    "print(\"---------------------------------------\")\n",
    "\n",
    "review_query(\n",
    "    {'tranId': 1710101314291314, 'alDocType': {'$in': [AlDocTypes.PHOTOPOINT]}}\n",
    ")"
   ]
  },
  {
   "cell_type": "code",
   "execution_count": 10,
   "metadata": {},
   "outputs": [
    {
     "name": "stdout",
     "output_type": "stream",
     "text": [
      "-------------------------------------\n",
      "RETURN ALL TRANIDS FOR GIVEN CHANNEL \n",
      "-------------------------------------\n",
      "total count: 6\n",
      "match count: 2\n",
      "totalDocsExamined 0\n",
      "\n",
      "\n",
      "-------\n",
      "Results\n",
      "-------\n",
      "[\n",
      "  {\n",
      "    \"tranId\": 1710101314291314\n",
      "  },\n",
      "  {\n",
      "    \"tranId\": 1710101314291315\n",
      "  }\n",
      "]\n"
     ]
    }
   ],
   "source": [
    "print(\"-------------------------------------\")\n",
    "print(\"RETURN ALL TRANIDS FOR GIVEN CHANNEL \")\n",
    "print(\"-------------------------------------\")\n",
    "\n",
    "review_query(\n",
    "    {'tranId': {\"$gt\" : 1}, \"channels\": \"HU_SN1\"},\n",
    "    {'_id':0, 'tranId':1}\n",
    ")"
   ]
  },
  {
   "cell_type": "code",
   "execution_count": 11,
   "metadata": {},
   "outputs": [
    {
     "name": "stdout",
     "output_type": "stream",
     "text": [
      "-------------------------------\n",
      " COUNT SPECIFIC ALDOCTYPE DOCS \n",
      "-------------------------------\n",
      "total count: 6\n",
      "match count: 3\n",
      "totalDocsExamined 0\n",
      "\n",
      "\n",
      "-------\n",
      "Results\n",
      "-------\n",
      "[\n",
      "  {\n",
      "    \"tranId\": 1710101314291314\n",
      "  },\n",
      "  {\n",
      "    \"tranId\": 1710101314291315\n",
      "  },\n",
      "  {\n",
      "    \"tranId\": 1710101314291316\n",
      "  }\n",
      "]\n"
     ]
    }
   ],
   "source": [
    "print(\"-------------------------------\")\n",
    "print(\" COUNT SPECIFIC ALDOCTYPE DOCS \")\n",
    "print(\"-------------------------------\")\n",
    "\n",
    "review_query(\n",
    "    {'tranId': {\"$gt\" : 1}, \"alDocType\": AlDocTypes.PHOTOPOINT},\n",
    "    {'_id':0, 'tranId':1}\n",
    ")"
   ]
  }
 ],
 "metadata": {
  "kernelspec": {
   "display_name": "Python 3",
   "language": "python",
   "name": "python3"
  },
  "language_info": {
   "codemirror_mode": {
    "name": "ipython",
    "version": 3
   },
   "file_extension": ".py",
   "mimetype": "text/x-python",
   "name": "python",
   "nbconvert_exporter": "python",
   "pygments_lexer": "ipython3",
   "version": "3.6.4"
  }
 },
 "nbformat": 4,
 "nbformat_minor": 2
}
