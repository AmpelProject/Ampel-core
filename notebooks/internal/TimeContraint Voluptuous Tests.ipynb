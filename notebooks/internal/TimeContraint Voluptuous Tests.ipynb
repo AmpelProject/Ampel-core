{
 "cells": [
  {
   "cell_type": "code",
   "execution_count": 1,
   "metadata": {},
   "outputs": [],
   "source": [
    "from datetime import datetime, timedelta\n",
    "from voluptuous import Schema, Any, Required\n",
    "from ampel.pipeline.t3.TimeConstraint import TimeConstraint\n",
    "now = datetime.utcnow()"
   ]
  },
  {
   "cell_type": "code",
   "execution_count": 2,
   "metadata": {},
   "outputs": [],
   "source": [
    "# OK\n",
    "a={\"from\": {\"timeDelta\": {'days': -10}}}\n",
    "\n",
    "# will/should fail -> datetime instance cannot be used as timedelta parameter\n",
    "b={\"from\": {\"timeDelta\": now}} \n",
    "\n",
    "# will/should fail (wrong key, only 'from' and 'until' are accepted keys)\n",
    "c={\"timeDelta\": None} \n",
    "\n",
    "# OK\n",
    "d={\"until\": now}\n",
    "\n",
    "# OK\n",
    "e={\n",
    "    \"from\": {\"timeDelta\": {'days': -10}},\n",
    "     \"until\": now\n",
    "}\n",
    "\n",
    "# OK\n",
    "f=None"
   ]
  },
  {
   "cell_type": "code",
   "execution_count": 3,
   "metadata": {
    "scrolled": true
   },
   "outputs": [
    {
     "name": "stdout",
     "output_type": "stream",
     "text": [
      "\n",
      "a: working on {'from': {'timeDelta': {'days': -10}}}\n",
      "\n",
      "b: working on {'from': {'timeDelta': datetime.datetime(2018, 6, 28, 15, 49, 7, 499129)}}\n",
      "### expected dict for dictionary value @ data['from']['timeDelta'] ###\n",
      "\n",
      "c: working on {'timeDelta': None}\n",
      "### extra keys not allowed @ data['timeDelta'] ###\n",
      "\n",
      "d: working on {'until': datetime.datetime(2018, 6, 28, 15, 49, 7, 499129)}\n",
      "\n",
      "e: working on {'from': {'timeDelta': {'days': -10}}, 'until': datetime.datetime(2018, 6, 28, 15, 49, 7, 499129)}\n",
      "\n",
      "f: working on None\n"
     ]
    }
   ],
   "source": [
    "for letter, el in zip(['a','b','c','d','e','f'], [a,b,c,d,e,f]):\n",
    "    try:\n",
    "        print(\"\")\n",
    "        print(\"%s: working on %s\" % (letter, el))\n",
    "        TimeConstraint.json_root_schema(el)\n",
    "    except Exception as ex:\n",
    "        print(\"### %s ###\" % ex)\n"
   ]
  },
  {
   "cell_type": "code",
   "execution_count": 4,
   "metadata": {},
   "outputs": [],
   "source": [
    "from ampel.pipeline.t3.TimeConstraint import TimeConstraint"
   ]
  },
  {
   "cell_type": "code",
   "execution_count": 5,
   "metadata": {
    "scrolled": true
   },
   "outputs": [
    {
     "name": "stdout",
     "output_type": "stream",
     "text": [
      "\n",
      "a: working on {'from': {'timeDelta': {'days': -10}}}\n",
      "--- Schema validated ---\n",
      "\n",
      "b: working on {'from': {'timeDelta': datetime.datetime(2018, 6, 28, 15, 49, 7, 499129)}}\n",
      "### expected dict for dictionary value @ data['from']['timeDelta'] ###\n",
      "\n",
      "c: working on {'timeDelta': None}\n",
      "### extra keys not allowed @ data['timeDelta'] ###\n",
      "\n",
      "d: working on {'until': datetime.datetime(2018, 6, 28, 15, 49, 7, 499129)}\n",
      "--- Schema validated ---\n",
      "\n",
      "e: working on {'from': {'timeDelta': {'days': -10}}, 'until': datetime.datetime(2018, 6, 28, 15, 49, 7, 499129)}\n",
      "--- Schema validated ---\n",
      "\n",
      "f: working on None\n",
      "--- Schema validated ---\n"
     ]
    }
   ],
   "source": [
    "for letter, el in zip(['a','b','c','d','e','f'], [a,b,c,d,e,f]):\n",
    "    try:\n",
    "        print(\"\")\n",
    "        print(\"%s: working on %s\" % (letter, el))\n",
    "        TimeConstraint(el)\n",
    "        print(\"--- Schema validated ---\")\n",
    "    except Exception as ex:\n",
    "        print(\"### %s ###\" % ex)"
   ]
  },
  {
   "cell_type": "code",
   "execution_count": 6,
   "metadata": {},
   "outputs": [],
   "source": [
    "aa=TimeConstraint(a)"
   ]
  },
  {
   "cell_type": "code",
   "execution_count": 7,
   "metadata": {},
   "outputs": [
    {
     "data": {
      "text/plain": [
       "<ampel.pipeline.t3.TimeConstraint.TimeConstraint at 0x107099208>"
      ]
     },
     "execution_count": 7,
     "metadata": {},
     "output_type": "execute_result"
    }
   ],
   "source": [
    "aa"
   ]
  },
  {
   "cell_type": "code",
   "execution_count": 8,
   "metadata": {},
   "outputs": [
    {
     "data": {
      "text/plain": [
       "datetime.datetime(2018, 6, 18, 17, 49, 7, 585086)"
      ]
     },
     "execution_count": 8,
     "metadata": {},
     "output_type": "execute_result"
    }
   ],
   "source": [
    "aa.get_from()"
   ]
  },
  {
   "cell_type": "code",
   "execution_count": 9,
   "metadata": {},
   "outputs": [],
   "source": [
    "try:\n",
    "    aa.set_from(now)\n",
    "except Exception as e:\n",
    "    print(e)"
   ]
  },
  {
   "cell_type": "code",
   "execution_count": 10,
   "metadata": {
    "scrolled": true
   },
   "outputs": [
    {
     "data": {
      "text/plain": [
       "datetime.datetime(2018, 6, 28, 15, 49, 7, 499129)"
      ]
     },
     "execution_count": 10,
     "metadata": {},
     "output_type": "execute_result"
    }
   ],
   "source": [
    "aa.get_from()"
   ]
  },
  {
   "cell_type": "code",
   "execution_count": 11,
   "metadata": {},
   "outputs": [],
   "source": [
    "try:\n",
    "    aa.set_from({'timeDelta': {\"days\" : -40}})\n",
    "except Exception as e:\n",
    "    print(e)"
   ]
  },
  {
   "cell_type": "code",
   "execution_count": 12,
   "metadata": {},
   "outputs": [
    {
     "data": {
      "text/plain": [
       "datetime.datetime(2018, 5, 19, 17, 49, 7, 632800)"
      ]
     },
     "execution_count": 12,
     "metadata": {},
     "output_type": "execute_result"
    }
   ],
   "source": [
    "aa.get_from()"
   ]
  },
  {
   "cell_type": "code",
   "execution_count": 13,
   "metadata": {},
   "outputs": [
    {
     "data": {
      "text/plain": [
       "datetime.datetime(2018, 5, 19, 17, 49, 7, 640095)"
      ]
     },
     "execution_count": 13,
     "metadata": {},
     "output_type": "execute_result"
    }
   ],
   "source": [
    "aa.get_from()"
   ]
  },
  {
   "cell_type": "code",
   "execution_count": 14,
   "metadata": {},
   "outputs": [
    {
     "data": {
      "text/plain": [
       "{'from': {'timeDelta': {'days': -40}}, 'until': None}"
      ]
     },
     "execution_count": 14,
     "metadata": {},
     "output_type": "execute_result"
    }
   ],
   "source": [
    "aa.constraints"
   ]
  },
  {
   "cell_type": "code",
   "execution_count": 15,
   "metadata": {},
   "outputs": [],
   "source": [
    "aa.set_from(now)"
   ]
  },
  {
   "cell_type": "code",
   "execution_count": 16,
   "metadata": {},
   "outputs": [],
   "source": [
    "aa.set_until({'timeDelta': {\"minutes\" : -1}})"
   ]
  },
  {
   "cell_type": "code",
   "execution_count": 17,
   "metadata": {
    "scrolled": true
   },
   "outputs": [
    {
     "data": {
      "text/plain": [
       "{'from': datetime.datetime(2018, 6, 28, 15, 49, 7, 499129),\n",
       " 'until': {'timeDelta': {'minutes': -1}}}"
      ]
     },
     "execution_count": 17,
     "metadata": {},
     "output_type": "execute_result"
    }
   ],
   "source": [
    "aa.constraints"
   ]
  }
 ],
 "metadata": {
  "kernelspec": {
   "display_name": "Python 3",
   "language": "python",
   "name": "python3"
  },
  "language_info": {
   "codemirror_mode": {
    "name": "ipython",
    "version": 3
   },
   "file_extension": ".py",
   "mimetype": "text/x-python",
   "name": "python",
   "nbconvert_exporter": "python",
   "pygments_lexer": "ipython3",
   "version": "3.6.4"
  }
 },
 "nbformat": 4,
 "nbformat_minor": 2
}
