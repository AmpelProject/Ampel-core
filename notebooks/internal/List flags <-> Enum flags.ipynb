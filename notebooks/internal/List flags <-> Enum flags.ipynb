{
 "cells": [
  {
   "cell_type": "markdown",
   "metadata": {},
   "source": [
    "## List flags <-> Enum flags conversions\n",
    "This notebook quickly demonstrates how flags represented by a list of strings (possibly up to 1x nested) - typically used in T3 Job documents - are converted to enum flags"
   ]
  },
  {
   "cell_type": "code",
   "execution_count": 1,
   "metadata": {},
   "outputs": [],
   "source": [
    "from ampel.flags.FlagUtils import FlagUtils\n",
    "from ampel.flags.AlertFlags import AlertFlags"
   ]
  },
  {
   "cell_type": "markdown",
   "metadata": {},
   "source": [
    "### Simple list\n",
    "Elements are 'OR' connected"
   ]
  },
  {
   "cell_type": "code",
   "execution_count": 2,
   "metadata": {},
   "outputs": [
    {
     "data": {
      "text/plain": [
       "[<AlertFlags.INST_ZTF: 1>, <AlertFlags.SRC_IPAC: 16>]"
      ]
     },
     "execution_count": 2,
     "metadata": {},
     "output_type": "execute_result"
    }
   ],
   "source": [
    "FlagUtils.list_flags_to_enum_flags(\n",
    "    [\"INST_ZTF\", \"SRC_IPAC\"], \n",
    "    AlertFlags\n",
    ")"
   ]
  },
  {
   "cell_type": "markdown",
   "metadata": {},
   "source": [
    "### Nested list\n",
    "Elements are 'AND' connected"
   ]
  },
  {
   "cell_type": "code",
   "execution_count": 3,
   "metadata": {},
   "outputs": [
    {
     "data": {
      "text/plain": [
       "<AlertFlags.SRC_IPAC|INST_ZTF: 17>"
      ]
     },
     "execution_count": 3,
     "metadata": {},
     "output_type": "execute_result"
    }
   ],
   "source": [
    "FlagUtils.list_flags_to_enum_flags(\n",
    "    [[\"INST_ZTF\", \"SRC_IPAC\"]], \n",
    "    AlertFlags\n",
    ")"
   ]
  },
  {
   "cell_type": "markdown",
   "metadata": {},
   "source": [
    "### Advanced list\n",
    "Elements are 'OR' and 'AND' connected"
   ]
  },
  {
   "cell_type": "code",
   "execution_count": 5,
   "metadata": {},
   "outputs": [
    {
     "data": {
      "text/plain": [
       "[<AlertFlags.SRC_IPAC|INST_ZTF: 17>, <AlertFlags.SRC_NUGENS: 32>]"
      ]
     },
     "execution_count": 5,
     "metadata": {},
     "output_type": "execute_result"
    }
   ],
   "source": [
    "FlagUtils.list_flags_to_enum_flags(\n",
    "    [[\"INST_ZTF\", \"SRC_IPAC\"], \"SRC_NUGENS\"], \n",
    "    AlertFlags\n",
    ")"
   ]
  },
  {
   "cell_type": "markdown",
   "metadata": {},
   "source": [
    "### Consistency check: back and forth convertion"
   ]
  },
  {
   "cell_type": "code",
   "execution_count": 7,
   "metadata": {},
   "outputs": [
    {
     "data": {
      "text/plain": [
       "[['INST_ZTF', 'SRC_IPAC'], 'SRC_NUGENS']"
      ]
     },
     "execution_count": 7,
     "metadata": {},
     "output_type": "execute_result"
    }
   ],
   "source": [
    "FlagUtils.enum_flags_to_lists(\n",
    "    FlagUtils.list_flags_to_enum_flags(\n",
    "        [[\"INST_ZTF\", \"SRC_IPAC\"], \"SRC_NUGENS\"], \n",
    "        AlertFlags\n",
    "    )\n",
    ")"
   ]
  }
 ],
 "metadata": {
  "kernelspec": {
   "display_name": "Python 3",
   "language": "python",
   "name": "python3"
  },
  "language_info": {
   "codemirror_mode": {
    "name": "ipython",
    "version": 3
   },
   "file_extension": ".py",
   "mimetype": "text/x-python",
   "name": "python",
   "nbconvert_exporter": "python",
   "pygments_lexer": "ipython3",
   "version": "3.6.4"
  }
 },
 "nbformat": 4,
 "nbformat_minor": 2
}
