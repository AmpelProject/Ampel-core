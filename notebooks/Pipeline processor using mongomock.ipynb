{
 "cells": [
  {
   "cell_type": "code",
   "execution_count": 1,
   "metadata": {},
   "outputs": [],
   "source": [
    "from ampel.pipeline.t0.AlertProcessor import AlertProcessor\n",
    "from ampel.pipeline.config.MockConfigDB import MockConfigDB\n",
    "from ampel.view.DBDocVizualizer import DBDocVizualizer\n",
    "import mongomock"
   ]
  },
  {
   "cell_type": "code",
   "execution_count": 4,
   "metadata": {
    "scrolled": true
   },
   "outputs": [
    {
     "name": "stdout",
     "output_type": "stream",
     "text": [
      "2018-03-16 02:16:38 MockConfigDB.py:37 __init__() INFO Importing db docs from ../config/hu//channels/config.json\n",
      "2018-03-16 02:16:38 MockConfigDB.py:37 __init__() INFO Importing db docs from ../config/hu//global/config.json\n",
      "2018-03-16 02:16:38 MockConfigDB.py:37 __init__() INFO Importing db docs from ../config/hu//t0_filters/config.json\n",
      "2018-03-16 02:16:38 MockConfigDB.py:37 __init__() INFO Importing db docs from ../config/hu//t2_run_config/config.json\n",
      "2018-03-16 02:16:38 MockConfigDB.py:37 __init__() INFO Importing db docs from ../config/hu//t2_units/config.json\n",
      "2018-03-16 02:16:38 MockConfigDB.py:37 __init__() INFO Importing db docs from ../config/hu//t3_jobs/config.json\n",
      "2018-03-16 02:16:38 MockConfigDB.py:37 __init__() INFO Importing db docs from ../config/hu//t3_run_config/config.json\n",
      "2018-03-16 02:16:38 MockConfigDB.py:37 __init__() INFO Importing db docs from ../config/hu//t3_units/config.json\n"
     ]
    }
   ],
   "source": [
    "mdb = MockConfigDB(\"../config/hu/\")"
   ]
  },
  {
   "cell_type": "code",
   "execution_count": 2,
   "metadata": {},
   "outputs": [],
   "source": [
    "output_db = mongomock.MongoClient()"
   ]
  },
  {
   "cell_type": "code",
   "execution_count": 6,
   "metadata": {},
   "outputs": [
    {
     "name": "stdout",
     "output_type": "stream",
     "text": [
      "2018-03-16 02:17:18 AlertProcessor.py:76 __init__() INFO Setting up new AlertProcessor instance\n",
      "2018-03-16 02:17:18 AlertProcessor.py:160 plug_input_db() INFO input_db type is wether str, <class 'pymongo.mongo_client.MongoClient'> or <class 'pymongo.database.Database'>\n",
      "2018-03-16 02:17:18 AlertProcessor.py:234 plug_output_dbs() INFO type(output_db) is wether str, <class 'pymongo.mongo_client.MongoClient'> or <class 'pymongo.database.Database'>\n",
      "2018-03-16 02:17:18 AlertProcessor.py:118 __init__() INFO AlertProcessor initial setup completed\n"
     ]
    }
   ],
   "source": [
    "ap=AlertProcessor(input_db=mdb.get_config_db(), output_db=output_db, load_channels=False)\n",
    "#ap=AlertProcessor(input_db=mdb.get_config_db())"
   ]
  },
  {
   "cell_type": "code",
   "execution_count": 7,
   "metadata": {},
   "outputs": [
    {
     "name": "stdout",
     "output_type": "stream",
     "text": [
      "2018-03-16 02:17:31 Channel.py:190 ready_t0() INFO Loading filter: BasicFilter\n",
      "2018-03-16 02:17:31 Channel.py:205 ready_t0() INFO    Full class path: ampel.pipeline.t0.filters.BasicFilter\n",
      "2018-03-16 02:17:31 BasicFilter.py:42 __init__() INFO Following BasicFilter criteria were configured: {'operator': <built-in function gt>, 'criteria': [{'rb': 0.8, 'operator': '>'}, {'fid': 1, 'operator': '='}, {'mag': 18, 'operator': '<'}], 'len': 3}\n",
      "2018-03-16 02:17:31 Channel.py:218 ready_t0() INFO    Version: 1.0\n",
      "2018-03-16 02:17:31 Channel.py:219 ready_t0() INFO    On match flags: T2UnitIds.PHOTO_TYPE|PHOTO_Z|AGN|SNCOSMO\n"
     ]
    }
   ],
   "source": [
    "ap.load_channel(\"HU_SN1\")"
   ]
  },
  {
   "cell_type": "code",
   "execution_count": 8,
   "metadata": {
    "scrolled": false
   },
   "outputs": [
    {
     "name": "stdout",
     "output_type": "stream",
     "text": [
      "2018-03-16 02:17:39 AlertFileList.py:32 set_folder() DEBUG Target incoming folder: ../alerts/ipac/\n",
      "2018-03-16 02:17:39 AlertFileList.py:46 set_max_entries() DEBUG Max entries set to: 1\n",
      "2018-03-16 02:17:39 AlertProcessor.py:423 run_iterable_paths() INFO Returning iterable for file paths in folder: ../alerts/ipac/\n",
      "2018-03-16 02:17:39 AlertFileList.py:57 build_file_list() DEBUG Building internal file list\n",
      "2018-03-16 02:17:39 AlertFileList.py:79 build_file_list() DEBUG Filtering files using max_entries criterium\n",
      "2018-03-16 02:17:39 AlertFileList.py:84 build_file_list() DEBUG File list contains 1 elements\n",
      "2018-03-16 02:17:39 AlertProcessor.py:446 run() INFO Executing run method\n",
      "2018-03-16 02:17:39 AlertProcessor.py:479 run() INFO #######     Processing alerts     #######\n",
      "2018-03-16 02:17:39 ZIAlertIngester.py:68 configure() INFO Configuring ZIAlertIngester with channels ['HU_SN1']\n",
      "2018-03-16 02:17:39 AlertProcessor.py:528 run() DEBUG Processing: ../alerts/ipac/121540793515135000.avro\n",
      "2018-03-16 02:17:39 AlertProcessor.py:534 run() INFO Processing alert: ZTF18aaaaaac\n",
      "2018-03-16 02:17:39 AlertProcessor.py:551 run() INFO  -> Channel 'HU_SN1': alert passes filter criteria\n",
      "2018-03-16 02:17:39 AlertProcessor.py:571 run() DEBUG  -> Ingesting alert\n",
      "2018-03-16 02:17:39 ZIAlertIngester.py:139 ingest() INFO Checking DB for existing pps\n",
      "2018-03-16 02:17:39 ZIAlertIngester.py:165 ingest() INFO Transient is new\n",
      "2018-03-16 02:17:39 ZIAlertIngester.py:241 ingest() INFO 89 new pp(s) will be inserted into DB: {-1265597146155008, -1265597146155007, -1265601746155006, -121540793515115005, -121540793515115004, -121540793515115003, -1265601746155004, -121540793515115001, -121540793515115000, -1265597146155003, -1265601746155000, -1265597146155001, -1335861946155005, -1335861946155002, -1505861946155002, -1335861946155001, -1335861946155000, -1335866546155000, -1365177446155001, -1365177446155000, -1365177446155003, -1505861946155001, -1505861946155000, -1365177446155002, -1395973246155008, -1435601746155012, -1395973246155007, -1395973246155006, -1435601746155010, -1225973246155005, -1225973246155004, -1435601746155008, -1225973246155003, -1395973246155003, -1365172746155011, -1435601746155007, -1225973246155002, -1395973246155002, -1435601746155006, -1225973246155001, -1395973246155001, -1265601746155005, -1225973246155000, -1395973246155000, -1435601746155005, -1435601746155004, -1365172746155007, -1265601746155003, -1365172746155006, -1435601746155003, -1265601746155002, -1365172746155005, -1365172746155004, -1435601746155000, -1365172746155003, -1365172746155001, -1365172746155000, -1335866546155007, -1335866546155005, -1335866546155003, -1335866546155002, -1335866546155001, -1505866546155001, -1505866546155000, -1245332035155005, -1215412535155004, -1215412535155003, -1215412535155002, -1245346135155001, -1215412535155000, -1245346135155000, -1245346135155003, -1245346135155002, -1245332035155003, -1245332035155002, -1245332035155001, -1265597146155006, -1265597146155005, -1435597146155004, -1265597146155004, -1435597146155003, -1265597146155002, -1435597146155001, -121540793515135000, -1435597146155000, -1365172746155012, -1365177446155004, -1365172746155010, -1365172746155009}\n",
      "2018-03-16 02:17:39 CompoundGenerator.py:368 generate() INFO Compound generated for channel HU_SN1. CompoundId: d320dea78eec75cbc0cee7601da52a3f\n",
      "2018-03-16 02:17:39 ZIAlertIngester.py:336 ingest() DEBUG Generating T2 docs\n",
      "2018-03-16 02:17:39 ZIAlertIngester.py:390 ingest() INFO 4 T2 docs will be inserted into DB\n",
      "2018-03-16 02:17:39 ZIAlertIngester.py:399 ingest() INFO Updating transient document\n",
      "2018-03-16 02:17:39 AlertProcessor.py:578 run() ERROR \n",
      "Traceback (most recent call last):\n",
      "  File \"/Users/hu/Documents/ZTF/Ampel/src/ampel/pipeline/t0/AlertProcessor.py\", line 572, in run\n",
      "    ingest(trans_id, pps_list, scheduled_t2_runnables)\n",
      "  File \"/Users/hu/Documents/ZTF/Ampel/src/ampel/pipeline/t0/ingesters/ZIAlertIngester.py\", line 441, in ingest\n",
      "    result = self.col.bulk_write(db_ops)\n",
      "  File \"/Library/Frameworks/Python.framework/Versions/3.6/lib/python3.6/site-packages/mongomock/collection.py\", line 1667, in bulk_write\n",
      "    operation._add_to_bulk(bulk)\n",
      "  File \"/Library/Frameworks/Python.framework/Versions/3.6/lib/python3.6/site-packages/pymongo/operations.py\", line 258, in _add_to_bulk\n",
      "    array_filters=self._array_filters)\n",
      "TypeError: add_update() got an unexpected keyword argument 'array_filters'\n",
      "2018-03-16 02:17:39 AlertProcessor.py:579 run() CRITICAL Exception occured\n",
      "2018-03-16 02:17:39 AlertProcessor.py:589 run() INFO Alert processing completed (time required: 0s)\n"
     ]
    }
   ],
   "source": [
    "ap.run_iterable_paths(base_dir='../alerts/ipac/', max_entries=1)"
   ]
  },
  {
   "cell_type": "code",
   "execution_count": null,
   "metadata": {
    "scrolled": true
   },
   "outputs": [],
   "source": [
    "vi = DBDocVizualizer()\n",
    "vi.markup_print_db_entry(\n",
    "    output_db['Ampel']['main'].find({})\n",
    ")"
   ]
  }
 ],
 "metadata": {
  "kernelspec": {
   "display_name": "Python 3",
   "language": "python",
   "name": "python3"
  },
  "language_info": {
   "codemirror_mode": {
    "name": "ipython",
    "version": 3
   },
   "file_extension": ".py",
   "mimetype": "text/x-python",
   "name": "python",
   "nbconvert_exporter": "python",
   "pygments_lexer": "ipython3",
   "version": "3.6.4"
  }
 },
 "nbformat": 4,
 "nbformat_minor": 2
}
