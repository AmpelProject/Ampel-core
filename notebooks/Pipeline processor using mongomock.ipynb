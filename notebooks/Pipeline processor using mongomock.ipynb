{
 "cells": [
  {
   "cell_type": "code",
   "execution_count": 1,
   "metadata": {},
   "outputs": [],
   "source": [
    "from ampel.pipeline.t0.AlertProcessor import AlertProcessor\n",
    "from ampel.pipeline.config.MockConfigDB import MockConfigDB\n",
    "from ampel.view.DBDocVizualizer import DBDocVizualizer\n",
    "import mongomock"
   ]
  },
  {
   "cell_type": "code",
   "execution_count": 2,
   "metadata": {
    "scrolled": true
   },
   "outputs": [
    {
     "name": "stdout",
     "output_type": "stream",
     "text": [
      "2018-03-04 23:23:22 MockConfigDB.py:28 __init__() INFO Importing db docs from ../config/hu//channels/config.json\n",
      "2018-03-04 23:23:22 MockConfigDB.py:28 __init__() INFO Importing db docs from ../config/hu//global/config.json\n",
      "2018-03-04 23:23:22 MockConfigDB.py:28 __init__() INFO Importing db docs from ../config/hu//t1/config.json\n",
      "2018-03-04 23:23:22 MockConfigDB.py:28 __init__() INFO Importing db docs from ../config/hu//t2_run_settings/config.json\n",
      "2018-03-04 23:23:22 MockConfigDB.py:28 __init__() INFO Importing db docs from ../config/hu//t2_units/config.json\n",
      "2018-03-04 23:23:22 MockConfigDB.py:28 __init__() INFO Importing db docs from ../config/hu//t3_jobs/config.json\n",
      "2018-03-04 23:23:22 MockConfigDB.py:28 __init__() INFO Importing db docs from ../config/hu//t3_run_settings/config.json\n",
      "2018-03-04 23:23:22 MockConfigDB.py:28 __init__() INFO Importing db docs from ../config/hu//t3_units/config.json\n"
     ]
    }
   ],
   "source": [
    "mdb = MockConfigDB(\"../config/hu/\")"
   ]
  },
  {
   "cell_type": "code",
   "execution_count": 3,
   "metadata": {},
   "outputs": [],
   "source": [
    "output_db = mongomock.MongoClient()"
   ]
  },
  {
   "cell_type": "code",
   "execution_count": 4,
   "metadata": {},
   "outputs": [
    {
     "name": "stdout",
     "output_type": "stream",
     "text": [
      "2018-03-04 23:23:22 AlertProcessor.py:59 __init__() INFO Setting up new AlertProcessor instance\n",
      "2018-03-04 23:23:22 Channel.py:175 ready_t0() INFO Loading filter: ampel.contrib.hu.t0.SNFilter\n",
      "2018-03-04 23:23:22 Channel.py:182 ready_t0() INFO On match flags: T2UnitIds.AGN|SNCOSMO\n",
      "2018-03-04 23:23:22 Channel.py:175 ready_t0() INFO Loading filter: ampel.contrib.hu.t0.NoFilter\n",
      "2018-03-04 23:23:22 Channel.py:182 ready_t0() INFO On match flags: T2UnitIds.PHOTO_TYPE|PHOTO_Z|AGN|SNCOSMO\n",
      "2018-03-04 23:23:22 Channel.py:175 ready_t0() INFO Loading filter: ampel.pipeline.t0.filters.BasicMultiFilter\n",
      "2018-03-04 23:23:22 Channel.py:182 ready_t0() INFO On match flags: T2UnitIds.PHOTO_TYPE|SNCOSMO|POLYFIT\n",
      "2018-03-04 23:23:22 Channel.py:175 ready_t0() INFO Loading filter: ampel.contrib.hu.t0.RandFilter\n",
      "2018-03-04 23:23:22 Channel.py:182 ready_t0() INFO On match flags: T2UnitIds.PHOTO_TYPE|AGN|SNCOSMO\n",
      "2018-03-04 23:23:22 AlertProcessor.py:77 __init__() INFO AlertProcessor initial setup completed\n"
     ]
    }
   ],
   "source": [
    "ap=AlertProcessor(input_db=mdb.get_config_db(), output_db=output_db)\n",
    "#ap=AlertProcessor(input_db=mdb.get_config_db())"
   ]
  },
  {
   "cell_type": "code",
   "execution_count": null,
   "metadata": {
    "scrolled": false
   },
   "outputs": [],
   "source": [
    "ap.run_iterable_paths(base_dir='../alerts/ipac/', max_entries=1)"
   ]
  },
  {
   "cell_type": "code",
   "execution_count": null,
   "metadata": {
    "scrolled": true
   },
   "outputs": [],
   "source": [
    "vi = DBDocVizualizer()\n",
    "vi.markup_print_db_entry(\n",
    "    output_db['Ampel']['main'].find({})\n",
    ")"
   ]
  }
 ],
 "metadata": {
  "kernelspec": {
   "display_name": "Python 3",
   "language": "python",
   "name": "python3"
  },
  "language_info": {
   "codemirror_mode": {
    "name": "ipython",
    "version": 3
   },
   "file_extension": ".py",
   "mimetype": "text/x-python",
   "name": "python",
   "nbconvert_exporter": "python",
   "pygments_lexer": "ipython3",
   "version": "3.6.4"
  }
 },
 "nbformat": 4,
 "nbformat_minor": 2
}
