{
 "cells": [
  {
   "cell_type": "code",
   "execution_count": 1,
   "metadata": {},
   "outputs": [],
   "source": [
    "from ampel.pipeline.t0.AlertProcessor import AlertProcessor"
   ]
  },
  {
   "cell_type": "code",
   "execution_count": 2,
   "metadata": {},
   "outputs": [
    {
     "name": "stderr",
     "output_type": "stream",
     "text": [
      "2018-01-07 16:24:55 LoggingUtils.py:49 add_db_log_handler() INFO Attaching mongo log handler to Ampel logger\n",
      "2018-01-07 16:24:55 AlertProcessor.py:170 __create_channel() INFO Setting up channel: SN\n",
      "2018-01-07 16:24:55 AlertProcessor.py:179 __create_channel() INFO Loading filter: SNFilter\n",
      "2018-01-07 16:24:55 AlertProcessor.py:186 __create_channel() INFO On match flags: T2ModuleIds.PHOTO_TYPE|PHOTO_Z|AGN|SNCOSMO\n",
      "2018-01-07 16:24:55 AlertProcessor.py:170 __create_channel() INFO Setting up channel: Random\n",
      "2018-01-07 16:24:55 AlertProcessor.py:179 __create_channel() INFO Loading filter: RandFilter\n",
      "2018-01-07 16:24:55 AlertProcessor.py:186 __create_channel() INFO On match flags: T2ModuleIds.PHOTO_TYPE|AGN|SNCOSMO\n"
     ]
    }
   ],
   "source": [
    "ppl=AlertProcessor()"
   ]
  },
  {
   "cell_type": "code",
   "execution_count": 3,
   "metadata": {},
   "outputs": [
    {
     "name": "stderr",
     "output_type": "stream",
     "text": [
      "2018-01-07 16:26:01 AlertFileList.py:26 set_folder() DEBUG Target incoming folder: /Users/hu/Documents/ZTF/Ampel/alerts/\n",
      "2018-01-07 16:26:01 AlertProcessor.py:235 get_iterable_paths() INFO Returning iterable for file paths in folder: /Users/hu/Documents/ZTF/Ampel/alerts/\n",
      "2018-01-07 16:26:01 AlertFileList.py:45 build_file_list() DEBUG Building internal file list\n",
      "2018-01-07 16:26:01 AlertFileList.py:74 build_file_list() DEBUG File list contains 1 elements\n"
     ]
    }
   ],
   "source": [
    "file_paths = ppl.get_iterable_paths()"
   ]
  },
  {
   "cell_type": "code",
   "execution_count": null,
   "metadata": {},
   "outputs": [],
   "source": [
    "ppl.run(file_paths)"
   ]
  },
  {
   "cell_type": "code",
   "execution_count": null,
   "metadata": {},
   "outputs": [],
   "source": []
  }
 ],
 "metadata": {
  "kernelspec": {
   "display_name": "Python 3",
   "language": "python",
   "name": "python3"
  },
  "language_info": {
   "codemirror_mode": {
    "name": "ipython",
    "version": 3
   },
   "file_extension": ".py",
   "mimetype": "text/x-python",
   "name": "python",
   "nbconvert_exporter": "python",
   "pygments_lexer": "ipython3",
   "version": "3.6.3"
  }
 },
 "nbformat": 4,
 "nbformat_minor": 2
}
