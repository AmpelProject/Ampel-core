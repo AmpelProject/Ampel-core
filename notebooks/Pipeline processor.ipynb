{
 "cells": [
  {
   "cell_type": "code",
   "execution_count": null,
   "metadata": {},
   "outputs": [],
   "source": [
    "from ampel.pipeline.t0.AlertProcessor import AlertProcessor"
   ]
  },
  {
   "cell_type": "code",
   "execution_count": null,
   "metadata": {
    "scrolled": true
   },
   "outputs": [],
   "source": [
    "ap=AlertProcessor(\n",
    "    base_dbs={'transients': 'Ampel_test', 'jobs': 'Ampel_job_test'}, \n",
    "    load_channels=False\n",
    ")"
   ]
  },
  {
   "cell_type": "code",
   "execution_count": null,
   "metadata": {
    "scrolled": false
   },
   "outputs": [],
   "source": [
    "ap.load_channel(\"HU_NO_FILTER\")"
   ]
  },
  {
   "cell_type": "code",
   "execution_count": null,
   "metadata": {
    "scrolled": true
   },
   "outputs": [],
   "source": [
    "from ampel.pipeline.t0.alerts.AlertFileLoader import AlertFileLoader\n",
    "from ampel.pipeline.t0.alerts.AlertSupplier import AlertSupplier\n",
    "from ampel.pipeline.t0.alerts.JSONDeserializer import JSONDeserializer\n",
    "afl = AlertFileLoader('/Users/hu/Documents/ZTF/Ampel/alerts/test_alert.json')\n",
    "alert_supplier = AlertSupplier(afl, ap.alert_parser, JSONDeserializer())\n",
    "ap.run(alert_supplier)"
   ]
  },
  {
   "cell_type": "code",
   "execution_count": null,
   "metadata": {
    "scrolled": true
   },
   "outputs": [],
   "source": [
    "from ampel.pipeline.t0.alerts.TarballWalker import TarballWalker\n",
    "from ampel.pipeline.t0.alerts.AlertSupplier import AlertSupplier\n",
    "from ampel.pipeline.t0.alerts.AvroDeserializer import AvroDeserializer\n",
    "\n",
    "tb_walker = TarballWalker('/Users/hu/Documents/ZTF/Ampel/alerts/tar.tst.gz')\n",
    "alert_supplier = AlertSupplier(tb_walker, ap.alert_parser, AvroDeserializer())\n",
    "ap.run(alert_supplier)"
   ]
  },
  {
   "cell_type": "code",
   "execution_count": null,
   "metadata": {},
   "outputs": [],
   "source": [
    "ap.process_alert_folder(base_dir='../alerts/latest/20180209/', max_entries=150)"
   ]
  },
  {
   "cell_type": "code",
   "execution_count": null,
   "metadata": {},
   "outputs": [],
   "source": [
    "mc = ap.mongo_client"
   ]
  },
  {
   "cell_type": "code",
   "execution_count": null,
   "metadata": {},
   "outputs": [],
   "source": [
    "db = mc[\"Ampel\"]"
   ]
  },
  {
   "cell_type": "code",
   "execution_count": null,
   "metadata": {},
   "outputs": [],
   "source": [
    "col=db[\"main\"]"
   ]
  },
  {
   "cell_type": "code",
   "execution_count": null,
   "metadata": {},
   "outputs": [],
   "source": [
    "col.find({})"
   ]
  },
  {
   "cell_type": "code",
   "execution_count": null,
   "metadata": {
    "scrolled": true
   },
   "outputs": [],
   "source": [
    "list(col.find({}))"
   ]
  },
  {
   "cell_type": "code",
   "execution_count": null,
   "metadata": {},
   "outputs": [],
   "source": [
    "from ampel.view.DBDocVizualizer import DBDocVizualizer"
   ]
  },
  {
   "cell_type": "code",
   "execution_count": null,
   "metadata": {},
   "outputs": [],
   "source": [
    "vi = DBDocVizualizer()"
   ]
  },
  {
   "cell_type": "code",
   "execution_count": null,
   "metadata": {},
   "outputs": [],
   "source": [
    "vi.markup_pr int_db_entry(col.find({}))"
   ]
  }
 ],
 "metadata": {
  "kernelspec": {
   "display_name": "Python 3",
   "language": "python",
   "name": "python3"
  },
  "language_info": {
   "codemirror_mode": {
    "name": "ipython",
    "version": 3
   },
   "file_extension": ".py",
   "mimetype": "text/x-python",
   "name": "python",
   "nbconvert_exporter": "python",
   "pygments_lexer": "ipython3",
   "version": "3.6.4"
  }
 },
 "nbformat": 4,
 "nbformat_minor": 2
}
