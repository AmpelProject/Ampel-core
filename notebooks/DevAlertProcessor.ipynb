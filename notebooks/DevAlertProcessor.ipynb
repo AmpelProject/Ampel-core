{
 "cells": [
  {
   "cell_type": "markdown",
   "metadata": {},
   "source": [
    "# Create test filter"
   ]
  },
  {
   "cell_type": "code",
   "execution_count": 1,
   "metadata": {
    "scrolled": true
   },
   "outputs": [],
   "source": [
    "from random import choice\n",
    "from ampel.abstract.AbsAlertFilter import AbsAlertFilter\n",
    "\n",
    "class RandFilter(AbsAlertFilter):\n",
    "    version=1.0\n",
    "    def __init__(self, on_match_t2_units=[\"SNCOSMO\"], base_config=None, run_config=None, logger=None):\n",
    "        self.on_match_t2_units = on_match_t2_units\n",
    "    def apply(self, ampel_alert):\n",
    "        return choice([self.on_match_t2_units, None])"
   ]
  },
  {
   "cell_type": "markdown",
   "metadata": {},
   "source": [
    "# Run _DevAlertProcessor_ on tarball"
   ]
  },
  {
   "cell_type": "code",
   "execution_count": 2,
   "metadata": {
    "scrolled": false
   },
   "outputs": [
    {
     "name": "stdout",
     "output_type": "stream",
     "text": [
      "2018-06-08 15:40:28 INFO + Ingesting 404105201415015000 (objectId: ZTF18aaawcpm)\n",
      "2018-06-08 15:40:28 INFO + Ingesting 404105201415015001 (objectId: ZTF18aaawcpo)\n",
      "2018-06-08 15:40:28 INFO - Rejecting 404105201415015002 (objectId: ZTF18aaawcpp)\n",
      "2018-06-08 15:40:28 INFO - Rejecting 404105201415015003 (objectId: ZTF17aadetde)\n",
      "2018-06-08 15:40:28 INFO + Ingesting 404105201415015004 (objectId: ZTF18aaawcpn)\n",
      "2018-06-08 15:40:28 INFO + Ingesting 404105201415015005 (objectId: ZTF18aaawcpq)\n",
      "2018-06-08 15:40:28 INFO - Rejecting 404105203015010000 (objectId: ZTF17aaaqneg)\n",
      "2018-06-08 15:40:28 INFO + Ingesting 404105203015010001 (objectId: ZTF18aaawcpv)\n",
      "2018-06-08 15:40:28 INFO - Rejecting 404105203015015005 (objectId: ZTF18aaawcpt)\n",
      "2018-06-08 15:40:28 INFO - Rejecting 404105203015015006 (objectId: ZTF18aaawcpu)\n",
      "2018-06-08 15:40:28 INFO + Ingesting 404105203015015009 (objectId: ZTF18aaawcps)\n",
      "2018-06-08 15:40:28 INFO - Rejecting 404105203015015010 (objectId: ZTF18aaawcpr)\n",
      "2018-06-08 15:40:28 INFO - Rejecting 404105691415010001 (objectId: ZTF17aaacaku)\n",
      "2018-06-08 15:40:28 INFO + Ingesting 404105691415010002 (objectId: ZTF17aacbfiq)\n",
      "2018-06-08 15:40:28 INFO - Rejecting 404105691415010003 (objectId: ZTF17aacbfir)\n",
      "2018-06-08 15:40:28 INFO + Ingesting 404105691415010005 (objectId: ZTF17aabuhiv)\n",
      "2018-06-08 15:40:28 INFO - Rejecting 404105691415015000 (objectId: ZTF18aaawcqf)\n",
      "2018-06-08 15:40:28 INFO - Rejecting 404105691415015002 (objectId: ZTF18aaawcqe)\n",
      "2018-06-08 15:40:28 INFO + Ingesting 404105693015010000 (objectId: ZTF17aaaafxk)\n",
      "2018-06-08 15:40:28 INFO + Ingesting 404105693015010001 (objectId: ZTF18aaawcqz)\n",
      "2018-06-08 15:40:28 INFO + Ingesting 404105693015010002 (objectId: ZTF17aaabaox)\n",
      "2018-06-08 15:40:28 INFO 21 alert(s) processed (time required: 0s)\n"
     ]
    },
    {
     "data": {
      "text/plain": [
       "21"
      ]
     },
     "execution_count": 2,
     "metadata": {},
     "output_type": "execute_result"
    }
   ],
   "source": [
    "from ampel.pipeline.t0.DevAlertProcessor import DevAlertProcessor\n",
    "dap = DevAlertProcessor(RandFilter())\n",
    "dap.process_tar('../alerts/tar.tst.gz')"
   ]
  },
  {
   "cell_type": "code",
   "execution_count": 3,
   "metadata": {
    "scrolled": true
   },
   "outputs": [
    {
     "data": {
      "text/plain": [
       "[<ampel.base.AmpelAlert.AmpelAlert at 0x105e24ba8>,\n",
       " <ampel.base.AmpelAlert.AmpelAlert at 0x106175240>,\n",
       " <ampel.base.AmpelAlert.AmpelAlert at 0x10618cef0>,\n",
       " <ampel.base.AmpelAlert.AmpelAlert at 0x1061c3be0>,\n",
       " <ampel.base.AmpelAlert.AmpelAlert at 0x1062399b0>,\n",
       " <ampel.base.AmpelAlert.AmpelAlert at 0x10624bf28>,\n",
       " <ampel.base.AmpelAlert.AmpelAlert at 0x1062bb6d8>,\n",
       " <ampel.base.AmpelAlert.AmpelAlert at 0x106175710>,\n",
       " <ampel.base.AmpelAlert.AmpelAlert at 0x106364eb8>,\n",
       " <ampel.base.AmpelAlert.AmpelAlert at 0x1062dd940>,\n",
       " <ampel.base.AmpelAlert.AmpelAlert at 0x10639b0f0>]"
      ]
     },
     "execution_count": 3,
     "metadata": {},
     "output_type": "execute_result"
    }
   ],
   "source": [
    "dap.get_accepted_alerts()"
   ]
  },
  {
   "cell_type": "markdown",
   "metadata": {},
   "source": [
    "# Run _DevAlertProcessor_ on previously accepted alerts"
   ]
  },
  {
   "cell_type": "code",
   "execution_count": 4,
   "metadata": {
    "scrolled": false
   },
   "outputs": [
    {
     "name": "stdout",
     "output_type": "stream",
     "text": [
      "2018-06-08 15:40:28 INFO + Ingesting 404105201415015000 (objectId: ZTF18aaawcpm)\n",
      "2018-06-08 15:40:28 INFO + Ingesting 404105201415015001 (objectId: ZTF18aaawcpo)\n",
      "2018-06-08 15:40:28 INFO - Rejecting 404105201415015004 (objectId: ZTF18aaawcpn)\n",
      "2018-06-08 15:40:28 INFO + Ingesting 404105201415015005 (objectId: ZTF18aaawcpq)\n",
      "2018-06-08 15:40:28 INFO - Rejecting 404105203015010001 (objectId: ZTF18aaawcpv)\n",
      "2018-06-08 15:40:28 INFO - Rejecting 404105203015015009 (objectId: ZTF18aaawcps)\n",
      "2018-06-08 15:40:28 INFO - Rejecting 404105691415010002 (objectId: ZTF17aacbfiq)\n",
      "2018-06-08 15:40:28 INFO + Ingesting 404105691415010005 (objectId: ZTF17aabuhiv)\n",
      "2018-06-08 15:40:28 INFO + Ingesting 404105693015010000 (objectId: ZTF17aaaafxk)\n",
      "2018-06-08 15:40:28 INFO + Ingesting 404105693015010001 (objectId: ZTF18aaawcqz)\n",
      "2018-06-08 15:40:28 INFO - Rejecting 404105693015010002 (objectId: ZTF17aaabaox)\n",
      "2018-06-08 15:40:28 INFO 11 alert(s) processed (time required: 0s)\n"
     ]
    },
    {
     "data": {
      "text/plain": [
       "11"
      ]
     },
     "execution_count": 4,
     "metadata": {},
     "output_type": "execute_result"
    }
   ],
   "source": [
    "recursive_dap = DevAlertProcessor(RandFilter())\n",
    "recursive_dap.process_loaded_alerts(\n",
    "    dap.get_accepted_alerts()\n",
    ")"
   ]
  },
  {
   "cell_type": "code",
   "execution_count": 5,
   "metadata": {
    "scrolled": false
   },
   "outputs": [
    {
     "data": {
      "text/plain": [
       "[<ampel.base.AmpelAlert.AmpelAlert at 0x105e24ba8>,\n",
       " <ampel.base.AmpelAlert.AmpelAlert at 0x106175240>,\n",
       " <ampel.base.AmpelAlert.AmpelAlert at 0x1061c3be0>,\n",
       " <ampel.base.AmpelAlert.AmpelAlert at 0x106175710>,\n",
       " <ampel.base.AmpelAlert.AmpelAlert at 0x106364eb8>,\n",
       " <ampel.base.AmpelAlert.AmpelAlert at 0x1062dd940>]"
      ]
     },
     "execution_count": 5,
     "metadata": {},
     "output_type": "execute_result"
    }
   ],
   "source": [
    "recursive_dap.get_accepted_alerts()"
   ]
  }
 ],
 "metadata": {
  "kernelspec": {
   "display_name": "Python 3",
   "language": "python",
   "name": "python3"
  },
  "language_info": {
   "codemirror_mode": {
    "name": "ipython",
    "version": 3
   },
   "file_extension": ".py",
   "mimetype": "text/x-python",
   "name": "python",
   "nbconvert_exporter": "python",
   "pygments_lexer": "ipython3",
   "version": "3.6.4"
  }
 },
 "nbformat": 4,
 "nbformat_minor": 2
}
