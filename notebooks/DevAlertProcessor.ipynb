{
 "cells": [
  {
   "cell_type": "code",
   "execution_count": 1,
   "metadata": {
    "scrolled": false
   },
   "outputs": [
    {
     "name": "stdout",
     "output_type": "stream",
     "text": [
      "2018-06-08 11:43:36 INFO + Ingesting 404105201415015000 (objectId: ZTF18aaawcpm)\n",
      "2018-06-08 11:43:36 INFO - Rejecting 404105201415015001 (objectId: ZTF18aaawcpo)\n",
      "2018-06-08 11:43:36 INFO + Ingesting 404105201415015002 (objectId: ZTF18aaawcpp)\n",
      "2018-06-08 11:43:36 INFO + Ingesting 404105201415015003 (objectId: ZTF17aadetde)\n",
      "2018-06-08 11:43:36 INFO + Ingesting 404105201415015004 (objectId: ZTF18aaawcpn)\n",
      "2018-06-08 11:43:36 INFO - Rejecting 404105201415015005 (objectId: ZTF18aaawcpq)\n",
      "2018-06-08 11:43:36 INFO - Rejecting 404105203015010000 (objectId: ZTF17aaaqneg)\n",
      "2018-06-08 11:43:36 INFO + Ingesting 404105203015010001 (objectId: ZTF18aaawcpv)\n",
      "2018-06-08 11:43:36 INFO - Rejecting 404105203015015005 (objectId: ZTF18aaawcpt)\n",
      "2018-06-08 11:43:36 INFO - Rejecting 404105203015015006 (objectId: ZTF18aaawcpu)\n",
      "2018-06-08 11:43:36 INFO - Rejecting 404105203015015009 (objectId: ZTF18aaawcps)\n",
      "2018-06-08 11:43:36 INFO + Ingesting 404105203015015010 (objectId: ZTF18aaawcpr)\n",
      "2018-06-08 11:43:36 INFO + Ingesting 404105691415010001 (objectId: ZTF17aaacaku)\n",
      "2018-06-08 11:43:36 INFO + Ingesting 404105691415010002 (objectId: ZTF17aacbfiq)\n",
      "2018-06-08 11:43:36 INFO + Ingesting 404105691415010003 (objectId: ZTF17aacbfir)\n",
      "2018-06-08 11:43:36 INFO + Ingesting 404105691415010005 (objectId: ZTF17aabuhiv)\n",
      "2018-06-08 11:43:36 INFO + Ingesting 404105691415015000 (objectId: ZTF18aaawcqf)\n",
      "2018-06-08 11:43:36 INFO - Rejecting 404105691415015002 (objectId: ZTF18aaawcqe)\n",
      "2018-06-08 11:43:36 INFO - Rejecting 404105693015010000 (objectId: ZTF17aaaafxk)\n",
      "2018-06-08 11:43:36 INFO - Rejecting 404105693015010001 (objectId: ZTF18aaawcqz)\n",
      "2018-06-08 11:43:37 INFO - Rejecting 404105693015010002 (objectId: ZTF17aaabaox)\n",
      "2018-06-08 11:43:37 INFO 21 alert(s) processed (time required: 0s)\n"
     ]
    },
    {
     "data": {
      "text/plain": [
       "21"
      ]
     },
     "execution_count": 1,
     "metadata": {},
     "output_type": "execute_result"
    }
   ],
   "source": [
    "from ampel.pipeline.t0.DevAlertProcessor import DevAlertProcessor\n",
    "from ampel.contrib.hu.t0.RandFilter import RandFilter\n",
    "dap = DevAlertProcessor(RandFilter(\"test\", run_config={'threshold': 60}))\n",
    "dap.process_tar('/Users/hu/Documents/ZTF/Ampel/alerts/tar.tst.gz')"
   ]
  },
  {
   "cell_type": "code",
   "execution_count": 2,
   "metadata": {
    "scrolled": true
   },
   "outputs": [
    {
     "data": {
      "text/plain": [
       "[<ampel.base.AmpelAlert.AmpelAlert at 0x10700af28>,\n",
       " <ampel.base.AmpelAlert.AmpelAlert at 0x10715eac8>,\n",
       " <ampel.base.AmpelAlert.AmpelAlert at 0x10718fcf8>,\n",
       " <ampel.base.AmpelAlert.AmpelAlert at 0x107164b70>,\n",
       " <ampel.base.AmpelAlert.AmpelAlert at 0x10723d9e8>,\n",
       " <ampel.base.AmpelAlert.AmpelAlert at 0x1072895c0>,\n",
       " <ampel.base.AmpelAlert.AmpelAlert at 0x1072c3ba8>,\n",
       " <ampel.base.AmpelAlert.AmpelAlert at 0x1072c3c88>,\n",
       " <ampel.base.AmpelAlert.AmpelAlert at 0x107160f28>,\n",
       " <ampel.base.AmpelAlert.AmpelAlert at 0x1071854e0>,\n",
       " <ampel.base.AmpelAlert.AmpelAlert at 0x10726b240>]"
      ]
     },
     "execution_count": 2,
     "metadata": {},
     "output_type": "execute_result"
    }
   ],
   "source": [
    "dap.get_accepted_alerts()"
   ]
  },
  {
   "cell_type": "code",
   "execution_count": 3,
   "metadata": {
    "scrolled": true
   },
   "outputs": [
    {
     "name": "stdout",
     "output_type": "stream",
     "text": [
      "2018-06-08 11:43:37 INFO - Rejecting 404105201415015000 (objectId: ZTF18aaawcpm)\n",
      "2018-06-08 11:43:37 INFO + Ingesting 404105201415015002 (objectId: ZTF18aaawcpp)\n",
      "2018-06-08 11:43:37 INFO + Ingesting 404105201415015003 (objectId: ZTF17aadetde)\n",
      "2018-06-08 11:43:37 INFO - Rejecting 404105201415015004 (objectId: ZTF18aaawcpn)\n",
      "2018-06-08 11:43:37 INFO + Ingesting 404105203015010001 (objectId: ZTF18aaawcpv)\n",
      "2018-06-08 11:43:37 INFO - Rejecting 404105203015015010 (objectId: ZTF18aaawcpr)\n",
      "2018-06-08 11:43:37 INFO - Rejecting 404105691415010001 (objectId: ZTF17aaacaku)\n",
      "2018-06-08 11:43:37 INFO - Rejecting 404105691415010002 (objectId: ZTF17aacbfiq)\n",
      "2018-06-08 11:43:37 INFO - Rejecting 404105691415010003 (objectId: ZTF17aacbfir)\n",
      "2018-06-08 11:43:37 INFO - Rejecting 404105691415010005 (objectId: ZTF17aabuhiv)\n",
      "2018-06-08 11:43:37 INFO - Rejecting 404105691415015000 (objectId: ZTF18aaawcqf)\n",
      "2018-06-08 11:43:37 INFO 11 alert(s) processed (time required: 0s)\n"
     ]
    },
    {
     "data": {
      "text/plain": [
       "11"
      ]
     },
     "execution_count": 3,
     "metadata": {},
     "output_type": "execute_result"
    }
   ],
   "source": [
    "recursive_dap = DevAlertProcessor(RandFilter(\"test\", run_config={'threshold': 80}))\n",
    "recursive_dap.process_loaded_alerts(\n",
    "    dap.get_accepted_alerts()\n",
    ")"
   ]
  },
  {
   "cell_type": "code",
   "execution_count": 4,
   "metadata": {
    "scrolled": true
   },
   "outputs": [
    {
     "data": {
      "text/plain": [
       "[<ampel.base.AmpelAlert.AmpelAlert at 0x10715eac8>,\n",
       " <ampel.base.AmpelAlert.AmpelAlert at 0x10718fcf8>,\n",
       " <ampel.base.AmpelAlert.AmpelAlert at 0x10723d9e8>]"
      ]
     },
     "execution_count": 4,
     "metadata": {},
     "output_type": "execute_result"
    }
   ],
   "source": [
    "recursive_dap.get_accepted_alerts()"
   ]
  }
 ],
 "metadata": {
  "kernelspec": {
   "display_name": "Python 3",
   "language": "python",
   "name": "python3"
  },
  "language_info": {
   "codemirror_mode": {
    "name": "ipython",
    "version": 3
   },
   "file_extension": ".py",
   "mimetype": "text/x-python",
   "name": "python",
   "nbconvert_exporter": "python",
   "pygments_lexer": "ipython3",
   "version": "3.6.4"
  }
 },
 "nbformat": 4,
 "nbformat_minor": 2
}
