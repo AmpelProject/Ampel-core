{
 "cells": [
  {
   "cell_type": "code",
   "execution_count": 1,
   "metadata": {},
   "outputs": [],
   "source": [
    "from ampel.flags.FlagUtils import FlagUtils\n",
    "from ampel.flags.TransientFlags import TransientFlags\n",
    "from ampel.view.DBDocVizualizer import DBDocVizualizer\n",
    "import json"
   ]
  },
  {
   "cell_type": "markdown",
   "metadata": {},
   "source": [
    "Cosmetic "
   ]
  },
  {
   "cell_type": "code",
   "execution_count": 2,
   "metadata": {},
   "outputs": [],
   "source": [
    "vi = DBDocVizualizer()\n",
    "def pretty_print(arg):\n",
    "    vi.markdown_display_json(\n",
    "        json.dumps(arg, indent=4), \n",
    "    )"
   ]
  },
  {
   "cell_type": "markdown",
   "metadata": {},
   "source": [
    "# Matching flags"
   ]
  },
  {
   "cell_type": "markdown",
   "metadata": {},
   "source": [
    "Simple case: "
   ]
  },
  {
   "cell_type": "code",
   "execution_count": 3,
   "metadata": {},
   "outputs": [
    {
     "data": {
      "text/markdown": [
       "```json\n",
       "{\n",
       "    \"tranId\": \"ZTFabc\",\n",
       "    \"alFlags\": 2\n",
       "}\n",
       "```"
      ],
      "text/plain": [
       "<IPython.core.display.Markdown object>"
      ]
     },
     "metadata": {},
     "output_type": "display_data"
    }
   ],
   "source": [
    "pretty_print(\n",
    "    FlagUtils.enumflags_to_dbquery(\n",
    "        TransientFlags.INST_ZTF, \n",
    "        {'tranId': 'ZTFabc'}, \n",
    "        'alFlags'\n",
    "    )\n",
    ") "
   ]
  },
  {
   "cell_type": "markdown",
   "metadata": {},
   "source": [
    "Common case: "
   ]
  },
  {
   "cell_type": "code",
   "execution_count": 4,
   "metadata": {},
   "outputs": [
    {
     "data": {
      "text/markdown": [
       "```json\n",
       "{\n",
       "    \"tranId\": \"ZTFabc\",\n",
       "    \"alFlags\": {\n",
       "        \"$all\": [\n",
       "            2,\n",
       "            6\n",
       "        ]\n",
       "    }\n",
       "}\n",
       "```"
      ],
      "text/plain": [
       "<IPython.core.display.Markdown object>"
      ]
     },
     "metadata": {},
     "output_type": "display_data"
    }
   ],
   "source": [
    "pretty_print(\n",
    "    FlagUtils.enumflags_to_dbquery(\n",
    "        TransientFlags.INST_ZTF|TransientFlags.ALERT_IPAC, \n",
    "        {'tranId': 'ZTFabc'}, \n",
    "        'alFlags'\n",
    "    )\n",
    ")"
   ]
  },
  {
   "cell_type": "markdown",
   "metadata": {},
   "source": [
    "Advanced case: "
   ]
  },
  {
   "cell_type": "code",
   "execution_count": 5,
   "metadata": {
    "scrolled": true
   },
   "outputs": [
    {
     "data": {
      "text/markdown": [
       "```json\n",
       "{\n",
       "    \"tranId\": \"ZTFabc\",\n",
       "    \"$or\": [\n",
       "        {\n",
       "            \"alFlags\": {\n",
       "                \"$all\": [\n",
       "                    2,\n",
       "                    6\n",
       "                ]\n",
       "            }\n",
       "        },\n",
       "        {\n",
       "            \"alFlags\": 3\n",
       "        }\n",
       "    ]\n",
       "}\n",
       "```"
      ],
      "text/plain": [
       "<IPython.core.display.Markdown object>"
      ]
     },
     "metadata": {},
     "output_type": "display_data"
    }
   ],
   "source": [
    "pretty_print(\n",
    "    FlagUtils.enumflags_to_dbquery(\n",
    "        [TransientFlags.INST_ZTF|TransientFlags.ALERT_IPAC, TransientFlags.INST_OTHER1],\n",
    "         {'tranId': 'ZTFabc'}, \n",
    "        'alFlags'\n",
    "    )\n",
    ")"
   ]
  },
  {
   "cell_type": "markdown",
   "metadata": {},
   "source": [
    "# Excluding flags"
   ]
  },
  {
   "cell_type": "code",
   "execution_count": 6,
   "metadata": {},
   "outputs": [
    {
     "data": {
      "text/markdown": [
       "```json\n",
       "{\n",
       "    \"tranId\": \"ZTFabc\",\n",
       "    \"alFlags\": {\n",
       "        \"$ne\": 2\n",
       "    }\n",
       "}\n",
       "```"
      ],
      "text/plain": [
       "<IPython.core.display.Markdown object>"
      ]
     },
     "metadata": {},
     "output_type": "display_data"
    }
   ],
   "source": [
    "pretty_print(\n",
    "    FlagUtils.not_enumflags_to_dbquery(\n",
    "        TransientFlags.INST_ZTF,\n",
    "         {'tranId': 'ZTFabc'}, \n",
    "        'alFlags'\n",
    "    )\n",
    ")"
   ]
  },
  {
   "cell_type": "code",
   "execution_count": 7,
   "metadata": {},
   "outputs": [
    {
     "data": {
      "text/markdown": [
       "```json\n",
       "{\n",
       "    \"tranId\": \"ZTFabc\",\n",
       "    \"alFlags\": {\n",
       "        \"$not\": {\n",
       "            \"$all\": [\n",
       "                2,\n",
       "                6\n",
       "            ]\n",
       "        }\n",
       "    }\n",
       "}\n",
       "```"
      ],
      "text/plain": [
       "<IPython.core.display.Markdown object>"
      ]
     },
     "metadata": {},
     "output_type": "display_data"
    }
   ],
   "source": [
    "pretty_print(\n",
    "    FlagUtils.not_enumflags_to_dbquery(\n",
    "        TransientFlags.INST_ZTF|TransientFlags.ALERT_IPAC,\n",
    "         {'tranId': 'ZTFabc'}, \n",
    "        'alFlags'\n",
    "    )\n",
    ")"
   ]
  },
  {
   "cell_type": "code",
   "execution_count": 8,
   "metadata": {},
   "outputs": [
    {
     "data": {
      "text/markdown": [
       "```json\n",
       "{\n",
       "    \"tranId\": \"ZTFabc\",\n",
       "    \"$and\": [\n",
       "        {\n",
       "            \"alFlags\": {\n",
       "                \"$not\": {\n",
       "                    \"$all\": [\n",
       "                        2,\n",
       "                        6\n",
       "                    ]\n",
       "                }\n",
       "            }\n",
       "        },\n",
       "        {\n",
       "            \"alFlags\": {\n",
       "                \"$ne\": 3\n",
       "            }\n",
       "        }\n",
       "    ]\n",
       "}\n",
       "```"
      ],
      "text/plain": [
       "<IPython.core.display.Markdown object>"
      ]
     },
     "metadata": {},
     "output_type": "display_data"
    }
   ],
   "source": [
    "pretty_print(\n",
    "    FlagUtils.not_enumflags_to_dbquery(\n",
    "        [TransientFlags.INST_ZTF|TransientFlags.ALERT_IPAC, TransientFlags.INST_OTHER1],\n",
    "         {'tranId': 'ZTFabc'}, \n",
    "        'alFlags'\n",
    "    )\n",
    ")"
   ]
  },
  {
   "cell_type": "markdown",
   "metadata": {},
   "source": [
    "# Matching *and* excluding flags\n",
    "Order matters!\n",
    "\n",
    "Please call first `enumflags_to_dbquery` then `not_enumflags_to_dbquery`\n"
   ]
  },
  {
   "cell_type": "markdown",
   "metadata": {},
   "source": [
    "### Single flag exclusion\n"
   ]
  },
  {
   "cell_type": "code",
   "execution_count": 9,
   "metadata": {
    "scrolled": true
   },
   "outputs": [
    {
     "data": {
      "text/markdown": [
       "```json\n",
       "{\n",
       "    \"tranId\": \"ZTFabc\",\n",
       "    \"alFlags\": {\n",
       "        \"$eq\": 2,\n",
       "        \"$ne\": 11\n",
       "    }\n",
       "}\n",
       "```"
      ],
      "text/plain": [
       "<IPython.core.display.Markdown object>"
      ]
     },
     "metadata": {},
     "output_type": "display_data"
    }
   ],
   "source": [
    "query = {'tranId': 'ZTFabc'}\n",
    "\n",
    "FlagUtils.enumflags_to_dbquery(\n",
    "    TransientFlags.INST_ZTF,\n",
    "    query, \n",
    "    'alFlags'\n",
    ")\n",
    "    \n",
    "pretty_print(\n",
    "    FlagUtils.not_enumflags_to_dbquery(\n",
    "        TransientFlags.HAS_HU_PPT,\n",
    "         query, \n",
    "        'alFlags'\n",
    "    )\n",
    ")"
   ]
  },
  {
   "cell_type": "code",
   "execution_count": 10,
   "metadata": {},
   "outputs": [
    {
     "data": {
      "text/markdown": [
       "```json\n",
       "{\n",
       "    \"tranId\": \"ZTFabc\",\n",
       "    \"alFlags\": {\n",
       "        \"$all\": [\n",
       "            2,\n",
       "            6\n",
       "        ],\n",
       "        \"$ne\": 11\n",
       "    }\n",
       "}\n",
       "```"
      ],
      "text/plain": [
       "<IPython.core.display.Markdown object>"
      ]
     },
     "metadata": {},
     "output_type": "display_data"
    }
   ],
   "source": [
    "query = {'tranId': 'ZTFabc'}\n",
    "\n",
    "FlagUtils.enumflags_to_dbquery(\n",
    "    TransientFlags.INST_ZTF|TransientFlags.ALERT_IPAC,\n",
    "    query, \n",
    "    'alFlags'\n",
    ")\n",
    "    \n",
    "pretty_print(\n",
    "    FlagUtils.not_enumflags_to_dbquery(\n",
    "        TransientFlags.HAS_HU_PPT,\n",
    "         query, \n",
    "        'alFlags'\n",
    "    )\n",
    ")"
   ]
  },
  {
   "cell_type": "code",
   "execution_count": 11,
   "metadata": {},
   "outputs": [
    {
     "data": {
      "text/markdown": [
       "```json\n",
       "{\n",
       "    \"tranId\": \"ZTFabc\",\n",
       "    \"$or\": [\n",
       "        {\n",
       "            \"alFlags\": {\n",
       "                \"$all\": [\n",
       "                    2,\n",
       "                    6\n",
       "                ]\n",
       "            }\n",
       "        },\n",
       "        {\n",
       "            \"alFlags\": 3\n",
       "        }\n",
       "    ],\n",
       "    \"alFlags\": {\n",
       "        \"$ne\": 11\n",
       "    }\n",
       "}\n",
       "```"
      ],
      "text/plain": [
       "<IPython.core.display.Markdown object>"
      ]
     },
     "metadata": {},
     "output_type": "display_data"
    }
   ],
   "source": [
    "query = {'tranId': 'ZTFabc'}\n",
    "\n",
    "FlagUtils.enumflags_to_dbquery(\n",
    "    [TransientFlags.INST_ZTF|TransientFlags.ALERT_IPAC, TransientFlags.INST_OTHER1],\n",
    "    query, \n",
    "    'alFlags'\n",
    ")\n",
    "    \n",
    "pretty_print(\n",
    "    FlagUtils.not_enumflags_to_dbquery(\n",
    "        TransientFlags.HAS_HU_PPT,\n",
    "         query, \n",
    "        'alFlags'\n",
    "    )\n",
    ")"
   ]
  },
  {
   "cell_type": "markdown",
   "metadata": {},
   "source": [
    "### Combi flag exclusion\n"
   ]
  },
  {
   "cell_type": "code",
   "execution_count": 12,
   "metadata": {},
   "outputs": [
    {
     "data": {
      "text/markdown": [
       "```json\n",
       "{\n",
       "    \"tranId\": \"ZTFabc\",\n",
       "    \"alFlags\": {\n",
       "        \"$eq\": 2,\n",
       "        \"$not\": {\n",
       "            \"$all\": [\n",
       "                11,\n",
       "                12\n",
       "            ]\n",
       "        }\n",
       "    }\n",
       "}\n",
       "```"
      ],
      "text/plain": [
       "<IPython.core.display.Markdown object>"
      ]
     },
     "metadata": {},
     "output_type": "display_data"
    }
   ],
   "source": [
    "query = {'tranId': 'ZTFabc'}\n",
    "\n",
    "FlagUtils.enumflags_to_dbquery(\n",
    "    TransientFlags.INST_ZTF,\n",
    "    query, \n",
    "    'alFlags'\n",
    ")\n",
    "    \n",
    "pretty_print(\n",
    "    FlagUtils.not_enumflags_to_dbquery(\n",
    "        TransientFlags.HAS_HU_PPT|TransientFlags.HAS_SUPERSEEDED_PPT,\n",
    "         query, \n",
    "        'alFlags'\n",
    "    )\n",
    ")"
   ]
  },
  {
   "cell_type": "code",
   "execution_count": 13,
   "metadata": {},
   "outputs": [
    {
     "data": {
      "text/markdown": [
       "```json\n",
       "{\n",
       "    \"tranId\": \"ZTFabc\",\n",
       "    \"alFlags\": {\n",
       "        \"$all\": [\n",
       "            2,\n",
       "            6\n",
       "        ],\n",
       "        \"$not\": {\n",
       "            \"$all\": [\n",
       "                11,\n",
       "                12\n",
       "            ]\n",
       "        }\n",
       "    }\n",
       "}\n",
       "```"
      ],
      "text/plain": [
       "<IPython.core.display.Markdown object>"
      ]
     },
     "metadata": {},
     "output_type": "display_data"
    }
   ],
   "source": [
    "query = {'tranId': 'ZTFabc'}\n",
    "\n",
    "FlagUtils.enumflags_to_dbquery(\n",
    "    TransientFlags.INST_ZTF|TransientFlags.ALERT_IPAC,\n",
    "    query, \n",
    "    'alFlags'\n",
    ")\n",
    "    \n",
    "pretty_print(\n",
    "    FlagUtils.not_enumflags_to_dbquery(\n",
    "        TransientFlags.HAS_HU_PPT|TransientFlags.HAS_SUPERSEEDED_PPT,\n",
    "         query, \n",
    "        'alFlags'\n",
    "    )\n",
    ")"
   ]
  },
  {
   "cell_type": "code",
   "execution_count": 14,
   "metadata": {},
   "outputs": [
    {
     "data": {
      "text/markdown": [
       "```json\n",
       "{\n",
       "    \"tranId\": \"ZTFabc\",\n",
       "    \"$or\": [\n",
       "        {\n",
       "            \"alFlags\": {\n",
       "                \"$all\": [\n",
       "                    2,\n",
       "                    6\n",
       "                ]\n",
       "            }\n",
       "        },\n",
       "        {\n",
       "            \"alFlags\": 3\n",
       "        }\n",
       "    ],\n",
       "    \"alFlags\": {\n",
       "        \"$not\": {\n",
       "            \"$all\": [\n",
       "                11,\n",
       "                12\n",
       "            ]\n",
       "        }\n",
       "    }\n",
       "}\n",
       "```"
      ],
      "text/plain": [
       "<IPython.core.display.Markdown object>"
      ]
     },
     "metadata": {},
     "output_type": "display_data"
    }
   ],
   "source": [
    "query = {'tranId': 'ZTFabc'}\n",
    "\n",
    "FlagUtils.enumflags_to_dbquery(\n",
    "    [TransientFlags.INST_ZTF|TransientFlags.ALERT_IPAC, TransientFlags.INST_OTHER1],\n",
    "    query, \n",
    "    'alFlags'\n",
    ")\n",
    "    \n",
    "pretty_print(\n",
    "    FlagUtils.not_enumflags_to_dbquery(\n",
    "        TransientFlags.HAS_HU_PPT|TransientFlags.HAS_SUPERSEEDED_PPT,\n",
    "         query, \n",
    "        'alFlags'\n",
    "    )\n",
    ")"
   ]
  },
  {
   "cell_type": "markdown",
   "metadata": {},
   "source": [
    "### Multi flag exclusion\n"
   ]
  },
  {
   "cell_type": "code",
   "execution_count": 15,
   "metadata": {},
   "outputs": [
    {
     "data": {
      "text/markdown": [
       "```json\n",
       "{\n",
       "    \"tranId\": \"ZTFabc\",\n",
       "    \"alFlags\": {\n",
       "        \"$eq\": 2\n",
       "    },\n",
       "    \"$and\": [\n",
       "        {\n",
       "            \"alFlags\": {\n",
       "                \"$not\": {\n",
       "                    \"$all\": [\n",
       "                        11,\n",
       "                        12\n",
       "                    ]\n",
       "                }\n",
       "            }\n",
       "        },\n",
       "        {\n",
       "            \"alFlags\": {\n",
       "                \"$ne\": 10\n",
       "            }\n",
       "        }\n",
       "    ]\n",
       "}\n",
       "```"
      ],
      "text/plain": [
       "<IPython.core.display.Markdown object>"
      ]
     },
     "metadata": {},
     "output_type": "display_data"
    }
   ],
   "source": [
    "query = {'tranId': 'ZTFabc'}\n",
    "\n",
    "FlagUtils.enumflags_to_dbquery(\n",
    "    TransientFlags.INST_ZTF,\n",
    "    query, \n",
    "    'alFlags'\n",
    ")\n",
    "    \n",
    "pretty_print(\n",
    "    FlagUtils.not_enumflags_to_dbquery(\n",
    "        [TransientFlags.HAS_HU_PPT|TransientFlags.HAS_SUPERSEEDED_PPT, TransientFlags.HAS_WZM_PPT],\n",
    "         query,\n",
    "        'alFlags'\n",
    "    )\n",
    ")"
   ]
  },
  {
   "cell_type": "code",
   "execution_count": 16,
   "metadata": {},
   "outputs": [
    {
     "data": {
      "text/markdown": [
       "```json\n",
       "{\n",
       "    \"tranId\": \"ZTFabc\",\n",
       "    \"alFlags\": {\n",
       "        \"$all\": [\n",
       "            2,\n",
       "            6\n",
       "        ]\n",
       "    },\n",
       "    \"$and\": [\n",
       "        {\n",
       "            \"alFlags\": {\n",
       "                \"$not\": {\n",
       "                    \"$all\": [\n",
       "                        11,\n",
       "                        12\n",
       "                    ]\n",
       "                }\n",
       "            }\n",
       "        },\n",
       "        {\n",
       "            \"alFlags\": {\n",
       "                \"$ne\": 10\n",
       "            }\n",
       "        }\n",
       "    ]\n",
       "}\n",
       "```"
      ],
      "text/plain": [
       "<IPython.core.display.Markdown object>"
      ]
     },
     "metadata": {},
     "output_type": "display_data"
    }
   ],
   "source": [
    "query = {'tranId': 'ZTFabc'}\n",
    "\n",
    "FlagUtils.enumflags_to_dbquery(\n",
    "    TransientFlags.INST_ZTF|TransientFlags.ALERT_IPAC,\n",
    "    query, \n",
    "    'alFlags'\n",
    ")\n",
    "    \n",
    "pretty_print(\n",
    "    FlagUtils.not_enumflags_to_dbquery(\n",
    "        [TransientFlags.HAS_HU_PPT|TransientFlags.HAS_SUPERSEEDED_PPT, TransientFlags.HAS_WZM_PPT],\n",
    "         query,\n",
    "        'alFlags'\n",
    "    )\n",
    ")"
   ]
  },
  {
   "cell_type": "code",
   "execution_count": 17,
   "metadata": {},
   "outputs": [
    {
     "data": {
      "text/markdown": [
       "```json\n",
       "{\n",
       "    \"tranId\": \"ZTFabc\",\n",
       "    \"$or\": [\n",
       "        {\n",
       "            \"alFlags\": {\n",
       "                \"$all\": [\n",
       "                    2,\n",
       "                    6\n",
       "                ]\n",
       "            }\n",
       "        },\n",
       "        {\n",
       "            \"alFlags\": 3\n",
       "        }\n",
       "    ],\n",
       "    \"$and\": [\n",
       "        {\n",
       "            \"alFlags\": {\n",
       "                \"$not\": {\n",
       "                    \"$all\": [\n",
       "                        11,\n",
       "                        12\n",
       "                    ]\n",
       "                }\n",
       "            }\n",
       "        },\n",
       "        {\n",
       "            \"alFlags\": {\n",
       "                \"$ne\": 10\n",
       "            }\n",
       "        }\n",
       "    ]\n",
       "}\n",
       "```"
      ],
      "text/plain": [
       "<IPython.core.display.Markdown object>"
      ]
     },
     "metadata": {},
     "output_type": "display_data"
    }
   ],
   "source": [
    "query = {'tranId': 'ZTFabc'}\n",
    "\n",
    "FlagUtils.enumflags_to_dbquery(\n",
    "    [TransientFlags.INST_ZTF|TransientFlags.ALERT_IPAC, TransientFlags.INST_OTHER1],\n",
    "    query, \n",
    "    'alFlags'\n",
    ")\n",
    "    \n",
    "pretty_print(\n",
    "    FlagUtils.not_enumflags_to_dbquery(\n",
    "        [TransientFlags.HAS_HU_PPT|TransientFlags.HAS_SUPERSEEDED_PPT, TransientFlags.HAS_WZM_PPT],\n",
    "         query,\n",
    "        'alFlags'\n",
    "    )\n",
    ")"
   ]
  }
 ],
 "metadata": {
  "kernelspec": {
   "display_name": "Python 3",
   "language": "python",
   "name": "python3"
  },
  "language_info": {
   "codemirror_mode": {
    "name": "ipython",
    "version": 3
   },
   "file_extension": ".py",
   "mimetype": "text/x-python",
   "name": "python",
   "nbconvert_exporter": "python",
   "pygments_lexer": "ipython3",
   "version": "3.6.3"
  }
 },
 "nbformat": 4,
 "nbformat_minor": 2
}
