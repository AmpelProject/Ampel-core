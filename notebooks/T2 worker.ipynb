{
 "cells": [
  {
   "cell_type": "code",
   "execution_count": 1,
   "metadata": {
    "collapsed": true
   },
   "outputs": [],
   "source": [
    "from ampel.contrib.hu.examples.t2.T2ExamplePolyFit import T2ExamplePolyFit\n",
    "from ampel.pipeline.logging.LoggingUtils import LoggingUtils"
   ]
  },
  {
   "cell_type": "markdown",
   "metadata": {},
   "source": [
    "Pickle load a lightcurve object (a lightcurve instance be provided as input of any T2Runnable unit)"
   ]
  },
  {
   "cell_type": "code",
   "execution_count": 2,
   "metadata": {
    "collapsed": true
   },
   "outputs": [],
   "source": [
    "import pickle\n",
    "lc = pickle.load(open(\"../src/ampel/contrib/hu/examples/t2/lightcurve.pickle\", \"rb\"))"
   ]
  },
  {
   "cell_type": "code",
   "execution_count": 3,
   "metadata": {},
   "outputs": [
    {
     "data": {
      "text/plain": [
       "[23.856793629352122,\n",
       " 23.00805766234931,\n",
       " 21.595161397095065,\n",
       " 23.447385814760864,\n",
       " 23.064335890370327,\n",
       " 21.117456462709832,\n",
       " 21.69892544131502,\n",
       " 20.54556957554393,\n",
       " 20.881180998046148,\n",
       " 20.340208010886663,\n",
       " 20.187509359597723,\n",
       " 20.40742267815947,\n",
       " 20.588474220085388,\n",
       " 20.556809476480602]"
      ]
     },
     "execution_count": 3,
     "metadata": {},
     "output_type": "execute_result"
    }
   ],
   "source": [
    "lc.get_values(\"mag\")"
   ]
  },
  {
   "cell_type": "markdown",
   "metadata": {},
   "source": [
    "Instanciate example t2 class"
   ]
  },
  {
   "cell_type": "code",
   "execution_count": 4,
   "metadata": {
    "collapsed": true
   },
   "outputs": [],
   "source": [
    "t2_runnable = T2ExamplePolyFit(  \n",
    "    LoggingUtils.get_logger(),\n",
    "    base_config={\"fitFunction\": \"polyfit\"}\n",
    ")"
   ]
  },
  {
   "cell_type": "markdown",
   "metadata": {},
   "source": [
    "# Python implementation\n",
    "\n",
    "A T2 class *must* inherit ```ampel.abstract.AbsT2Unit``` and implement the two functions (otherwise exception will be throwed):\n",
    "- ```__init__(self, logger, base_config)```\n",
    "\n",
    "```\n",
    "'logger': instance of logging.Logger (std python module 'logging')\n",
    "\t-> example usage: logger.info(\"this is a log message\")\n",
    "\n",
    "'base_config': optional dict loaded from ampel config section: \n",
    "\t-> t2_units->POLYFIT->baseConfig\n",
    "```\n",
    "\n",
    "- ```run(self, light_curve, run_config)```\n",
    "\n",
    "```\n",
    "'light_curve': instance of ampel.base.LightCurve. See LightCurve docstring for more info.\n",
    "\n",
    "'run_config': dict instance containing run parameters defined in ampel config section:\n",
    "\tt2_run_config->POLYFIT_[run_config_id]->runConfig \n",
    "\twhereby the run_config_id value is defined in the associated t2 document.\n",
    "\tIn the case of POLYFIT, run_config_id would be either 'default' or 'advanced'.\n",
    "\tA given channel (say HU_SN_IA) could use the runConfig 'default' whereas \n",
    "\tanother channel (say OKC_SNIIP) could use the runConfig 'advanced'\n",
    "\n",
    "run() must return either:\n",
    "\t* A dict instance containing the values to be saved into the DB\n",
    "\t\t-> IMPORTANT: the dict *must* be BSON serializable, that is:\n",
    "\t\t\timport bson\n",
    "\t\t\tbson.BSON.encode(<dict instance to be returned>)\n",
    "\t\tmust not throw a InvalidDocument Exception\n",
    "\t* One of these T2RunStates flag member:\n",
    "\t\tMISSING_INFO:  reserved for a future ampel extension where \n",
    "\t\t\t\t\t   T2s results could depend on each other\n",
    "\t\tBAD_CONFIG:\t   Typically when run_config is not set properly\n",
    "\t\tERROR:\t\t   Generic error\n",
    "\t\tEXCEPTION:     An exception occured\n",
    "\n",
    "\n",
    "```"
   ]
  },
  {
   "cell_type": "markdown",
   "metadata": {},
   "source": [
    "The following method is called automatically by the Ampel T2 controller after the t2runnable class instanciation (based on the ampel config)"
   ]
  },
  {
   "cell_type": "code",
   "execution_count": 5,
   "metadata": {
    "collapsed": true
   },
   "outputs": [],
   "source": [
    "t2_runnable.set_base_parameters(\n",
    "    {\"fit_function\": \"polyfit\"}\n",
    ")"
   ]
  },
  {
   "cell_type": "markdown",
   "metadata": {},
   "source": [
    "The Ampel T2 controller will call the method ```run``` and provide an instance of ampel.base.LightCurve and the dict instance  ```run_config```"
   ]
  },
  {
   "cell_type": "code",
   "execution_count": 5,
   "metadata": {
    "scrolled": true
   },
   "outputs": [
    {
     "name": "stdout",
     "output_type": "stream",
     "text": [
      "2018-03-08 13:26:15 T2ExamplePolyFit.py:125 run() INFO Please use 'self.logger' for logging\n",
      "2018-03-08 13:26:15 T2ExamplePolyFit.py:126 run() DEBUG By doing so, log entries will be automatically recorded into the database\n"
     ]
    },
    {
     "data": {
      "text/plain": [
       "{'chi2': 4.276766382894305,\n",
       " 'polyfit': [0.00010168208142339463,\n",
       "  -17.710519722219509,\n",
       "  1028245.6388793393,\n",
       "  -19899452971.043541]}"
      ]
     },
     "execution_count": 5,
     "metadata": {},
     "output_type": "execute_result"
    }
   ],
   "source": [
    "t2_runnable.run(\n",
    "    light_curve=lc, \n",
    "    run_config={'degree': 3}\n",
    ")"
   ]
  },
  {
   "cell_type": "markdown",
   "metadata": {},
   "source": [
    "T2Controller will automatically save the dict returned by ```run``` into the Ampel database<br>\n",
    "Please note that T2Controller will also complete the dictionary with the following entries:\n",
    "- ```version```: the version number returned by get_version() of the T2ExamplePolyFit instance\n",
    "- ```run_config```: the run config parameters provided to the method ```run``` (originating from the value of ```runConfig``` contained in the corresponding T2 database document)\n"
   ]
  },
  {
   "cell_type": "markdown",
   "metadata": {},
   "source": [
    "----------\n",
    "Note: the method ```run``` must return a BSON encodable dictionnary.<br>\n",
    "If you look at the source code of ```run```, you'll see that the  numpy array outputed by polyfit is casted into a python list. This is because a numpy array is not BSON encodable:<br><font color=\"red\"> (following error and traceback are created on purpose)</font>"
   ]
  },
  {
   "cell_type": "code",
   "execution_count": 6,
   "metadata": {
    "scrolled": true
   },
   "outputs": [
    {
     "ename": "InvalidDocument",
     "evalue": "Cannot encode object: array([1, 2, 3])",
     "output_type": "error",
     "traceback": [
      "\u001b[0;31m---------------------------------------------------------------------------\u001b[0m",
      "\u001b[0;31mInvalidDocument\u001b[0m                           Traceback (most recent call last)",
      "\u001b[0;32m<ipython-input-6-d77057365f3c>\u001b[0m in \u001b[0;36m<module>\u001b[0;34m()\u001b[0m\n\u001b[1;32m      1\u001b[0m \u001b[0;32mimport\u001b[0m \u001b[0mbson\u001b[0m\u001b[0;34m,\u001b[0m \u001b[0mnumpy\u001b[0m\u001b[0;34m\u001b[0m\u001b[0m\n\u001b[0;32m----> 2\u001b[0;31m \u001b[0mbson\u001b[0m\u001b[0;34m.\u001b[0m\u001b[0mBSON\u001b[0m\u001b[0;34m.\u001b[0m\u001b[0mencode\u001b[0m\u001b[0;34m(\u001b[0m\u001b[0;34m{\u001b[0m\u001b[0;34m'a'\u001b[0m\u001b[0;34m:\u001b[0m \u001b[0mnumpy\u001b[0m\u001b[0;34m.\u001b[0m\u001b[0marray\u001b[0m\u001b[0;34m(\u001b[0m\u001b[0;34m[\u001b[0m\u001b[0;36m1\u001b[0m\u001b[0;34m,\u001b[0m\u001b[0;36m2\u001b[0m\u001b[0;34m,\u001b[0m\u001b[0;36m3\u001b[0m\u001b[0;34m]\u001b[0m\u001b[0;34m)\u001b[0m\u001b[0;34m}\u001b[0m\u001b[0;34m)\u001b[0m\u001b[0;34m\u001b[0m\u001b[0m\n\u001b[0m",
      "\u001b[0;32m/Library/Frameworks/Python.framework/Versions/3.6/lib/python3.6/site-packages/bson/__init__.py\u001b[0m in \u001b[0;36mencode\u001b[0;34m(cls, document, check_keys, codec_options)\u001b[0m\n\u001b[1;32m    974\u001b[0m             \u001b[0;32mraise\u001b[0m \u001b[0m_CODEC_OPTIONS_TYPE_ERROR\u001b[0m\u001b[0;34m\u001b[0m\u001b[0m\n\u001b[1;32m    975\u001b[0m \u001b[0;34m\u001b[0m\u001b[0m\n\u001b[0;32m--> 976\u001b[0;31m         \u001b[0;32mreturn\u001b[0m \u001b[0mcls\u001b[0m\u001b[0;34m(\u001b[0m\u001b[0m_dict_to_bson\u001b[0m\u001b[0;34m(\u001b[0m\u001b[0mdocument\u001b[0m\u001b[0;34m,\u001b[0m \u001b[0mcheck_keys\u001b[0m\u001b[0;34m,\u001b[0m \u001b[0mcodec_options\u001b[0m\u001b[0;34m)\u001b[0m\u001b[0;34m)\u001b[0m\u001b[0;34m\u001b[0m\u001b[0m\n\u001b[0m\u001b[1;32m    977\u001b[0m \u001b[0;34m\u001b[0m\u001b[0m\n\u001b[1;32m    978\u001b[0m     \u001b[0;32mdef\u001b[0m \u001b[0mdecode\u001b[0m\u001b[0;34m(\u001b[0m\u001b[0mself\u001b[0m\u001b[0;34m,\u001b[0m \u001b[0mcodec_options\u001b[0m\u001b[0;34m=\u001b[0m\u001b[0mDEFAULT_CODEC_OPTIONS\u001b[0m\u001b[0;34m)\u001b[0m\u001b[0;34m:\u001b[0m\u001b[0;34m\u001b[0m\u001b[0m\n",
      "\u001b[0;31mInvalidDocument\u001b[0m: Cannot encode object: array([1, 2, 3])"
     ]
    }
   ],
   "source": [
    "import bson, numpy\n",
    "bson.BSON.encode({'a': numpy.array([1,2,3])})"
   ]
  },
  {
   "cell_type": "markdown",
   "metadata": {},
   "source": [
    "whereas a python list is:"
   ]
  },
  {
   "cell_type": "code",
   "execution_count": 7,
   "metadata": {
    "scrolled": true
   },
   "outputs": [
    {
     "data": {
      "text/plain": [
       "b'\"\\x00\\x00\\x00\\x04a\\x00\\x1a\\x00\\x00\\x00\\x100\\x00\\x01\\x00\\x00\\x00\\x101\\x00\\x02\\x00\\x00\\x00\\x102\\x00\\x03\\x00\\x00\\x00\\x00\\x00'"
      ]
     },
     "execution_count": 7,
     "metadata": {},
     "output_type": "execute_result"
    }
   ],
   "source": [
    "bson.BSON.encode({'a': [1,2,3]})"
   ]
  }
 ],
 "metadata": {
  "kernelspec": {
   "display_name": "Python 3",
   "language": "python",
   "name": "python3"
  },
  "language_info": {
   "codemirror_mode": {
    "name": "ipython",
    "version": 3
   },
   "file_extension": ".py",
   "mimetype": "text/x-python",
   "name": "python",
   "nbconvert_exporter": "python",
   "pygments_lexer": "ipython3",
   "version": "3.6.4"
  }
 },
 "nbformat": 4,
 "nbformat_minor": 2
}
