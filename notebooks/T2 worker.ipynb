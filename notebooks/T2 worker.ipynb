{
 "cells": [
  {
   "cell_type": "code",
   "execution_count": 1,
   "metadata": {},
   "outputs": [],
   "source": [
    "from ampel.contrib.hu.examples.t2.T2ExamplePolyFit import T2ExamplePolyFit\n",
    "import pickle"
   ]
  },
  {
   "cell_type": "markdown",
   "metadata": {},
   "source": [
    "Pickle load a lightcurve object (which will be provided as input of any T2Runnable unit)"
   ]
  },
  {
   "cell_type": "code",
   "execution_count": 2,
   "metadata": {},
   "outputs": [],
   "source": [
    "lc = pickle.load(open(\"../src/ampel/contrib/hu/examples/t2/lightcurve.pickle\", \"rb\"))"
   ]
  },
  {
   "cell_type": "markdown",
   "metadata": {},
   "source": [
    "Instanciate test t2 class"
   ]
  },
  {
   "cell_type": "code",
   "execution_count": 3,
   "metadata": {},
   "outputs": [],
   "source": [
    "t2worker = T2ExamplePolyFit()"
   ]
  },
  {
   "cell_type": "markdown",
   "metadata": {},
   "source": [
    "A T2 class *must* inherit ```ampel.abstract.AbstractT2Runnable``` and implement the two functions:\n",
    "- ```run(self, light_curve, run_parameters)```\n",
    "- ```get_version(self)```\n",
    "\n",
    "(otherwise exception will be throwed).\n",
    "\n",
    "The function ```set_base_parameters(self, dict_instance)``` - if implemented - will be called automatically by Ampel after class instanciation.\n",
    "\n",
    "The ampel config entry for this T2Runnable could look like this:\n",
    "\n",
    "```json\n",
    "'T2' : {\n",
    "    'runnables' : {\n",
    "        'POLYFIT' : {\n",
    "\t\t\t'runnableId': 'ampel.flags.T2RunnableIds.POLYFIT',\n",
    "\t\t\t'classFullPath': 'ampel.contrib.hu.examples.t2.T2ExamplePolyFit',\n",
    "\t\t\t'base_parameters': {\n",
    "                'fit_function' : 'polyfit',\n",
    "\t\t\t},\n",
    "            'run_parameters' : {\n",
    "                'default' : {\n",
    "                   'degree' : 3\n",
    "                },\n",
    "                'advanced' : {\n",
    "                   'degree' : 5\n",
    "                }\n",
    "            }\n",
    "        }\n",
    "    }\n",
    "}\n",
    "```\n"
   ]
  },
  {
   "cell_type": "markdown",
   "metadata": {},
   "source": [
    "The following method is called automatically by the Ampel T2 controller after t2runnable class instanciation (based on the ampel config)"
   ]
  },
  {
   "cell_type": "code",
   "execution_count": 4,
   "metadata": {},
   "outputs": [],
   "source": [
    "t2worker.set_base_parameters({\"fit_function\": \"polyfit\"})"
   ]
  },
  {
   "cell_type": "markdown",
   "metadata": {},
   "source": [
    "The Ampel T2 controller will automatically call the method ```run``` and provide an ampel.base.LightCurve instance and the dict instance  ```run_parameters```"
   ]
  },
  {
   "cell_type": "code",
   "execution_count": 5,
   "metadata": {},
   "outputs": [
    {
     "name": "stdout",
     "output_type": "stream",
     "text": [
      "2018-01-28 16:11:07 T2ExamplePolyFit.py:74 run() INFO Please use 'self.logger' for logging!\n",
      "2018-01-28 16:11:07 T2ExamplePolyFit.py:75 run() DEBUG so that log entries get recorded into the database\n"
     ]
    },
    {
     "data": {
      "text/plain": [
       "{'chi2': 4.276766382894305,\n",
       " 'polyfit': [0.00010168208142339463,\n",
       "  -17.710519722219509,\n",
       "  1028245.6388793393,\n",
       "  -19899452971.043541]}"
      ]
     },
     "execution_count": 5,
     "metadata": {},
     "output_type": "execute_result"
    }
   ],
   "source": [
    "t2worker.run(light_curve=lc, run_parameters={'degree': 3})"
   ]
  },
  {
   "cell_type": "markdown",
   "metadata": {},
   "source": [
    "The method run must return a serializable dictionnary (we hence cast the  numpy array outputed by polyfit as python list within the class T2ExamplePolyFit).<br>\n",
    "The T2Controller will automatically save the dict returned by ```run``` into the Ampel database"
   ]
  }
 ],
 "metadata": {
  "kernelspec": {
   "display_name": "Python 3",
   "language": "python",
   "name": "python3"
  },
  "language_info": {
   "codemirror_mode": {
    "name": "ipython",
    "version": 3
   },
   "file_extension": ".py",
   "mimetype": "text/x-python",
   "name": "python",
   "nbconvert_exporter": "python",
   "pygments_lexer": "ipython3",
   "version": "3.6.3"
  }
 },
 "nbformat": 4,
 "nbformat_minor": 2
}
