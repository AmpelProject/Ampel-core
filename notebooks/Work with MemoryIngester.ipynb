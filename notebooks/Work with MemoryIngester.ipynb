{
 "cells": [
  {
   "cell_type": "code",
   "execution_count": 1,
   "metadata": {},
   "outputs": [],
   "source": [
    "from ampel.pipeline.t0.ingesters.MemoryIngester import MemoryIngester\n",
    "from ampel.pipeline.t0.AlertProcessor import AlertProcessor"
   ]
  },
  {
   "cell_type": "markdown",
   "metadata": {},
   "source": [
    "#### Create new instance of AlertProcessor:\n",
    "\n",
    "* without loading channels\n",
    "* using mongomock as underlying database\n",
    "\n",
    "You will need the two files 'channels.json' and 'global.json' in the 'mockdb' folder"
   ]
  },
  {
   "cell_type": "code",
   "execution_count": 2,
   "metadata": {},
   "outputs": [
    {
     "name": "stdout",
     "output_type": "stream",
     "text": [
      "2018-02-27 15:00:23 AlertProcessor.py:54 __init__() INFO Setting up new AlertProcessor instance\n",
      "hkh\n",
      "2018-02-27 15:00:23 AlertProcessor.py:109 __init__() INFO AlertProcessor initial setup completed\n"
     ]
    }
   ],
   "source": [
    "ap=AlertProcessor(load_channels=False, mock_db='../mockdb/')"
   ]
  },
  {
   "cell_type": "markdown",
   "metadata": {},
   "source": [
    "#### Load your channel (here 'HU_SN1')"
   ]
  },
  {
   "cell_type": "code",
   "execution_count": 3,
   "metadata": {},
   "outputs": [
    {
     "name": "stdout",
     "output_type": "stream",
     "text": [
      "2018-02-27 15:00:23 AlertProcessor.py:172 __create_channel() INFO Setting up channel: HU_SN1\n",
      "2018-02-27 15:00:23 AlertProcessor.py:181 __create_channel() INFO Loading filter: ampel.pipeline.t0.filters.BasicFilter\n",
      "2018-02-27 15:00:23 BasicFilter.py:44 set_filter_parameters() INFO Following filter parameter was set: {'operator': <built-in function gt>, 'criteria': [{'rb': 0.8, 'operator': '>'}, {'fid': 1, 'operator': '='}, {'mag': 18, 'operator': '<'}], 'len': 3}\n",
      "2018-02-27 15:00:23 AlertProcessor.py:189 __create_channel() INFO On match flags: T2RunnableIds.PHOTO_TYPE|PHOTO_Z|AGN|SNCOSMO\n"
     ]
    }
   ],
   "source": [
    "ap.load_channel(\"HU_SN1\")"
   ]
  },
  {
   "cell_type": "markdown",
   "metadata": {},
   "source": [
    "#### Create memory ingester"
   ]
  },
  {
   "cell_type": "code",
   "execution_count": 4,
   "metadata": {
    "scrolled": true
   },
   "outputs": [],
   "source": [
    "md = MemoryIngester()"
   ]
  },
  {
   "cell_type": "markdown",
   "metadata": {},
   "source": [
    "#### Associated it the AlertProcessor instance"
   ]
  },
  {
   "cell_type": "code",
   "execution_count": 5,
   "metadata": {},
   "outputs": [],
   "source": [
    "ap.set_ingester_instance(md)"
   ]
  },
  {
   "cell_type": "markdown",
   "metadata": {},
   "source": [
    "#### Process all alerts in folder 'alerts/ipac'"
   ]
  },
  {
   "cell_type": "code",
   "execution_count": 6,
   "metadata": {},
   "outputs": [
    {
     "name": "stdout",
     "output_type": "stream",
     "text": [
      "2018-02-27 15:00:23 AlertFileList.py:32 set_folder() DEBUG Target incoming folder: ../alerts/ipac/\n",
      "2018-02-27 15:00:23 AlertProcessor.py:271 run_iterable_paths() INFO Returning iterable for file paths in folder: ../alerts/ipac/\n",
      "2018-02-27 15:00:23 AlertFileList.py:57 build_file_list() DEBUG Building internal file list\n",
      "2018-02-27 15:00:23 AlertFileList.py:84 build_file_list() DEBUG File list contains 12 elements\n",
      "2018-02-27 15:00:23 AlertProcessor.py:294 run() INFO Executing run method\n",
      "2018-02-27 15:00:23 AlertProcessor.py:328 run() INFO #######     Processing alerts     #######\n",
      "2018-02-27 15:00:23 AlertProcessor.py:380 run() DEBUG Processing: ../alerts/ipac/121540793515135000.avro\n",
      "2018-02-27 15:00:23 AlertProcessor.py:386 run() INFO Processing alert: ZTF18aaaaaac\n",
      "2018-02-27 15:00:23 AlertProcessor.py:403 run() INFO  -> Channel 'HU_SN1': alert passes filter criteria\n",
      "2018-02-27 15:00:23 AlertProcessor.py:423 run() DEBUG  -> Ingesting alert\n",
      "2018-02-27 15:00:23 AlertProcessor.py:380 run() DEBUG Processing: ../alerts/ipac/121540793515135001.avro\n",
      "2018-02-27 15:00:23 AlertProcessor.py:386 run() INFO Processing alert: ZTF18aaaaaag\n",
      "2018-02-27 15:00:23 AlertProcessor.py:403 run() INFO  -> Channel 'HU_SN1': alert passes filter criteria\n",
      "2018-02-27 15:00:23 AlertProcessor.py:423 run() DEBUG  -> Ingesting alert\n",
      "2018-02-27 15:00:23 AlertProcessor.py:380 run() DEBUG Processing: ../alerts/ipac/121540793515135002.avro\n",
      "2018-02-27 15:00:23 AlertProcessor.py:386 run() INFO Processing alert: ZTF18aaaaaae\n",
      "2018-02-27 15:00:23 AlertProcessor.py:403 run() INFO  -> Channel 'HU_SN1': alert passes filter criteria\n",
      "2018-02-27 15:00:23 AlertProcessor.py:423 run() DEBUG  -> Ingesting alert\n",
      "2018-02-27 15:00:23 AlertProcessor.py:380 run() DEBUG Processing: ../alerts/ipac/121540793515135003.avro\n",
      "2018-02-27 15:00:23 AlertProcessor.py:386 run() INFO Processing alert: ZTF18aaaaaad\n",
      "2018-02-27 15:00:23 AlertProcessor.py:403 run() INFO  -> Channel 'HU_SN1': alert passes filter criteria\n",
      "2018-02-27 15:00:23 AlertProcessor.py:423 run() DEBUG  -> Ingesting alert\n",
      "2018-02-27 15:00:23 AlertProcessor.py:380 run() DEBUG Processing: ../alerts/ipac/121540793515135004.avro\n",
      "2018-02-27 15:00:23 AlertProcessor.py:386 run() INFO Processing alert: ZTF18aaaaaak\n",
      "2018-02-27 15:00:23 AlertProcessor.py:403 run() INFO  -> Channel 'HU_SN1': alert passes filter criteria\n",
      "2018-02-27 15:00:23 AlertProcessor.py:423 run() DEBUG  -> Ingesting alert\n",
      "2018-02-27 15:00:23 AlertProcessor.py:380 run() DEBUG Processing: ../alerts/ipac/121540793515135005.avro\n",
      "2018-02-27 15:00:23 AlertProcessor.py:386 run() INFO Processing alert: ZTF18aaaaaaa\n",
      "2018-02-27 15:00:23 AlertProcessor.py:403 run() INFO  -> Channel 'HU_SN1': alert passes filter criteria\n",
      "2018-02-27 15:00:23 AlertProcessor.py:423 run() DEBUG  -> Ingesting alert\n",
      "2018-02-27 15:00:23 AlertProcessor.py:380 run() DEBUG Processing: ../alerts/ipac/121540793515135006.avro\n",
      "2018-02-27 15:00:23 AlertProcessor.py:386 run() INFO Processing alert: ZTF18aaaaaah\n",
      "2018-02-27 15:00:23 AlertProcessor.py:403 run() INFO  -> Channel 'HU_SN1': alert passes filter criteria\n",
      "2018-02-27 15:00:23 AlertProcessor.py:423 run() DEBUG  -> Ingesting alert\n",
      "2018-02-27 15:00:23 AlertProcessor.py:380 run() DEBUG Processing: ../alerts/ipac/121540793515135007.avro\n",
      "2018-02-27 15:00:23 AlertProcessor.py:386 run() INFO Processing alert: ZTF18aaaaaaf\n",
      "2018-02-27 15:00:23 AlertProcessor.py:403 run() INFO  -> Channel 'HU_SN1': alert passes filter criteria\n",
      "2018-02-27 15:00:23 AlertProcessor.py:423 run() DEBUG  -> Ingesting alert\n",
      "2018-02-27 15:00:23 AlertProcessor.py:380 run() DEBUG Processing: ../alerts/ipac/121540793515135008.avro\n",
      "2018-02-27 15:00:23 AlertProcessor.py:386 run() INFO Processing alert: ZTF18aaaaaal\n",
      "2018-02-27 15:00:23 AlertProcessor.py:403 run() INFO  -> Channel 'HU_SN1': alert passes filter criteria\n",
      "2018-02-27 15:00:23 AlertProcessor.py:423 run() DEBUG  -> Ingesting alert\n",
      "2018-02-27 15:00:23 AlertProcessor.py:380 run() DEBUG Processing: ../alerts/ipac/121540793515135009.avro\n",
      "2018-02-27 15:00:23 AlertProcessor.py:386 run() INFO Processing alert: ZTF18aaaaaaj\n",
      "2018-02-27 15:00:23 AlertProcessor.py:403 run() INFO  -> Channel 'HU_SN1': alert passes filter criteria\n",
      "2018-02-27 15:00:23 AlertProcessor.py:423 run() DEBUG  -> Ingesting alert\n",
      "2018-02-27 15:00:23 AlertProcessor.py:380 run() DEBUG Processing: ../alerts/ipac/121540793515135010.avro\n",
      "2018-02-27 15:00:23 AlertProcessor.py:386 run() INFO Processing alert: ZTF18aaaaaai\n",
      "2018-02-27 15:00:23 AlertProcessor.py:403 run() INFO  -> Channel 'HU_SN1': alert passes filter criteria\n",
      "2018-02-27 15:00:23 AlertProcessor.py:423 run() DEBUG  -> Ingesting alert\n",
      "2018-02-27 15:00:23 AlertProcessor.py:380 run() DEBUG Processing: ../alerts/ipac/121540793515135011.avro\n",
      "2018-02-27 15:00:23 AlertProcessor.py:386 run() INFO Processing alert: ZTF18aaaaaab\n",
      "2018-02-27 15:00:23 AlertProcessor.py:403 run() INFO  -> Channel 'HU_SN1': alert passes filter criteria\n",
      "2018-02-27 15:00:23 AlertProcessor.py:423 run() DEBUG  -> Ingesting alert\n",
      "2018-02-27 15:00:23 AlertProcessor.py:441 run() INFO Alert processing completed (time required: 0s)\n"
     ]
    }
   ],
   "source": [
    "ap.run_iterable_paths(base_dir=\"../alerts/ipac/\", extension=\"*.avro\")"
   ]
  },
  {
   "cell_type": "markdown",
   "metadata": {},
   "source": [
    "#### Print accepted alerts (dicts - output removed because too long)"
   ]
  },
  {
   "cell_type": "code",
   "execution_count": null,
   "metadata": {
    "scrolled": true
   },
   "outputs": [],
   "source": [
    "ap.ingester.get_accepted()"
   ]
  },
  {
   "cell_type": "markdown",
   "metadata": {},
   "source": [
    "#### Print object IDs of accepted ZTF alerts"
   ]
  },
  {
   "cell_type": "code",
   "execution_count": 9,
   "metadata": {},
   "outputs": [
    {
     "data": {
      "text/plain": [
       "['ZTF18aaaaaac',\n",
       " 'ZTF18aaaaaag',\n",
       " 'ZTF18aaaaaae',\n",
       " 'ZTF18aaaaaad',\n",
       " 'ZTF18aaaaaak',\n",
       " 'ZTF18aaaaaaa',\n",
       " 'ZTF18aaaaaah',\n",
       " 'ZTF18aaaaaaf',\n",
       " 'ZTF18aaaaaal',\n",
       " 'ZTF18aaaaaaj',\n",
       " 'ZTF18aaaaaai',\n",
       " 'ZTF18aaaaaab']"
      ]
     },
     "execution_count": 9,
     "metadata": {},
     "output_type": "execute_result"
    }
   ],
   "source": [
    "ap.ingester.get_accepted_ids()"
   ]
  }
 ],
 "metadata": {
  "kernelspec": {
   "display_name": "Python 3",
   "language": "python",
   "name": "python3"
  },
  "language_info": {
   "codemirror_mode": {
    "name": "ipython",
    "version": 3
   },
   "file_extension": ".py",
   "mimetype": "text/x-python",
   "name": "python",
   "nbconvert_exporter": "python",
   "pygments_lexer": "ipython3",
   "version": "3.6.4"
  }
 },
 "nbformat": 4,
 "nbformat_minor": 2
}
