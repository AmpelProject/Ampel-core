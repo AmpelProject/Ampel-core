{
 "cells": [
  {
   "cell_type": "code",
   "execution_count": 1,
   "metadata": {},
   "outputs": [],
   "source": [
    "from ampel.pipeline.common.db.DBLogPrinter import DBLogPrinter"
   ]
  },
  {
   "cell_type": "code",
   "execution_count": 2,
   "metadata": {},
   "outputs": [],
   "source": [
    "import pymongo"
   ]
  },
  {
   "cell_type": "code",
   "execution_count": 3,
   "metadata": {},
   "outputs": [],
   "source": [
    "mc = pymongo.MongoClient()"
   ]
  },
  {
   "cell_type": "code",
   "execution_count": 4,
   "metadata": {},
   "outputs": [],
   "source": [
    "lp = DBLogPrinter(mc)"
   ]
  },
  {
   "cell_type": "code",
   "execution_count": 5,
   "metadata": {},
   "outputs": [
    {
     "name": "stdout",
     "output_type": "stream",
     "text": [
      "2017-12-11 22:29:48  -> Channel 'SN': alert was rejected\n",
      "2017-12-11 22:29:48  -> Channel 'Random': alert passes filter criteria\n",
      "2017-12-11 22:29:48  -> Dispatching alert\n",
      "2017-12-11 22:29:48 Checking DB for existing ppts\n",
      "2017-12-11 22:29:48 Following PPT is marked for exclusion: 1000011\n",
      "2017-12-11 22:29:48 Following PPT is marked for exclusion: 1000010\n",
      "2017-12-11 22:29:48 Following PPT is marked for exclusion: 1000111\n",
      "2017-12-11 22:29:48 No photo point to dispatch\n",
      "2017-12-11 22:29:48  -> Channel 'SN': alert was rejected\n",
      "2017-12-11 22:29:48  -> Channel 'Random': alert passes filter criteria\n",
      "2017-12-11 22:29:48  -> Dispatching alert\n",
      "2017-12-11 22:29:48 Checking DB for existing ppts\n",
      "2017-12-11 22:29:48 Following PPT is marked for exclusion: 1000011\n",
      "2017-12-11 22:29:48 Following PPT is marked for exclusion: 1000010\n",
      "2017-12-11 22:29:48 Following PPT is marked for exclusion: 1000111\n",
      "2017-12-11 22:29:48 No photo point to dispatch\n",
      "2017-12-11 22:29:48  -> Channel 'SN': alert was rejected\n",
      "2017-12-11 22:29:48  -> Channel 'Random': alert passes filter criteria\n",
      "2017-12-11 22:29:48  -> Dispatching alert\n",
      "2017-12-11 22:29:48 Checking DB for existing ppts\n",
      "2017-12-11 22:29:48 Following PPT is marked for exclusion: 1000011\n",
      "2017-12-11 22:29:48 Following PPT is marked for exclusion: 1000010\n",
      "2017-12-11 22:29:48 Following PPT is marked for exclusion: 1000111\n",
      "2017-12-11 22:29:48 No photo point to dispatch\n",
      "2017-12-11 22:29:48  -> Channel 'SN': alert was rejected\n",
      "2017-12-11 22:29:48  -> Channel 'Random': alert passes filter criteria\n",
      "2017-12-11 22:29:48  -> Dispatching alert\n",
      "2017-12-11 22:29:48 Checking DB for existing ppts\n",
      "2017-12-11 22:29:48 Following PPT is marked for exclusion: 1000011\n",
      "2017-12-11 22:29:48 Following PPT is marked for exclusion: 1000010\n",
      "2017-12-11 22:29:48 Following PPT is marked for exclusion: 1000111\n",
      "2017-12-11 22:29:48 No photo point to dispatch\n"
     ]
    }
   ],
   "source": [
    "lp.get_logs_with_tranId(0)"
   ]
  },
  {
   "cell_type": "code",
   "execution_count": null,
   "metadata": {},
   "outputs": [],
   "source": []
  }
 ],
 "metadata": {
  "kernelspec": {
   "display_name": "Python 3",
   "language": "python",
   "name": "python3"
  },
  "language_info": {
   "codemirror_mode": {
    "name": "ipython",
    "version": 3
   },
   "file_extension": ".py",
   "mimetype": "text/x-python",
   "name": "python",
   "nbconvert_exporter": "python",
   "pygments_lexer": "ipython3",
   "version": "3.6.3"
  }
 },
 "nbformat": 4,
 "nbformat_minor": 2
}
