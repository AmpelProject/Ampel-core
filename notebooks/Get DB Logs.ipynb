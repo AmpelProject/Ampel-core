{
 "cells": [
  {
   "cell_type": "code",
   "execution_count": 13,
   "metadata": {},
   "outputs": [],
   "source": [
    "from ampel.pipeline.common.db.DBLogPrinter import DBLogPrinter"
   ]
  },
  {
   "cell_type": "code",
   "execution_count": 14,
   "metadata": {},
   "outputs": [],
   "source": [
    "import pymongo"
   ]
  },
  {
   "cell_type": "code",
   "execution_count": 15,
   "metadata": {},
   "outputs": [],
   "source": [
    "mc = pymongo.MongoClient()"
   ]
  },
  {
   "cell_type": "code",
   "execution_count": 16,
   "metadata": {},
   "outputs": [],
   "source": [
    "lp = DBLogPrinter(mc)"
   ]
  },
  {
   "cell_type": "code",
   "execution_count": 17,
   "metadata": {},
   "outputs": [
    {
     "name": "stdout",
     "output_type": "stream",
     "text": [
      "2017-12-13 11:01:30  -> Channel 'SN': alert was rejected\n",
      "2017-12-13 11:01:30  -> Channel 'Random': alert was rejected\n",
      "2017-12-13 11:01:30 Disposing rejected candidates not implemented yet\n",
      "2017-12-13 11:01:30  -> Channel 'SN': alert was rejected\n",
      "2017-12-13 11:01:30  -> Channel 'Random': alert was rejected\n",
      "2017-12-13 11:01:30 Disposing rejected candidates not implemented yet\n",
      "2017-12-13 11:01:30  -> Channel 'SN': alert was rejected\n",
      "2017-12-13 11:01:30  -> Channel 'Random': alert was rejected\n",
      "2017-12-13 11:01:30 Disposing rejected candidates not implemented yet\n",
      "2017-12-13 11:01:30  -> Channel 'SN': alert was rejected\n",
      "2017-12-13 11:01:30  -> Channel 'Random': alert was rejected\n",
      "2017-12-13 11:01:30 Disposing rejected candidates not implemented yet\n",
      "2017-12-13 11:01:48  -> Channel 'SN': alert was rejected\n",
      "2017-12-13 11:01:48  -> Channel 'Random': alert passes filter criteria\n",
      "2017-12-13 11:01:48  -> Dispatching alert\n",
      "2017-12-13 11:01:48 Checking DB for existing ppts\n",
      "2017-12-13 11:01:48 Transient is new\n",
      "2017-12-13 11:01:48 Inserting new ppts: {1000000, 1000004, 1000005, 1000006, 1000007, 1000008, 1000009, 1000010, 1000011, 1000012, 1000013, 1000014}\n",
      "2017-12-13 11:01:48 Generated compoundId: e4d28ed6e377a6bed6adaae6df131d89\n",
      "2017-12-13 11:01:48 Generating T2 docs\n",
      "2017-12-13 11:01:48 Inserting 3 T2 docs into DB\n",
      "2017-12-13 11:01:48 Updating transient document\n",
      "2017-12-13 11:01:48  -> Channel 'SN': alert was rejected\n",
      "2017-12-13 11:01:48  -> Channel 'Random': alert passes filter criteria\n",
      "2017-12-13 11:01:48  -> Dispatching alert\n",
      "2017-12-13 11:01:48 Checking DB for existing ppts\n",
      "2017-12-13 11:01:48 Inserting new ppts: {1000015}\n",
      "2017-12-13 11:01:48 Generated compoundId: d2de066b96d8cad7a5a814e72d2df414\n",
      "2017-12-13 11:01:48 Generating T2 docs\n",
      "2017-12-13 11:01:48 Inserting 3 T2 docs into DB\n",
      "2017-12-13 11:01:48 Updating transient document\n",
      "2017-12-13 11:01:48  -> Channel 'SN': alert was rejected\n",
      "2017-12-13 11:01:48  -> Channel 'Random': alert passes filter criteria\n",
      "2017-12-13 11:01:48  -> Dispatching alert\n",
      "2017-12-13 11:01:48 Checking DB for existing ppts\n",
      "2017-12-13 11:01:48 Marking ppt 1000010 as superseeded by 1000100\n",
      "2017-12-13 11:01:48 Marking ppt 1000011 as superseeded by 1000111\n",
      "2017-12-13 11:01:48 Inserting new ppts: {1000016, 1000100, 1000111}\n",
      "2017-12-13 11:01:48 Generated compoundId: e5813197bb6b28d6950611e9b64c76ea\n",
      "2017-12-13 11:01:48 Generating T2 docs\n",
      "2017-12-13 11:01:48 Inserting 3 T2 docs into DB\n",
      "2017-12-13 11:01:48 Updating transient document\n",
      "2017-12-13 11:01:48  -> Channel 'SN': alert was rejected\n",
      "2017-12-13 11:01:48  -> Channel 'Random': alert passes filter criteria\n",
      "2017-12-13 11:01:48  -> Dispatching alert\n",
      "2017-12-13 11:01:48 Checking DB for existing ppts\n",
      "2017-12-13 11:01:48 Following PPT is marked for exclusion: 1000011\n",
      "2017-12-13 11:01:48 Following PPT is marked for exclusion: 1000010\n",
      "2017-12-13 11:01:48 Marking ppt 1000010 as superseeded by 1000100\n",
      "2017-12-13 11:01:48 Marking ppt 1000011 as superseeded by 1000211\n",
      "2017-12-13 11:01:48 Marking ppt 1000111 as superseeded by 1000211\n",
      "2017-12-13 11:01:48 Inserting new ppts: {1000017, 1000211}\n",
      "2017-12-13 11:01:48 Generated compoundId: 6befe7decdc5ac7d607eec2bcb4bfbb3\n",
      "2017-12-13 11:01:48 Generating T2 docs\n",
      "2017-12-13 11:01:48 Inserting 3 T2 docs into DB\n",
      "2017-12-13 11:01:48 Updating transient document\n",
      "2017-12-13 11:06:14  -> Channel 'SN': alert was rejected\n",
      "2017-12-13 11:06:14  -> Channel 'Random': alert passes filter criteria\n",
      "2017-12-13 11:06:14  -> Dispatching alert\n",
      "2017-12-13 11:06:14 Checking DB for existing ppts\n",
      "2017-12-13 11:06:14 Transient is new\n",
      "2017-12-13 11:06:14 Inserting new ppts: {1000000, 1000004, 1000005, 1000006, 1000007, 1000008, 1000009, 1000010, 1000011, 1000012, 1000013, 1000014}\n",
      "2017-12-13 11:06:14 Generated compoundId: e4d28ed6e377a6bed6adaae6df131d89\n",
      "2017-12-13 11:06:14 Generating T2 docs\n",
      "2017-12-13 11:06:14 Inserting 3 T2 docs into DB\n",
      "2017-12-13 11:06:14 Updating transient document\n",
      "2017-12-13 11:06:14  -> Channel 'SN': alert was rejected\n",
      "2017-12-13 11:06:14  -> Channel 'Random': alert passes filter criteria\n",
      "2017-12-13 11:06:14  -> Dispatching alert\n",
      "2017-12-13 11:06:14 Checking DB for existing ppts\n",
      "2017-12-13 11:06:14 Inserting new ppts: {1000015}\n",
      "2017-12-13 11:06:14 Generated compoundId: d2de066b96d8cad7a5a814e72d2df414\n",
      "2017-12-13 11:06:14 Generating T2 docs\n",
      "2017-12-13 11:06:14 Inserting 3 T2 docs into DB\n",
      "2017-12-13 11:06:14 Updating transient document\n",
      "2017-12-13 11:06:14  -> Channel 'SN': alert was rejected\n",
      "2017-12-13 11:06:14  -> Channel 'Random': alert passes filter criteria\n",
      "2017-12-13 11:06:14  -> Dispatching alert\n",
      "2017-12-13 11:06:14 Checking DB for existing ppts\n",
      "2017-12-13 11:06:14 Marking ppt 1000010 as superseeded by 1000100\n",
      "2017-12-13 11:06:14 Marking ppt 1000011 as superseeded by 1000111\n",
      "2017-12-13 11:06:14 Inserting new ppts: {1000016, 1000100, 1000111}\n",
      "2017-12-13 11:06:14 Generated compoundId: e5813197bb6b28d6950611e9b64c76ea\n",
      "2017-12-13 11:06:14 Generating T2 docs\n",
      "2017-12-13 11:06:14 Inserting 3 T2 docs into DB\n",
      "2017-12-13 11:06:14 Updating transient document\n",
      "2017-12-13 11:06:14  -> Channel 'SN': alert was rejected\n",
      "2017-12-13 11:06:14  -> Channel 'Random': alert passes filter criteria\n",
      "2017-12-13 11:06:14  -> Dispatching alert\n",
      "2017-12-13 11:06:14 Checking DB for existing ppts\n",
      "2017-12-13 11:06:14 Following PPT is marked for exclusion: 1000011\n",
      "2017-12-13 11:06:14 Following PPT is marked for exclusion: 1000010\n",
      "2017-12-13 11:06:14 Marking ppt 1000010 as superseeded by 1000100\n",
      "2017-12-13 11:06:14 Marking ppt 1000011 as superseeded by 1000211\n",
      "2017-12-13 11:06:14 Marking ppt 1000111 as superseeded by 1000211\n",
      "2017-12-13 11:06:14 Inserting new ppts: {1000017, 1000211}\n",
      "2017-12-13 11:06:14 Generated compoundId: 6befe7decdc5ac7d607eec2bcb4bfbb3\n",
      "2017-12-13 11:06:14 Generating T2 docs\n",
      "2017-12-13 11:06:14 Inserting 3 T2 docs into DB\n",
      "2017-12-13 11:06:14 Updating transient document\n"
     ]
    }
   ],
   "source": [
    "lp.get_logs_with_tranId(123)"
   ]
  },
  {
   "cell_type": "code",
   "execution_count": null,
   "metadata": {},
   "outputs": [],
   "source": []
  }
 ],
 "metadata": {
  "kernelspec": {
   "display_name": "Python 3",
   "language": "python",
   "name": "python3"
  },
  "language_info": {
   "codemirror_mode": {
    "name": "ipython",
    "version": 3
   },
   "file_extension": ".py",
   "mimetype": "text/x-python",
   "name": "python",
   "nbconvert_exporter": "python",
   "pygments_lexer": "ipython3",
   "version": "3.6.3"
  }
 },
 "nbformat": 4,
 "nbformat_minor": 2
}
