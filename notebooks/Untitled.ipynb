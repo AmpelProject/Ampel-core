{
 "cells": [
  {
   "cell_type": "markdown",
   "metadata": {},
   "source": [
    "from ampel.pipeline.t0.AlertProcessor import AlertProcessor\n",
    "from ampel.pipeline.t0.loaders.ZIJSONLoader import ZIJSONLoader\n",
    "ppl = AlertProcessor()\n",
    "ppl.alert_loading_func = ZIJSONLoader.get_flat_pps_list_from_json\n",
    "file_paths = ppl.get_iterable_paths(base_dir=\"/Users/hu/Documents/ZTF/Ampel/alerts/same_alert_inc_ppts_superseed/\", extension=\"*.json\")\n",
    "ppl.run(file_paths)\n",
    "\n",
    "db.getCollection('t2').find({\"compoundId\": \"e5813197bb6b28d6950611e9b64c76ea\", \"t2Module\":{\"$bitsAnySet\": 20}})\n",
    "db.getCollection('photopoints').find({\"_id\": 1000010})\n",
    "\n",
    "\n",
    "quickimport(\"T2SchedulingFlags\")\n",
    "quickimport(\"PhotoPointFlags\")\n",
    "T2SchedulingFlags(1)\n",
    "T2SchedulingFlags(4)\n",
    "T2SchedulingFlags(16)\n",
    "PhotoPointFlags(3215368)\n",
    "\n"
   ]
  },
  {
   "cell_type": "markdown",
   "metadata": {},
   "source": [
    "- Set Random config to 1<br>\n",
    "##########################"
   ]
  },
  {
   "cell_type": "code",
   "execution_count": null,
   "metadata": {},
   "outputs": [],
   "source": [
    "from ampel.pipeline.t0.AlertProcessor import AlertProcessor\n",
    "from ampel.pipeline.t0.loaders.ZIJSONLoader import ZIJSONLoader\n",
    "ppl = AlertProcessor()\n",
    "ppl.alert_loading_func = ZIJSONLoader.get_flat_pps_list_from_json\n",
    "file_paths = ppl.get_iterable_paths(base_dir=\"/Users/hu/Documents/ZTF/Ampel/alerts/same_alert_inc_ppts_superseed/\", extension=\"*.json\")\n",
    "ppl.run(file_paths)"
   ]
  },
  {
   "cell_type": "code",
   "execution_count": null,
   "metadata": {},
   "outputs": [],
   "source": []
  }
 ],
 "metadata": {
  "kernelspec": {
   "display_name": "Python 3",
   "language": "python",
   "name": "python3"
  },
  "language_info": {
   "codemirror_mode": {
    "name": "ipython",
    "version": 3
   },
   "file_extension": ".py",
   "mimetype": "text/x-python",
   "name": "python",
   "nbconvert_exporter": "python",
   "pygments_lexer": "ipython3",
   "version": "3.6.3"
  }
 },
 "nbformat": 4,
 "nbformat_minor": 2
}
