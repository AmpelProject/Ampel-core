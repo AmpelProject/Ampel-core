{
 "cells": [
  {
   "cell_type": "code",
   "execution_count": 1,
   "metadata": {},
   "outputs": [],
   "source": [
    "from ampel.pipeline.t0.AmpelAlert import AmpelAlert\n",
    "from ampel.pipeline.t0.loaders.ZIAlertLoader import ZIAlertLoader"
   ]
  },
  {
   "cell_type": "code",
   "execution_count": 2,
   "metadata": {},
   "outputs": [],
   "source": [
    "ampel_alert = AmpelAlert.load_ztf_alert('../alerts/ipac/121540793515135000.avro')\n",
    "AmpelAlert.alert_keywords = {\n",
    "\t\"transient_id\" : \"alertid\",\n",
    "\t\"photopoint_id\" : \"candid\",\n",
    "\t\"obs_date\" : \"jd\",\n",
    "\t\"filter_id\" : \"fid\",\n",
    "\t\"mag\" : \"magpsf\"\n",
    "}"
   ]
  },
  {
   "cell_type": "code",
   "execution_count": 3,
   "metadata": {
    "scrolled": true
   },
   "outputs": [
    {
     "data": {
      "text/plain": [
       "[15.43970012664795,\n",
       " 20.201900482177734,\n",
       " 18.790700912475586,\n",
       " 15.43970012664795,\n",
       " 13.983499526977539,\n",
       " 17.942699432373047,\n",
       " 17.417800903320312,\n",
       " 16.506099700927734,\n",
       " 18.911500930786133,\n",
       " 16.632400512695312,\n",
       " 20.428499221801758,\n",
       " 16.853200912475586,\n",
       " 18.434499740600586,\n",
       " 17.981800079345703,\n",
       " 16.804399490356445,\n",
       " 17.00510025024414,\n",
       " 16.545499801635742,\n",
       " 15.7677001953125,\n",
       " 17.27680015563965,\n",
       " 16.09440040588379,\n",
       " 15.657299995422363,\n",
       " 16.839500427246094,\n",
       " 17.872400283813477,\n",
       " 16.312700271606445,\n",
       " 20.495500564575195,\n",
       " 15.412400245666504,\n",
       " 15.181500434875488,\n",
       " 14.776700019836426,\n",
       " 15.691900253295898,\n",
       " 16.15180015563965,\n",
       " 16.865699768066406,\n",
       " 15.488200187683105,\n",
       " 17.226900100708008,\n",
       " 18.927400588989258,\n",
       " 18.221799850463867,\n",
       " 15.791199684143066,\n",
       " 19.00819969177246,\n",
       " 17.524799346923828,\n",
       " 14.636199951171875,\n",
       " 17.408100128173828,\n",
       " 16.201799392700195,\n",
       " 14.588500022888184,\n",
       " 17.593000411987305,\n",
       " 17.917999267578125,\n",
       " 16.100500106811523,\n",
       " 16.094900131225586,\n",
       " 18.428300857543945,\n",
       " 18.039499282836914,\n",
       " 17.227800369262695,\n",
       " 15.873200416564941,\n",
       " 15.199399948120117,\n",
       " 16.086200714111328,\n",
       " 18.29400062561035,\n",
       " 14.831199645996094,\n",
       " 16.270299911499023,\n",
       " 14.589699745178223,\n",
       " 14.297599792480469,\n",
       " 19.217899322509766,\n",
       " 18.440900802612305,\n",
       " 17.753700256347656,\n",
       " 16.90130043029785,\n",
       " 19.025699615478516,\n",
       " 18.25349998474121,\n",
       " 18.02899932861328,\n",
       " 18.51409912109375,\n",
       " 14.17770004272461,\n",
       " 16.00860023498535,\n",
       " 15.647899627685547,\n",
       " 19.854400634765625,\n",
       " 20.685100555419922,\n",
       " 16.92650032043457,\n",
       " 16.500699996948242,\n",
       " 15.113300323486328,\n",
       " 19.514400482177734,\n",
       " 17.970500946044922,\n",
       " 19.489099502563477,\n",
       " 15.703700065612793,\n",
       " 18.29640007019043,\n",
       " 14.523500442504883,\n",
       " 15.087400436401367,\n",
       " 16.066099166870117,\n",
       " 16.725799560546875,\n",
       " 17.38249969482422,\n",
       " 16.972400665283203,\n",
       " 17.290300369262695,\n",
       " 14.198599815368652,\n",
       " 18.08690071105957,\n",
       " 15.63539981842041,\n",
       " 19.898399353027344]"
      ]
     },
     "execution_count": 3,
     "metadata": {},
     "output_type": "execute_result"
    }
   ],
   "source": [
    "ampel_alert.get_values(\"mag\")"
   ]
  },
  {
   "cell_type": "code",
   "execution_count": 4,
   "metadata": {},
   "outputs": [
    {
     "data": {
      "text/plain": [
       "[(2457632.95921, 15.43970012664795),\n",
       " (2457632.95875, 20.201900482177734),\n",
       " (2457632.95921, 18.790700912475586),\n",
       " (2457632.95921, 15.43970012664795),\n",
       " (2457632.95921, 13.983499526977539),\n",
       " (2457632.95875, 17.942699432373047),\n",
       " (2457632.95921, 17.417800903320312),\n",
       " (2457632.95875, 16.506099700927734),\n",
       " (2457632.95875, 18.911500930786133),\n",
       " (2457632.95921, 16.632400512695312),\n",
       " (2457629.9668, 20.428499221801758),\n",
       " (2457629.9654, 16.853200912475586),\n",
       " (2457629.9654, 18.434499740600586),\n",
       " (2457629.9668, 17.981800079345703),\n",
       " (2457629.9654, 16.804399490356445),\n",
       " (2457629.9668, 17.00510025024414),\n",
       " (2457629.9668, 16.545499801635742),\n",
       " (2457629.9654, 15.7677001953125),\n",
       " (2457631.90269, 17.27680015563965),\n",
       " (2457631.90269, 16.09440040588379),\n",
       " (2457631.90269, 15.657299995422363),\n",
       " (2457631.90269, 16.839500427246094),\n",
       " (2457631.90269, 17.872400283813477),\n",
       " (2457631.90269, 16.312700271606445),\n",
       " (2457627.93984, 20.495500564575195),\n",
       " (2457627.9403, 15.412400245666504),\n",
       " (2457627.9403, 15.181500434875488),\n",
       " (2457627.93984, 14.776700019836426),\n",
       " (2457627.9403, 15.691900253295898),\n",
       " (2457627.93984, 16.15180015563965),\n",
       " (2457627.9403, 16.865699768066406),\n",
       " (2457627.9403, 15.488200187683105),\n",
       " (2457627.93984, 17.226900100708008),\n",
       " (2457627.9403, 18.927400588989258),\n",
       " (2457627.9403, 18.221799850463867),\n",
       " (2457627.9403, 15.791199684143066),\n",
       " (2457627.93984, 19.00819969177246),\n",
       " (2457627.93984, 17.524799346923828),\n",
       " (2457620.91381, 14.636199951171875),\n",
       " (2457620.91335, 17.408100128173828),\n",
       " (2457620.91381, 16.201799392700195),\n",
       " (2457620.91335, 14.588500022888184),\n",
       " (2457620.91335, 17.593000411987305),\n",
       " (2457620.91335, 17.917999267578125),\n",
       " (2457620.91335, 16.100500106811523),\n",
       " (2457620.91335, 16.094900131225586),\n",
       " (2457620.91381, 18.428300857543945),\n",
       " (2457620.91381, 18.039499282836914),\n",
       " (2457617.98273, 17.227800369262695),\n",
       " (2457617.98227, 15.873200416564941),\n",
       " (2457617.98273, 15.199399948120117),\n",
       " (2457617.98227, 16.086200714111328),\n",
       " (2457617.98273, 18.29400062561035),\n",
       " (2457617.98227, 14.831199645996094),\n",
       " (2457617.98273, 16.270299911499023),\n",
       " (2457617.98273, 14.589699745178223),\n",
       " (2457617.98227, 14.297599792480469),\n",
       " (2457617.98273, 19.217899322509766),\n",
       " (2457617.98273, 18.440900802612305),\n",
       " (2457617.98273, 17.753700256347656),\n",
       " (2457617.98273, 16.90130043029785),\n",
       " (2457617.98273, 19.025699615478516),\n",
       " (2457617.98273, 18.25349998474121),\n",
       " (2457617.98227, 18.02899932861328),\n",
       " (2457614.90269, 18.51409912109375),\n",
       " (2457614.90269, 14.17770004272461),\n",
       " (2457614.90269, 16.00860023498535),\n",
       " (2457614.90269, 15.647899627685547),\n",
       " (2457614.90269, 19.854400634765625),\n",
       " (2457614.90269, 20.685100555419922),\n",
       " (2457614.90269, 16.92650032043457),\n",
       " (2457610.93984, 16.500699996948242),\n",
       " (2457610.93984, 15.113300323486328),\n",
       " (2457610.93984, 19.514400482177734),\n",
       " (2457610.93984, 17.970500946044922),\n",
       " (2457610.93984, 19.489099502563477),\n",
       " (2457610.9403, 15.703700065612793),\n",
       " (2457610.9403, 18.29640007019043),\n",
       " (2457610.93984, 14.523500442504883),\n",
       " (2457610.9403, 15.087400436401367),\n",
       " (2457610.93984, 16.066099166870117),\n",
       " (2457610.93984, 16.725799560546875),\n",
       " (2457610.93984, 17.38249969482422),\n",
       " (2457610.9403, 16.972400665283203),\n",
       " (2457603.91381, 17.290300369262695),\n",
       " (2457603.91381, 14.198599815368652),\n",
       " (2457603.91335, 18.08690071105957),\n",
       " (2457603.91381, 15.63539981842041),\n",
       " (2457603.91335, 19.898399353027344)]"
      ]
     },
     "execution_count": 4,
     "metadata": {},
     "output_type": "execute_result"
    }
   ],
   "source": [
    "ampel_alert.get_tuples(\"jd\", \"magpsf\")"
   ]
  },
  {
   "cell_type": "code",
   "execution_count": 5,
   "metadata": {},
   "outputs": [
    {
     "data": {
      "text/plain": [
       "[15.43970012664795,\n",
       " 15.43970012664795,\n",
       " 13.983499526977539,\n",
       " 17.942699432373047,\n",
       " 17.417800903320312,\n",
       " 16.506099700927734,\n",
       " 16.632400512695312,\n",
       " 16.853200912475586,\n",
       " 17.981800079345703,\n",
       " 16.804399490356445,\n",
       " 17.00510025024414,\n",
       " 16.545499801635742,\n",
       " 15.7677001953125,\n",
       " 17.27680015563965,\n",
       " 16.09440040588379,\n",
       " 15.657299995422363,\n",
       " 16.839500427246094,\n",
       " 17.872400283813477,\n",
       " 16.312700271606445,\n",
       " 15.412400245666504,\n",
       " 15.181500434875488,\n",
       " 14.776700019836426,\n",
       " 15.691900253295898,\n",
       " 16.15180015563965,\n",
       " 17.226900100708008,\n",
       " 15.791199684143066,\n",
       " 17.408100128173828,\n",
       " 16.201799392700195,\n",
       " 17.917999267578125,\n",
       " 16.100500106811523,\n",
       " 16.094900131225586,\n",
       " 15.873200416564941,\n",
       " 15.199399948120117,\n",
       " 14.589699745178223,\n",
       " 17.753700256347656,\n",
       " 16.90130043029785,\n",
       " 14.17770004272461,\n",
       " 16.00860023498535,\n",
       " 15.647899627685547,\n",
       " 16.92650032043457,\n",
       " 16.500699996948242,\n",
       " 15.113300323486328,\n",
       " 17.970500946044922,\n",
       " 15.087400436401367,\n",
       " 16.725799560546875,\n",
       " 17.38249969482422,\n",
       " 16.972400665283203]"
      ]
     },
     "execution_count": 5,
     "metadata": {},
     "output_type": "execute_result"
    }
   ],
   "source": [
    "ampel_alert.get_values(\n",
    "    \"mag\", filters=[{'rb': 0.5, 'op': '>'},{'mag': 18, 'op': '<'}\n",
    "])"
   ]
  },
  {
   "cell_type": "code",
   "execution_count": 6,
   "metadata": {},
   "outputs": [
    {
     "data": {
      "image/png": "[encoded data removed]",
      "text/plain": [
       "<matplotlib.figure.Figure at 0x1074c14e0>"
      ]
     },
     "metadata": {},
     "output_type": "display_data"
    }
   ],
   "source": [
    "from ampel.view.AmpelAlertPlotter import AmpelAlertPlotter\n",
    "AmpelAlertPlotter.plot(ampel_alert, \"jd\", \"magpsf\")"
   ]
  }
 ],
 "metadata": {
  "kernelspec": {
   "display_name": "Python 3",
   "language": "python",
   "name": "python3"
  },
  "language_info": {
   "codemirror_mode": {
    "name": "ipython",
    "version": 3
   },
   "file_extension": ".py",
   "mimetype": "text/x-python",
   "name": "python",
   "nbconvert_exporter": "python",
   "pygments_lexer": "ipython3",
   "version": "3.6.3"
  }
 },
 "nbformat": 4,
 "nbformat_minor": 2
}
