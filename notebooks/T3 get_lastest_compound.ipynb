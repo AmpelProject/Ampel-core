{
 "cells": [
  {
   "cell_type": "markdown",
   "metadata": {},
   "source": [
    "# Part 1: create test documents"
   ]
  },
  {
   "cell_type": "markdown",
   "metadata": {},
   "source": [
    "Delete previous docs from main collection"
   ]
  },
  {
   "cell_type": "code",
   "execution_count": 1,
   "metadata": {},
   "outputs": [
    {
     "data": {
      "text/plain": [
       "<pymongo.results.DeleteResult at 0x1070f2cc8>"
      ]
     },
     "execution_count": 1,
     "metadata": {},
     "output_type": "execute_result"
    }
   ],
   "source": [
    "import pymongo\n",
    "mc = pymongo.MongoClient()\n",
    "db = mc.get_database(\"Ampel_test\")\n",
    "col = db.get_collection(\"main\")\n",
    "col.delete_many({})"
   ]
  },
  {
   "cell_type": "markdown",
   "metadata": {},
   "source": [
    "Instanciate an AlertProcessor without loading default channels"
   ]
  },
  {
   "cell_type": "code",
   "execution_count": 2,
   "metadata": {},
   "outputs": [
    {
     "name": "stdout",
     "output_type": "stream",
     "text": [
      "2018-02-22 11:05:56 AlertProcessor.py:54 __init__() INFO Setting up new AlertProcessor instance\n",
      "2018-02-22 11:05:56 AlertProcessor.py:105 __init__() INFO AlertProcessor initial setup completed\n"
     ]
    }
   ],
   "source": [
    "from ampel.pipeline.t0.AlertProcessor import AlertProcessor\n",
    "from ampel.pipeline.t0.loaders.ZIJSONLoader import ZIJSONLoader\n",
    "ap = AlertProcessor(load_channels=False, db_name=\"Ampel_test\")"
   ]
  },
  {
   "cell_type": "markdown",
   "metadata": {},
   "source": [
    "Change Random filter threshold parameter to 1 so that every alert get through filter (Alternatively we could use a NoFilter channel that is currently not set up)<br>\n",
    "Then load the random channel"
   ]
  },
  {
   "cell_type": "code",
   "execution_count": 3,
   "metadata": {},
   "outputs": [
    {
     "name": "stdout",
     "output_type": "stream",
     "text": [
      "2018-02-22 11:05:56 AlertProcessor.py:168 __create_channel() INFO Setting up channel: HU_RANDOM\n",
      "2018-02-22 11:05:56 AlertProcessor.py:177 __create_channel() INFO Loading filter: ampel.contrib.hu.t0.RandFilter\n",
      "2018-02-22 11:05:56 AlertProcessor.py:185 __create_channel() INFO On match flags: T2RunnableIds.PHOTO_TYPE|AGN|SNCOSMO\n"
     ]
    }
   ],
   "source": [
    "ap.channels_config.set_channel_filter_parameter(\"HU_RANDOM\", \"threshold\", 1)\n",
    "ap.load_channel(\"HU_RANDOM\")"
   ]
  },
  {
   "cell_type": "markdown",
   "metadata": {},
   "source": [
    "Tweak the alert loading function so that we can load self crafted json alerts"
   ]
  },
  {
   "cell_type": "code",
   "execution_count": 4,
   "metadata": {},
   "outputs": [],
   "source": [
    "ap.set_alert_loading_func(\n",
    "    ZIJSONLoader.get_flat_pps_list_from_json\n",
    ")"
   ]
  },
  {
   "cell_type": "markdown",
   "metadata": {},
   "source": [
    "Run the pipeline with only 5 json alerts"
   ]
  },
  {
   "cell_type": "code",
   "execution_count": 5,
   "metadata": {},
   "outputs": [
    {
     "name": "stdout",
     "output_type": "stream",
     "text": [
      "2018-02-22 11:05:56 AlertFileList.py:32 set_folder() DEBUG Target incoming folder: ../alerts/jonas/same_alert_inc_ppts/\n",
      "2018-02-22 11:05:56 AlertFileList.py:46 set_max_entries() DEBUG Max entries set to: 5\n",
      "2018-02-22 11:05:56 AlertProcessor.py:267 run_iterable_paths() INFO Returning iterable for file paths in folder: ../alerts/jonas/same_alert_inc_ppts/\n",
      "2018-02-22 11:05:56 AlertFileList.py:57 build_file_list() DEBUG Building internal file list\n",
      "2018-02-22 11:05:56 AlertFileList.py:79 build_file_list() DEBUG Filtering files using max_entries criterium\n",
      "2018-02-22 11:05:56 AlertFileList.py:84 build_file_list() DEBUG File list contains 5 elements\n",
      "2018-02-22 11:05:56 AlertProcessor.py:286 run() INFO Executing run method\n",
      "2018-02-22 11:05:56 AlertProcessor.py:320 run() INFO #######     Processing alerts     #######\n",
      "2018-02-22 11:05:56 AlertProcessor.py:219 load_ingester() INFO Loading ZIAlertIngester\n",
      "2018-02-22 11:05:56 AlertProcessor.py:366 run() DEBUG Processing: ../alerts/jonas/same_alert_inc_ppts/alert_1.json\n",
      "2018-02-22 11:05:56 AlertProcessor.py:372 run() INFO Processing alert: 1\n",
      "2018-02-22 11:05:56 AlertProcessor.py:389 run() INFO  -> Channel 'HU_RANDOM': alert passes filter criteria\n",
      "2018-02-22 11:05:56 AlertProcessor.py:409 run() DEBUG  -> Ingesting alert\n",
      "2018-02-22 11:05:56 ZIAlertIngester.py:145 ingest() INFO Checking DB for existing pps\n",
      "2018-02-22 11:05:56 ZIAlertIngester.py:171 ingest() INFO Transient is new\n",
      "2018-02-22 11:05:56 ZIAlertIngester.py:247 ingest() INFO 1 new pp(s) will be inserted into DB: {1000000}\n",
      "2018-02-22 11:05:56 CompoundGenerator.py:345 generate() INFO Compound generated for channel HU_RANDOM. CompoundId: 8155bc545f84d9652f1012ef2bdfb6eb\n",
      "2018-02-22 11:05:56 ZIAlertIngester.py:337 ingest() DEBUG Generating T2 docs\n",
      "2018-02-22 11:05:56 ZIAlertIngester.py:392 ingest() INFO 3 T2 docs will be inserted into DB\n",
      "2018-02-22 11:05:56 ZIAlertIngester.py:401 ingest() INFO Updating transient document\n",
      "2018-02-22 11:05:56 ZIAlertIngester.py:433 ingest() INFO {'writeErrors': [], 'writeConcernErrors': [], 'nInserted': 0, 'nUpserted': 6, 'nMatched': 0, 'nModified': 0, 'nRemoved': 0, 'upserted': [{'index': 0, '_id': 1000000}, {'index': 1, '_id': '8155bc545f84d9652f1012ef2bdfb6eb'}, {'index': 2, '_id': ObjectId('5a8e9604917475b8352e04b5')}, {'index': 3, '_id': ObjectId('5a8e9604917475b8352e04b6')}, {'index': 4, '_id': ObjectId('5a8e9604917475b8352e04b7')}, {'index': 5, '_id': 1}]}\n",
      "2018-02-22 11:05:56 AlertProcessor.py:366 run() DEBUG Processing: ../alerts/jonas/same_alert_inc_ppts/alert_2.json\n",
      "2018-02-22 11:05:56 AlertProcessor.py:372 run() INFO Processing alert: 1\n",
      "2018-02-22 11:05:56 AlertProcessor.py:389 run() INFO  -> Channel 'HU_RANDOM': alert passes filter criteria\n",
      "2018-02-22 11:05:56 AlertProcessor.py:409 run() DEBUG  -> Ingesting alert\n",
      "2018-02-22 11:05:56 ZIAlertIngester.py:145 ingest() INFO Checking DB for existing pps\n",
      "2018-02-22 11:05:56 ZIAlertIngester.py:247 ingest() INFO 1 new pp(s) will be inserted into DB: {1000004}\n",
      "2018-02-22 11:05:56 CompoundGenerator.py:345 generate() INFO Compound generated for channel HU_RANDOM. CompoundId: ee39bebd933038b074bcebdee5c9d0a3\n",
      "2018-02-22 11:05:56 ZIAlertIngester.py:337 ingest() DEBUG Generating T2 docs\n",
      "2018-02-22 11:05:56 ZIAlertIngester.py:392 ingest() INFO 3 T2 docs will be inserted into DB\n",
      "2018-02-22 11:05:56 ZIAlertIngester.py:401 ingest() INFO Updating transient document\n",
      "2018-02-22 11:05:56 ZIAlertIngester.py:433 ingest() INFO {'writeErrors': [], 'writeConcernErrors': [], 'nInserted': 0, 'nUpserted': 5, 'nMatched': 1, 'nModified': 1, 'nRemoved': 0, 'upserted': [{'index': 0, '_id': 1000004}, {'index': 1, '_id': 'ee39bebd933038b074bcebdee5c9d0a3'}, {'index': 2, '_id': ObjectId('5a8e9604917475b8352e04ba')}, {'index': 3, '_id': ObjectId('5a8e9604917475b8352e04bb')}, {'index': 4, '_id': ObjectId('5a8e9604917475b8352e04bc')}]}\n",
      "2018-02-22 11:05:56 AlertProcessor.py:366 run() DEBUG Processing: ../alerts/jonas/same_alert_inc_ppts/alert_3.json\n",
      "2018-02-22 11:05:56 AlertProcessor.py:372 run() INFO Processing alert: 1\n",
      "2018-02-22 11:05:56 AlertProcessor.py:389 run() INFO  -> Channel 'HU_RANDOM': alert passes filter criteria\n",
      "2018-02-22 11:05:56 AlertProcessor.py:409 run() DEBUG  -> Ingesting alert\n",
      "2018-02-22 11:05:56 ZIAlertIngester.py:145 ingest() INFO Checking DB for existing pps\n",
      "2018-02-22 11:05:56 ZIAlertIngester.py:247 ingest() INFO 1 new pp(s) will be inserted into DB: {1000005}\n",
      "2018-02-22 11:05:56 CompoundGenerator.py:345 generate() INFO Compound generated for channel HU_RANDOM. CompoundId: 14d16ef2f6beb12deb040160a2eb6e29\n",
      "2018-02-22 11:05:56 ZIAlertIngester.py:337 ingest() DEBUG Generating T2 docs\n",
      "2018-02-22 11:05:56 ZIAlertIngester.py:392 ingest() INFO 3 T2 docs will be inserted into DB\n",
      "2018-02-22 11:05:56 ZIAlertIngester.py:401 ingest() INFO Updating transient document\n",
      "2018-02-22 11:05:56 ZIAlertIngester.py:433 ingest() INFO {'writeErrors': [], 'writeConcernErrors': [], 'nInserted': 0, 'nUpserted': 5, 'nMatched': 1, 'nModified': 1, 'nRemoved': 0, 'upserted': [{'index': 0, '_id': 1000005}, {'index': 1, '_id': '14d16ef2f6beb12deb040160a2eb6e29'}, {'index': 2, '_id': ObjectId('5a8e9604917475b8352e04bf')}, {'index': 3, '_id': ObjectId('5a8e9604917475b8352e04c0')}, {'index': 4, '_id': ObjectId('5a8e9604917475b8352e04c1')}]}\n",
      "2018-02-22 11:05:56 AlertProcessor.py:366 run() DEBUG Processing: ../alerts/jonas/same_alert_inc_ppts/alert_4.json\n",
      "2018-02-22 11:05:56 AlertProcessor.py:372 run() INFO Processing alert: 1\n",
      "2018-02-22 11:05:56 AlertProcessor.py:389 run() INFO  -> Channel 'HU_RANDOM': alert passes filter criteria\n",
      "2018-02-22 11:05:56 AlertProcessor.py:409 run() DEBUG  -> Ingesting alert\n",
      "2018-02-22 11:05:56 ZIAlertIngester.py:145 ingest() INFO Checking DB for existing pps\n",
      "2018-02-22 11:05:56 ZIAlertIngester.py:247 ingest() INFO 1 new pp(s) will be inserted into DB: {1000006}\n",
      "2018-02-22 11:05:56 CompoundGenerator.py:345 generate() INFO Compound generated for channel HU_RANDOM. CompoundId: b8c9c9491718e7b8b1cc1fd4934b39d9\n",
      "2018-02-22 11:05:56 ZIAlertIngester.py:337 ingest() DEBUG Generating T2 docs\n",
      "2018-02-22 11:05:56 ZIAlertIngester.py:392 ingest() INFO 3 T2 docs will be inserted into DB\n",
      "2018-02-22 11:05:56 ZIAlertIngester.py:401 ingest() INFO Updating transient document\n",
      "2018-02-22 11:05:56 ZIAlertIngester.py:433 ingest() INFO {'writeErrors': [], 'writeConcernErrors': [], 'nInserted': 0, 'nUpserted': 5, 'nMatched': 1, 'nModified': 1, 'nRemoved': 0, 'upserted': [{'index': 0, '_id': 1000006}, {'index': 1, '_id': 'b8c9c9491718e7b8b1cc1fd4934b39d9'}, {'index': 2, '_id': ObjectId('5a8e9604917475b8352e04c5')}, {'index': 3, '_id': ObjectId('5a8e9604917475b8352e04c6')}, {'index': 4, '_id': ObjectId('5a8e9604917475b8352e04c7')}]}\n",
      "2018-02-22 11:05:56 AlertProcessor.py:366 run() DEBUG Processing: ../alerts/jonas/same_alert_inc_ppts/alert_5.json\n",
      "2018-02-22 11:05:56 AlertProcessor.py:372 run() INFO Processing alert: 1\n",
      "2018-02-22 11:05:56 AlertProcessor.py:389 run() INFO  -> Channel 'HU_RANDOM': alert passes filter criteria\n",
      "2018-02-22 11:05:56 AlertProcessor.py:409 run() DEBUG  -> Ingesting alert\n",
      "2018-02-22 11:05:56 ZIAlertIngester.py:145 ingest() INFO Checking DB for existing pps\n",
      "2018-02-22 11:05:56 ZIAlertIngester.py:247 ingest() INFO 1 new pp(s) will be inserted into DB: {1000007}\n",
      "2018-02-22 11:05:56 CompoundGenerator.py:345 generate() INFO Compound generated for channel HU_RANDOM. CompoundId: 372147399c47100881a0994fff9478fb\n",
      "2018-02-22 11:05:56 ZIAlertIngester.py:337 ingest() DEBUG Generating T2 docs\n",
      "2018-02-22 11:05:56 ZIAlertIngester.py:392 ingest() INFO 3 T2 docs will be inserted into DB\n",
      "2018-02-22 11:05:56 ZIAlertIngester.py:401 ingest() INFO Updating transient document\n",
      "2018-02-22 11:05:56 ZIAlertIngester.py:433 ingest() INFO {'writeErrors': [], 'writeConcernErrors': [], 'nInserted': 0, 'nUpserted': 5, 'nMatched': 1, 'nModified': 1, 'nRemoved': 0, 'upserted': [{'index': 0, '_id': 1000007}, {'index': 1, '_id': '372147399c47100881a0994fff9478fb'}, {'index': 2, '_id': ObjectId('5a8e9604917475b8352e04ca')}, {'index': 3, '_id': ObjectId('5a8e9604917475b8352e04cb')}, {'index': 4, '_id': ObjectId('5a8e9604917475b8352e04cc')}]}\n",
      "2018-02-22 11:05:56 AlertProcessor.py:423 run() INFO Pipeline processing completed (time required: 0s)\n"
     ]
    }
   ],
   "source": [
    "ap.run_iterable_paths(\n",
    "    base_dir=\"../alerts/jonas/same_alert_inc_ppts/\", \n",
    "    extension=\"*.json\", max_entries=5\n",
    ")"
   ]
  },
  {
   "cell_type": "markdown",
   "metadata": {},
   "source": [
    "Let's see the 5 compound documents that were inserted"
   ]
  },
  {
   "cell_type": "code",
   "execution_count": 6,
   "metadata": {},
   "outputs": [
    {
     "data": {
      "text/markdown": [
       "```json\n",
       "{\n",
       " \"_id\": \"8155bc545f84d9652f1012ef2bdfb6eb\",\n",
       " \"alDocType\": COMPOUND,\n",
       " \"tranId\": 1,\n",
       " \"channels\": HU_RANDOM,\n",
       " \"tier\": 0,\n",
       " \"added\": 1519293956.270763,\n",
       " \"lastppdt\": 58037.11874999956,\n",
       " \"pps\": [\n",
       "  \t{\"pp\": 1000000}\n",
       " ]\n",
       "},\n",
       "{ \"_id\": \"ee39bebd933038b074bcebdee5c9d0a3\",\n",
       " \"alDocType\": COMPOUND,\n",
       " \"tranId\": 1,\n",
       " \"channels\": HU_RANDOM,\n",
       " \"tier\": 0,\n",
       " \"added\": 1519293956.288188,\n",
       " \"lastppdt\": 58049.12083333288,\n",
       " \"pps\": [\n",
       "  \t{\"pp\": 1000000},\n",
       "  \t{\"pp\": 1000004}\n",
       " ]\n",
       "},\n",
       "{ \"_id\": \"14d16ef2f6beb12deb040160a2eb6e29\",\n",
       " \"alDocType\": COMPOUND,\n",
       " \"tranId\": 1,\n",
       " \"channels\": HU_RANDOM,\n",
       " \"tier\": 0,\n",
       " \"added\": 1519293956.305275,\n",
       " \"lastppdt\": 58052.11718749956,\n",
       " \"pps\": [\n",
       "  \t{\"pp\": 1000000},\n",
       "  \t{\"pp\": 1000004},\n",
       "  \t{\"pp\": 1000005}\n",
       " ]\n",
       "},\n",
       "{ \"_id\": \"b8c9c9491718e7b8b1cc1fd4934b39d9\",\n",
       " \"alDocType\": COMPOUND,\n",
       " \"tranId\": 1,\n",
       " \"channels\": HU_RANDOM,\n",
       " \"tier\": 0,\n",
       " \"added\": 1519293956.328853,\n",
       " \"lastppdt\": 58055.11197916625,\n",
       " \"pps\": [\n",
       "  \t{\"pp\": 1000000},\n",
       "  \t{\"pp\": 1000004},\n",
       "  \t{\"pp\": 1000005},\n",
       "  \t{\"pp\": 1000006}\n",
       " ]\n",
       "},\n",
       "{ \"_id\": \"372147399c47100881a0994fff9478fb\",\n",
       " \"alDocType\": COMPOUND,\n",
       " \"tranId\": 1,\n",
       " \"channels\": HU_RANDOM,\n",
       " \"tier\": 0,\n",
       " \"added\": 1519293956.346822,\n",
       " \"lastppdt\": 58058.12083333288,\n",
       " \"pps\": [\n",
       "  \t{\"pp\": 1000000},\n",
       "  \t{\"pp\": 1000004},\n",
       "  \t{\"pp\": 1000005},\n",
       "  \t{\"pp\": 1000006},\n",
       "  \t{\"pp\": 1000007}\n",
       " ]\n",
       "}\n",
       "```"
      ],
      "text/plain": [
       "<IPython.core.display.Markdown object>"
      ]
     },
     "metadata": {},
     "output_type": "display_data"
    }
   ],
   "source": [
    "from ampel.flags.AlDocTypes import AlDocTypes\n",
    "from ampel.view.DBDocVizualizer import DBDocVizualizer\n",
    "\n",
    "vi = DBDocVizualizer()\n",
    "vi.markup_print_db_entry(\n",
    "    col.find(\n",
    "        {\"tranId\": 1, \"alDocType\": AlDocTypes.COMPOUND}\n",
    "    )\n",
    ")"
   ]
  },
  {
   "cell_type": "markdown",
   "metadata": {},
   "source": [
    "## Part 2: TransientLoader "
   ]
  },
  {
   "cell_type": "markdown",
   "metadata": {},
   "source": [
    "soon..."
   ]
  },
  {
   "cell_type": "markdown",
   "metadata": {},
   "source": [
    "## Part 3: dissect DB query"
   ]
  },
  {
   "cell_type": "markdown",
   "metadata": {},
   "source": [
    "Let us insert a fake T3 coumpound so that the aggregation query makes more sense to you"
   ]
  },
  {
   "cell_type": "code",
   "execution_count": 7,
   "metadata": {},
   "outputs": [
    {
     "data": {
      "text/plain": [
       "<pymongo.results.InsertOneResult at 0x1076c14c8>"
      ]
     },
     "execution_count": 7,
     "metadata": {},
     "output_type": "execute_result"
    }
   ],
   "source": [
    "fourth_comp = next(\n",
    "    col.find(\n",
    "        {\"_id\": \"b8c9c9491718e7b8b1cc1fd4934b39d9\"}\n",
    "    )\n",
    ")\n",
    "\n",
    "col.insert_one(\n",
    "    {\n",
    "     \"_id\": \"b8c9c9491718e7b8b1cc1faaaaaaaaaa\",\n",
    "     \"alDocType\": AlDocTypes.COMPOUND,\n",
    "     \"tranId\": 1,\n",
    "     \"channels\": [5], # HU_RANDOM channel position as of Feb 2018\n",
    "     \"tier\": 3,\n",
    "     \"added\": fourth_comp['added'] + 1.1,\n",
    "     \"lastppdt\": 58055.11197916625,\n",
    "     \"pps\": [\n",
    "          {\"pp\": 1000000},\n",
    "          {\"pp\": 1000004},\n",
    "          {\"pp\": 1000005},\n",
    "          {\"pp\": 1000006}\n",
    "     ]\n",
    "    }\n",
    ")"
   ]
  },
  {
   "cell_type": "markdown",
   "metadata": {},
   "source": [
    "This is the full query:"
   ]
  },
  {
   "cell_type": "code",
   "execution_count": 8,
   "metadata": {},
   "outputs": [
    {
     "data": {
      "text/markdown": [
       "```json\n",
       "{\n",
       " \"_id\": \"b8c9c9491718e7b8b1cc1faaaaaaaaaa\",\n",
       " \"alDocType\": COMPOUND,\n",
       " \"tranId\": 1,\n",
       " \"channels\": HU_RANDOM,\n",
       " \"tier\": 3,\n",
       " \"added\": 1519293957.4288528,\n",
       " \"lastppdt\": 58055.11197916625,\n",
       " \"pps\": [\n",
       "  \t{\"pp\": 1000000},\n",
       "  \t{\"pp\": 1000004},\n",
       "  \t{\"pp\": 1000005},\n",
       "  \t{\"pp\": 1000006}\n",
       " ]\n",
       "}\n",
       "```"
      ],
      "text/plain": [
       "<IPython.core.display.Markdown object>"
      ]
     },
     "metadata": {},
     "output_type": "display_data"
    }
   ],
   "source": [
    "vi.markup_print_db_entry(\n",
    "    col.aggregate(\n",
    "       [\n",
    "          {\n",
    "             \"$match\": {\n",
    "                \"tranId\": 1, \n",
    "                \"alDocType\": AlDocTypes.COMPOUND\n",
    "             } \n",
    "          }, \n",
    "          {\n",
    "             \"$group\": {\n",
    "                \"_id\": \"$tier\", \n",
    "                \"latestAdded\": {\"$max\": \"$added\"}, \n",
    "                \"compound\": {\"$push\": \"$$ROOT\"}\n",
    "             }\n",
    "          }, \n",
    "          {\n",
    "             \"$sort\": {\n",
    "                \"latestAdded\": -1\n",
    "             }\n",
    "          }, \n",
    "          {\n",
    "             \"$limit\": 1\n",
    "          }, \n",
    "          {\n",
    "             \"$unwind\": \"$compound\"\n",
    "          }, \n",
    "          {\n",
    "             \"$project\": {\n",
    "                \"_id\": 0, \n",
    "                \"compound\": 1, \n",
    "                \"sortValueUsed\": {\n",
    "                   \"$cond\": { \n",
    "                      \"if\": { \n",
    "                         \"$eq\": [\"$compound.tier\", 0] \n",
    "                      }, \n",
    "                      \"then\": \"$compound.lastppdt\", \n",
    "                      \"else\": \"$compound.added\"\n",
    "                   }\n",
    "                }\n",
    "             }\n",
    "          }, \n",
    "          {\n",
    "             \"$sort\": {\n",
    "                \"sortValueUsed\": -1\n",
    "             }\n",
    "          }, \n",
    "          {\n",
    "             \"$limit\": 1\n",
    "          },\n",
    "          { \n",
    "             \"$replaceRoot\": { \n",
    "                \"newRoot\": \"$compound\" \n",
    "             }\n",
    "          }\n",
    "        ]\n",
    "    )\n",
    ")"
   ]
  },
  {
   "cell_type": "markdown",
   "metadata": {},
   "source": [
    "Which has returned the latest compound"
   ]
  },
  {
   "cell_type": "markdown",
   "metadata": {},
   "source": [
    "## Query dissecation\n",
    "#### Part 1:\n",
    "match transient ID *and* compound doc type "
   ]
  },
  {
   "cell_type": "code",
   "execution_count": 9,
   "metadata": {},
   "outputs": [
    {
     "data": {
      "text/markdown": [
       "```json\n",
       "{\n",
       " \"_id\": \"8155bc545f84d9652f1012ef2bdfb6eb\",\n",
       " \"alDocType\": COMPOUND,\n",
       " \"tranId\": 1,\n",
       " \"channels\": HU_RANDOM,\n",
       " \"tier\": 0,\n",
       " \"added\": 1519293956.270763,\n",
       " \"lastppdt\": 58037.11874999956,\n",
       " \"pps\": [\n",
       "  \t{\"pp\": 1000000}\n",
       " ]\n",
       "},\n",
       "{ \"_id\": \"ee39bebd933038b074bcebdee5c9d0a3\",\n",
       " \"alDocType\": COMPOUND,\n",
       " \"tranId\": 1,\n",
       " \"channels\": HU_RANDOM,\n",
       " \"tier\": 0,\n",
       " \"added\": 1519293956.288188,\n",
       " \"lastppdt\": 58049.12083333288,\n",
       " \"pps\": [\n",
       "  \t{\"pp\": 1000000},\n",
       "  \t{\"pp\": 1000004}\n",
       " ]\n",
       "},\n",
       "{ \"_id\": \"14d16ef2f6beb12deb040160a2eb6e29\",\n",
       " \"alDocType\": COMPOUND,\n",
       " \"tranId\": 1,\n",
       " \"channels\": HU_RANDOM,\n",
       " \"tier\": 0,\n",
       " \"added\": 1519293956.305275,\n",
       " \"lastppdt\": 58052.11718749956,\n",
       " \"pps\": [\n",
       "  \t{\"pp\": 1000000},\n",
       "  \t{\"pp\": 1000004},\n",
       "  \t{\"pp\": 1000005}\n",
       " ]\n",
       "},\n",
       "{ \"_id\": \"b8c9c9491718e7b8b1cc1fd4934b39d9\",\n",
       " \"alDocType\": COMPOUND,\n",
       " \"tranId\": 1,\n",
       " \"channels\": HU_RANDOM,\n",
       " \"tier\": 0,\n",
       " \"added\": 1519293956.328853,\n",
       " \"lastppdt\": 58055.11197916625,\n",
       " \"pps\": [\n",
       "  \t{\"pp\": 1000000},\n",
       "  \t{\"pp\": 1000004},\n",
       "  \t{\"pp\": 1000005},\n",
       "  \t{\"pp\": 1000006}\n",
       " ]\n",
       "},\n",
       "{ \"_id\": \"372147399c47100881a0994fff9478fb\",\n",
       " \"alDocType\": COMPOUND,\n",
       " \"tranId\": 1,\n",
       " \"channels\": HU_RANDOM,\n",
       " \"tier\": 0,\n",
       " \"added\": 1519293956.346822,\n",
       " \"lastppdt\": 58058.12083333288,\n",
       " \"pps\": [\n",
       "  \t{\"pp\": 1000000},\n",
       "  \t{\"pp\": 1000004},\n",
       "  \t{\"pp\": 1000005},\n",
       "  \t{\"pp\": 1000006},\n",
       "  \t{\"pp\": 1000007}\n",
       " ]\n",
       "},\n",
       "{ \"_id\": \"b8c9c9491718e7b8b1cc1faaaaaaaaaa\",\n",
       " \"alDocType\": COMPOUND,\n",
       " \"tranId\": 1,\n",
       " \"channels\": HU_RANDOM,\n",
       " \"tier\": 3,\n",
       " \"added\": 1519293957.4288528,\n",
       " \"lastppdt\": 58055.11197916625,\n",
       " \"pps\": [\n",
       "  \t{\"pp\": 1000000},\n",
       "  \t{\"pp\": 1000004},\n",
       "  \t{\"pp\": 1000005},\n",
       "  \t{\"pp\": 1000006}\n",
       " ]\n",
       "}\n",
       "```"
      ],
      "text/plain": [
       "<IPython.core.display.Markdown object>"
      ]
     },
     "metadata": {},
     "output_type": "display_data"
    }
   ],
   "source": [
    "vi.markup_print_db_entry(\n",
    "    col.aggregate(\n",
    "       [\n",
    "          {\n",
    "             \"$match\": {\n",
    "                \"tranId\": 1, \n",
    "                \"alDocType\": AlDocTypes.COMPOUND\n",
    "             } \n",
    "          }\n",
    "        ]\n",
    "    )\n",
    ")"
   ]
  },
  {
   "cell_type": "markdown",
   "metadata": {},
   "source": [
    "#### Intermezzo:\n",
    "For cosmetic purposes, we define two functions that can handle the new kind of structures that are temporarly created in the aggregation framework"
   ]
  },
  {
   "cell_type": "code",
   "execution_count": 10,
   "metadata": {},
   "outputs": [],
   "source": [
    "def custom_markup_print(db_cursor):\n",
    "\n",
    "    json_parts = []\n",
    "\n",
    "    for el in db_cursor:\n",
    "        bak = el['compound']\n",
    "        el['compound'] = []\n",
    "        for doc in bak: \n",
    "            el['compound'].append(\n",
    "                vi.translate_db_entry(doc)\n",
    "            )\n",
    "            \n",
    "        json_parts.append(\n",
    "            vi.json_to_str(\n",
    "                el\n",
    "            )\n",
    "        )\n",
    "\n",
    "    vi.markdown_display_json(\n",
    "        \"\".join(json_parts)\n",
    "    )\n",
    "    \n",
    "    \n",
    "def custom_markup_print2(db_cursor):\n",
    "\n",
    "    json_parts = []\n",
    "\n",
    "    for el in db_cursor:\n",
    "        el['compound'] = vi.translate_db_entry(\n",
    "            el['compound']   \n",
    "        )\n",
    "            \n",
    "        json_parts.append(\n",
    "            vi.json_to_str(\n",
    "                el\n",
    "            )\n",
    "        )\n",
    "\n",
    "    vi.markdown_display_json(\n",
    "        \"\".join(json_parts)\n",
    "    )"
   ]
  },
  {
   "cell_type": "markdown",
   "metadata": {},
   "source": [
    "#### Part 2:\n",
    "Group results by **Tier**\n",
    "<hr>\n",
    "The result will contain *two documents* because we have compounds from *two* different tiers.<br>\n",
    "Each document contains all the compounds (field name ```compound```) for a given tier (idientified by the field ```_id``` !)<br>\n",
    "Additionaly, we create the field ```latestAdded``` that contains the value of the latest added date of compounds for the given tier"
   ]
  },
  {
   "cell_type": "code",
   "execution_count": 11,
   "metadata": {},
   "outputs": [
    {
     "data": {
      "text/markdown": [
       "```json\n",
       "{\n",
       " \"_id\": 3,\n",
       " \"latestAdded\": 1519293957.4288528,\n",
       " \"compound\": [\n",
       "  {\n",
       "   \"_id\": \"b8c9c9491718e7b8b1cc1faaaaaaaaaa\",\n",
       "   \"alDocType\": COMPOUND,\n",
       "   \"tranId\": 1,\n",
       "   \"channels\": HU_RANDOM,\n",
       "   \"tier\": 3,\n",
       "   \"added\": 1519293957.4288528,\n",
       "   \"lastppdt\": 58055.11197916625,\n",
       "   \"pps\": [\n",
       "    \t{\"pp\": 1000000},\n",
       "    \t{\"pp\": 1000004},\n",
       "    \t{\"pp\": 1000005},\n",
       "    \t{\"pp\": 1000006}\n",
       "   ]\n",
       "  }\n",
       " ]\n",
       "},\n",
       "{ \"_id\": 0,\n",
       " \"latestAdded\": 1519293956.346822,\n",
       " \"compound\": [\n",
       "  {\n",
       "   \"_id\": \"8155bc545f84d9652f1012ef2bdfb6eb\",\n",
       "   \"alDocType\": COMPOUND,\n",
       "   \"tranId\": 1,\n",
       "   \"channels\": HU_RANDOM,\n",
       "   \"tier\": 0,\n",
       "   \"added\": 1519293956.270763,\n",
       "   \"lastppdt\": 58037.11874999956,\n",
       "   \"pps\": [\n",
       "    \t{\"pp\": 1000000}\n",
       "   ]\n",
       "  },\n",
       "  {\n",
       "   \"_id\": \"ee39bebd933038b074bcebdee5c9d0a3\",\n",
       "   \"alDocType\": COMPOUND,\n",
       "   \"tranId\": 1,\n",
       "   \"channels\": HU_RANDOM,\n",
       "   \"tier\": 0,\n",
       "   \"added\": 1519293956.288188,\n",
       "   \"lastppdt\": 58049.12083333288,\n",
       "   \"pps\": [\n",
       "    \t{\"pp\": 1000000},\n",
       "    \t{\"pp\": 1000004}\n",
       "   ]\n",
       "  },\n",
       "  {\n",
       "   \"_id\": \"14d16ef2f6beb12deb040160a2eb6e29\",\n",
       "   \"alDocType\": COMPOUND,\n",
       "   \"tranId\": 1,\n",
       "   \"channels\": HU_RANDOM,\n",
       "   \"tier\": 0,\n",
       "   \"added\": 1519293956.305275,\n",
       "   \"lastppdt\": 58052.11718749956,\n",
       "   \"pps\": [\n",
       "    \t{\"pp\": 1000000},\n",
       "    \t{\"pp\": 1000004},\n",
       "    \t{\"pp\": 1000005}\n",
       "   ]\n",
       "  },\n",
       "  {\n",
       "   \"_id\": \"b8c9c9491718e7b8b1cc1fd4934b39d9\",\n",
       "   \"alDocType\": COMPOUND,\n",
       "   \"tranId\": 1,\n",
       "   \"channels\": HU_RANDOM,\n",
       "   \"tier\": 0,\n",
       "   \"added\": 1519293956.328853,\n",
       "   \"lastppdt\": 58055.11197916625,\n",
       "   \"pps\": [\n",
       "    \t{\"pp\": 1000000},\n",
       "    \t{\"pp\": 1000004},\n",
       "    \t{\"pp\": 1000005},\n",
       "    \t{\"pp\": 1000006}\n",
       "   ]\n",
       "  },\n",
       "  {\n",
       "   \"_id\": \"372147399c47100881a0994fff9478fb\",\n",
       "   \"alDocType\": COMPOUND,\n",
       "   \"tranId\": 1,\n",
       "   \"channels\": HU_RANDOM,\n",
       "   \"tier\": 0,\n",
       "   \"added\": 1519293956.346822,\n",
       "   \"lastppdt\": 58058.12083333288,\n",
       "   \"pps\": [\n",
       "    \t{\"pp\": 1000000},\n",
       "    \t{\"pp\": 1000004},\n",
       "    \t{\"pp\": 1000005},\n",
       "    \t{\"pp\": 1000006},\n",
       "    \t{\"pp\": 1000007}\n",
       "   ]\n",
       "  }\n",
       " ]\n",
       "}\n",
       "```"
      ],
      "text/plain": [
       "<IPython.core.display.Markdown object>"
      ]
     },
     "metadata": {},
     "output_type": "display_data"
    }
   ],
   "source": [
    "custom_markup_print(\n",
    "    col.aggregate(\n",
    "       [\n",
    "          {\n",
    "             \"$match\": {\n",
    "                \"tranId\": 1, \n",
    "                \"alDocType\": AlDocTypes.COMPOUND\n",
    "             } \n",
    "          }, \n",
    "          {\n",
    "             \"$group\": {\n",
    "                \"_id\": \"$tier\", \n",
    "                \"latestAdded\": {\"$max\": \"$added\"}, \n",
    "                \"compound\": {\"$push\": \"$$ROOT\"}\n",
    "             }\n",
    "          }\n",
    "        ]\n",
    "    )\n",
    ")"
   ]
  },
  {
   "cell_type": "markdown",
   "metadata": {},
   "source": [
    "#### Part 3:\n",
    "Sort by **latestAdded** <br>"
   ]
  },
  {
   "cell_type": "code",
   "execution_count": 12,
   "metadata": {},
   "outputs": [
    {
     "data": {
      "text/markdown": [
       "```json\n",
       "{\n",
       " \"_id\": 3,\n",
       " \"latestAdded\": 1519293957.4288528,\n",
       " \"compound\": [\n",
       "  {\n",
       "   \"_id\": \"b8c9c9491718e7b8b1cc1faaaaaaaaaa\",\n",
       "   \"alDocType\": COMPOUND,\n",
       "   \"tranId\": 1,\n",
       "   \"channels\": HU_RANDOM,\n",
       "   \"tier\": 3,\n",
       "   \"added\": 1519293957.4288528,\n",
       "   \"lastppdt\": 58055.11197916625,\n",
       "   \"pps\": [\n",
       "    \t{\"pp\": 1000000},\n",
       "    \t{\"pp\": 1000004},\n",
       "    \t{\"pp\": 1000005},\n",
       "    \t{\"pp\": 1000006}\n",
       "   ]\n",
       "  }\n",
       " ]\n",
       "},\n",
       "{ \"_id\": 0,\n",
       " \"latestAdded\": 1519293956.346822,\n",
       " \"compound\": [\n",
       "  {\n",
       "   \"_id\": \"8155bc545f84d9652f1012ef2bdfb6eb\",\n",
       "   \"alDocType\": COMPOUND,\n",
       "   \"tranId\": 1,\n",
       "   \"channels\": HU_RANDOM,\n",
       "   \"tier\": 0,\n",
       "   \"added\": 1519293956.270763,\n",
       "   \"lastppdt\": 58037.11874999956,\n",
       "   \"pps\": [\n",
       "    \t{\"pp\": 1000000}\n",
       "   ]\n",
       "  },\n",
       "  {\n",
       "   \"_id\": \"ee39bebd933038b074bcebdee5c9d0a3\",\n",
       "   \"alDocType\": COMPOUND,\n",
       "   \"tranId\": 1,\n",
       "   \"channels\": HU_RANDOM,\n",
       "   \"tier\": 0,\n",
       "   \"added\": 1519293956.288188,\n",
       "   \"lastppdt\": 58049.12083333288,\n",
       "   \"pps\": [\n",
       "    \t{\"pp\": 1000000},\n",
       "    \t{\"pp\": 1000004}\n",
       "   ]\n",
       "  },\n",
       "  {\n",
       "   \"_id\": \"14d16ef2f6beb12deb040160a2eb6e29\",\n",
       "   \"alDocType\": COMPOUND,\n",
       "   \"tranId\": 1,\n",
       "   \"channels\": HU_RANDOM,\n",
       "   \"tier\": 0,\n",
       "   \"added\": 1519293956.305275,\n",
       "   \"lastppdt\": 58052.11718749956,\n",
       "   \"pps\": [\n",
       "    \t{\"pp\": 1000000},\n",
       "    \t{\"pp\": 1000004},\n",
       "    \t{\"pp\": 1000005}\n",
       "   ]\n",
       "  },\n",
       "  {\n",
       "   \"_id\": \"b8c9c9491718e7b8b1cc1fd4934b39d9\",\n",
       "   \"alDocType\": COMPOUND,\n",
       "   \"tranId\": 1,\n",
       "   \"channels\": HU_RANDOM,\n",
       "   \"tier\": 0,\n",
       "   \"added\": 1519293956.328853,\n",
       "   \"lastppdt\": 58055.11197916625,\n",
       "   \"pps\": [\n",
       "    \t{\"pp\": 1000000},\n",
       "    \t{\"pp\": 1000004},\n",
       "    \t{\"pp\": 1000005},\n",
       "    \t{\"pp\": 1000006}\n",
       "   ]\n",
       "  },\n",
       "  {\n",
       "   \"_id\": \"372147399c47100881a0994fff9478fb\",\n",
       "   \"alDocType\": COMPOUND,\n",
       "   \"tranId\": 1,\n",
       "   \"channels\": HU_RANDOM,\n",
       "   \"tier\": 0,\n",
       "   \"added\": 1519293956.346822,\n",
       "   \"lastppdt\": 58058.12083333288,\n",
       "   \"pps\": [\n",
       "    \t{\"pp\": 1000000},\n",
       "    \t{\"pp\": 1000004},\n",
       "    \t{\"pp\": 1000005},\n",
       "    \t{\"pp\": 1000006},\n",
       "    \t{\"pp\": 1000007}\n",
       "   ]\n",
       "  }\n",
       " ]\n",
       "}\n",
       "```"
      ],
      "text/plain": [
       "<IPython.core.display.Markdown object>"
      ]
     },
     "metadata": {},
     "output_type": "display_data"
    }
   ],
   "source": [
    "custom_markup_print(\n",
    "    col.aggregate(\n",
    "       [\n",
    "          {\n",
    "             \"$match\": {\n",
    "                \"tranId\": 1, \n",
    "                \"alDocType\": AlDocTypes.COMPOUND\n",
    "             } \n",
    "          }, \n",
    "          {\n",
    "             \"$group\": {\n",
    "                \"_id\": \"$tier\", \n",
    "                \"latestAdded\": {\"$max\": \"$added\"}, \n",
    "                \"compound\": {\"$push\": \"$$ROOT\"}\n",
    "             }\n",
    "          }, \n",
    "          {\n",
    "             \"$sort\": {\n",
    "                \"latestAdded\": -1\n",
    "             }\n",
    "          }\n",
    "        ]\n",
    "    )\n",
    ")"
   ]
  },
  {
   "cell_type": "markdown",
   "metadata": {},
   "source": [
    "#### Part 4:\n",
    "Retain only first group"
   ]
  },
  {
   "cell_type": "code",
   "execution_count": 13,
   "metadata": {},
   "outputs": [
    {
     "data": {
      "text/markdown": [
       "```json\n",
       "{\n",
       " \"_id\": 3,\n",
       " \"latestAdded\": 1519293957.4288528,\n",
       " \"compound\": [\n",
       "  {\n",
       "   \"_id\": \"b8c9c9491718e7b8b1cc1faaaaaaaaaa\",\n",
       "   \"alDocType\": COMPOUND,\n",
       "   \"tranId\": 1,\n",
       "   \"channels\": HU_RANDOM,\n",
       "   \"tier\": 3,\n",
       "   \"added\": 1519293957.4288528,\n",
       "   \"lastppdt\": 58055.11197916625,\n",
       "   \"pps\": [\n",
       "    \t{\"pp\": 1000000},\n",
       "    \t{\"pp\": 1000004},\n",
       "    \t{\"pp\": 1000005},\n",
       "    \t{\"pp\": 1000006}\n",
       "   ]\n",
       "  }\n",
       " ]\n",
       "}\n",
       "```"
      ],
      "text/plain": [
       "<IPython.core.display.Markdown object>"
      ]
     },
     "metadata": {},
     "output_type": "display_data"
    }
   ],
   "source": [
    "custom_markup_print(\n",
    "    col.aggregate(\n",
    "       [\n",
    "          {\n",
    "             \"$match\": {\n",
    "                \"tranId\": 1, \n",
    "                \"alDocType\": AlDocTypes.COMPOUND\n",
    "             } \n",
    "          }, \n",
    "          {\n",
    "             \"$group\": {\n",
    "                \"_id\": \"$tier\", \n",
    "                \"latestAdded\": {\"$max\": \"$added\"}, \n",
    "                \"compound\": {\"$push\": \"$$ROOT\"}\n",
    "             }\n",
    "          }, \n",
    "          {\n",
    "             \"$sort\": {\n",
    "                \"latestAdded\": -1\n",
    "             }\n",
    "          }, \n",
    "          {\n",
    "             \"$limit\": 1\n",
    "          }\n",
    "        ]\n",
    "    )\n",
    ")"
   ]
  },
  {
   "cell_type": "markdown",
   "metadata": {},
   "source": [
    "#### Part 5:\n",
    "Unwind: convert single document that contains list of componds (field  ```compound```) in a list of documents each containing a single compound"
   ]
  },
  {
   "cell_type": "code",
   "execution_count": 14,
   "metadata": {},
   "outputs": [
    {
     "data": {
      "text/markdown": [
       "```json\n",
       "{\n",
       " \"_id\": 3,\n",
       " \"latestAdded\": 1519293957.4288528,\n",
       " \"compound\": {\n",
       "  \"_id\": \"b8c9c9491718e7b8b1cc1faaaaaaaaaa\",\n",
       "  \"alDocType\": COMPOUND,\n",
       "  \"tranId\": 1,\n",
       "  \"channels\": HU_RANDOM,\n",
       "  \"tier\": 3,\n",
       "  \"added\": 1519293957.4288528,\n",
       "  \"lastppdt\": 58055.11197916625,\n",
       "  \"pps\": [\n",
       "   \t{\"pp\": 1000000},\n",
       "   \t{\"pp\": 1000004},\n",
       "   \t{\"pp\": 1000005},\n",
       "   \t{\"pp\": 1000006}\n",
       "  ]\n",
       " }\n",
       "}\n",
       "```"
      ],
      "text/plain": [
       "<IPython.core.display.Markdown object>"
      ]
     },
     "metadata": {},
     "output_type": "display_data"
    }
   ],
   "source": [
    "custom_markup_print2(\n",
    "    col.aggregate(\n",
    "       [\n",
    "          {\n",
    "             \"$match\": {\n",
    "                \"tranId\": 1, \n",
    "                \"alDocType\": AlDocTypes.COMPOUND\n",
    "             } \n",
    "          }, \n",
    "          {\n",
    "             \"$group\": {\n",
    "                \"_id\": \"$tier\", \n",
    "                \"latestAdded\": {\"$max\": \"$added\"}, \n",
    "                \"compound\": {\"$push\": \"$$ROOT\"}\n",
    "             }\n",
    "          }, \n",
    "          {\n",
    "             \"$sort\": {\n",
    "                \"latestAdded\": -1\n",
    "             }\n",
    "          }, \n",
    "          {\n",
    "             \"$limit\": 1\n",
    "          }, \n",
    "          {\n",
    "             \"$unwind\": \"$compound\"\n",
    "          }\n",
    "        ]\n",
    "    )\n",
    ")"
   ]
  },
  {
   "cell_type": "markdown",
   "metadata": {},
   "source": [
    "#### Part 6:\n",
    "Create ```sortValueUsed``` (conditional) field used part 7 for sorting compounds: <br>\n",
    "- If surviving compounds originate from Tier 0: use latest photopoint date as value <br>\n",
    "- If surviving compounds originate from other Tiers: use the compound added date as value"
   ]
  },
  {
   "cell_type": "code",
   "execution_count": 15,
   "metadata": {},
   "outputs": [
    {
     "data": {
      "text/markdown": [
       "```json\n",
       "{\n",
       " \"compound\": {\n",
       "  \"_id\": \"b8c9c9491718e7b8b1cc1faaaaaaaaaa\",\n",
       "  \"alDocType\": COMPOUND,\n",
       "  \"tranId\": 1,\n",
       "  \"channels\": HU_RANDOM,\n",
       "  \"tier\": 3,\n",
       "  \"added\": 1519293957.4288528,\n",
       "  \"lastppdt\": 58055.11197916625,\n",
       "  \"pps\": [\n",
       "   \t{\"pp\": 1000000},\n",
       "   \t{\"pp\": 1000004},\n",
       "   \t{\"pp\": 1000005},\n",
       "   \t{\"pp\": 1000006}\n",
       "  ]\n",
       " },\n",
       " \"sortValueUsed\": 1519293957.4288528\n",
       "}\n",
       "```"
      ],
      "text/plain": [
       "<IPython.core.display.Markdown object>"
      ]
     },
     "metadata": {},
     "output_type": "display_data"
    }
   ],
   "source": [
    "custom_markup_print2(\n",
    "    col.aggregate(\n",
    "       [\n",
    "          {\n",
    "             \"$match\": {\n",
    "                \"tranId\": 1, \n",
    "                \"alDocType\": AlDocTypes.COMPOUND\n",
    "             } \n",
    "          }, \n",
    "          {\n",
    "             \"$group\": {\n",
    "                \"_id\": \"$tier\", \n",
    "                \"latestAdded\": {\"$max\": \"$added\"}, \n",
    "                \"compound\": {\"$push\": \"$$ROOT\"}\n",
    "             }\n",
    "          }, \n",
    "          {\n",
    "             \"$sort\": {\n",
    "                \"latestAdded\": -1\n",
    "             }\n",
    "          }, \n",
    "          {\n",
    "             \"$limit\": 1\n",
    "          }, \n",
    "          {\n",
    "             \"$unwind\": \"$compound\"\n",
    "          }, \n",
    "          {\n",
    "             \"$project\": {\n",
    "                \"_id\": 0, \n",
    "                \"compound\": 1, \n",
    "                \"sortValueUsed\": {\n",
    "                   \"$cond\": { \n",
    "                      \"if\": { \n",
    "                         \"$eq\": [\"$compound.tier\", 0] \n",
    "                      }, \n",
    "                      \"then\": \"$compound.lastppdt\", \n",
    "                      \"else\": \"$compound.added\"\n",
    "                   }\n",
    "                }\n",
    "             }\n",
    "          }\n",
    "        ]\n",
    "    )\n",
    ")"
   ]
  },
  {
   "cell_type": "markdown",
   "metadata": {},
   "source": [
    "#### Part 7:\n",
    "Sort compounds by mean of ```sortValueUsed``` "
   ]
  },
  {
   "cell_type": "code",
   "execution_count": 16,
   "metadata": {},
   "outputs": [
    {
     "data": {
      "text/markdown": [
       "```json\n",
       "{\n",
       " \"compound\": {\n",
       "  \"_id\": \"b8c9c9491718e7b8b1cc1faaaaaaaaaa\",\n",
       "  \"alDocType\": COMPOUND,\n",
       "  \"tranId\": 1,\n",
       "  \"channels\": HU_RANDOM,\n",
       "  \"tier\": 3,\n",
       "  \"added\": 1519293957.4288528,\n",
       "  \"lastppdt\": 58055.11197916625,\n",
       "  \"pps\": [\n",
       "   \t{\"pp\": 1000000},\n",
       "   \t{\"pp\": 1000004},\n",
       "   \t{\"pp\": 1000005},\n",
       "   \t{\"pp\": 1000006}\n",
       "  ]\n",
       " },\n",
       " \"sortValueUsed\": 1519293957.4288528\n",
       "}\n",
       "```"
      ],
      "text/plain": [
       "<IPython.core.display.Markdown object>"
      ]
     },
     "metadata": {},
     "output_type": "display_data"
    }
   ],
   "source": [
    "custom_markup_print2(\n",
    "    col.aggregate(\n",
    "       [\n",
    "          {\n",
    "             \"$match\": {\n",
    "                \"tranId\": 1, \n",
    "                \"alDocType\": AlDocTypes.COMPOUND\n",
    "             } \n",
    "          }, \n",
    "          {\n",
    "             \"$group\": {\n",
    "                \"_id\": \"$tier\", \n",
    "                \"latestAdded\": {\"$max\": \"$added\"}, \n",
    "                \"compound\": {\"$push\": \"$$ROOT\"}\n",
    "             }\n",
    "          }, \n",
    "          {\n",
    "             \"$sort\": {\n",
    "                \"latestAdded\": -1\n",
    "             }\n",
    "          }, \n",
    "          {\n",
    "             \"$limit\": 1\n",
    "          }, \n",
    "          {\n",
    "             \"$unwind\": \"$compound\"\n",
    "          }, \n",
    "          {\n",
    "             \"$project\": {\n",
    "                \"_id\": 0, \n",
    "                \"compound\": 1, \n",
    "                \"sortValueUsed\": {\n",
    "                   \"$cond\": { \n",
    "                      \"if\": { \n",
    "                         \"$eq\": [\"$compound.tier\", 0] \n",
    "                      }, \n",
    "                      \"then\": \"$compound.lastppdt\", \n",
    "                      \"else\": \"$compound.added\"\n",
    "                   }\n",
    "                }\n",
    "             }\n",
    "          }, \n",
    "          {\n",
    "             \"$sort\": {\n",
    "                \"sortValueUsed\": -1\n",
    "             }\n",
    "          }\n",
    "        ]\n",
    "    )\n",
    ")"
   ]
  },
  {
   "cell_type": "markdown",
   "metadata": {},
   "source": [
    "#### Part 8:\n",
    "Retain only 'latest' compound"
   ]
  },
  {
   "cell_type": "code",
   "execution_count": 17,
   "metadata": {},
   "outputs": [
    {
     "data": {
      "text/markdown": [
       "```json\n",
       "{\n",
       " \"compound\": {\n",
       "  \"_id\": \"b8c9c9491718e7b8b1cc1faaaaaaaaaa\",\n",
       "  \"alDocType\": COMPOUND,\n",
       "  \"tranId\": 1,\n",
       "  \"channels\": HU_RANDOM,\n",
       "  \"tier\": 3,\n",
       "  \"added\": 1519293957.4288528,\n",
       "  \"lastppdt\": 58055.11197916625,\n",
       "  \"pps\": [\n",
       "   \t{\"pp\": 1000000},\n",
       "   \t{\"pp\": 1000004},\n",
       "   \t{\"pp\": 1000005},\n",
       "   \t{\"pp\": 1000006}\n",
       "  ]\n",
       " },\n",
       " \"sortValueUsed\": 1519293957.4288528\n",
       "}\n",
       "```"
      ],
      "text/plain": [
       "<IPython.core.display.Markdown object>"
      ]
     },
     "metadata": {},
     "output_type": "display_data"
    }
   ],
   "source": [
    "custom_markup_print2(\n",
    "    col.aggregate(\n",
    "       [\n",
    "          {\n",
    "             \"$match\": {\n",
    "                \"tranId\": 1, \n",
    "                \"alDocType\": AlDocTypes.COMPOUND\n",
    "             } \n",
    "          }, \n",
    "          {\n",
    "             \"$group\": {\n",
    "                \"_id\": \"$tier\", \n",
    "                \"latestAdded\": {\"$max\": \"$added\"}, \n",
    "                \"compound\": {\"$push\": \"$$ROOT\"}\n",
    "             }\n",
    "          }, \n",
    "          {\n",
    "             \"$sort\": {\n",
    "                \"latestAdded\": -1\n",
    "             }\n",
    "          }, \n",
    "          {\n",
    "             \"$limit\": 1\n",
    "          }, \n",
    "          {\n",
    "             \"$unwind\": \"$compound\"\n",
    "          }, \n",
    "          {\n",
    "             \"$project\": {\n",
    "                \"_id\": 0, \n",
    "                \"compound\": 1, \n",
    "                \"sortValueUsed\": {\n",
    "                   \"$cond\": { \n",
    "                      \"if\": { \n",
    "                         \"$eq\": [\"$compound.tier\", 0] \n",
    "                      }, \n",
    "                      \"then\": \"$compound.lastppdt\", \n",
    "                      \"else\": \"$compound.added\"\n",
    "                   }\n",
    "                }\n",
    "             }\n",
    "          }, \n",
    "          {\n",
    "             \"$sort\": {\n",
    "                \"sortValueUsed\": -1\n",
    "             }\n",
    "          }, \n",
    "          {\n",
    "             \"$limit\": 1\n",
    "          }\n",
    "        ]\n",
    "    )\n",
    ")"
   ]
  },
  {
   "cell_type": "markdown",
   "metadata": {},
   "source": [
    "#### Part 9:\n",
    "Final formatting so that it looks exactly like a DB compound document"
   ]
  },
  {
   "cell_type": "code",
   "execution_count": 18,
   "metadata": {},
   "outputs": [
    {
     "data": {
      "text/markdown": [
       "```json\n",
       "{\n",
       " \"_id\": \"b8c9c9491718e7b8b1cc1faaaaaaaaaa\",\n",
       " \"alDocType\": COMPOUND,\n",
       " \"tranId\": 1,\n",
       " \"channels\": HU_RANDOM,\n",
       " \"tier\": 3,\n",
       " \"added\": 1519293957.4288528,\n",
       " \"lastppdt\": 58055.11197916625,\n",
       " \"pps\": [\n",
       "  \t{\"pp\": 1000000},\n",
       "  \t{\"pp\": 1000004},\n",
       "  \t{\"pp\": 1000005},\n",
       "  \t{\"pp\": 1000006}\n",
       " ]\n",
       "}\n",
       "```"
      ],
      "text/plain": [
       "<IPython.core.display.Markdown object>"
      ]
     },
     "metadata": {},
     "output_type": "display_data"
    }
   ],
   "source": [
    "vi.markup_print_db_entry(\n",
    "    col.aggregate(\n",
    "       [\n",
    "          {\n",
    "             \"$match\": {\n",
    "                \"tranId\": 1, \n",
    "                \"alDocType\": AlDocTypes.COMPOUND\n",
    "             } \n",
    "          }, \n",
    "          {\n",
    "             \"$group\": {\n",
    "                \"_id\": \"$tier\", \n",
    "                \"latestAdded\": {\"$max\": \"$added\"}, \n",
    "                \"compound\": {\"$push\": \"$$ROOT\"}\n",
    "             }\n",
    "          }, \n",
    "          {\n",
    "             \"$sort\": {\n",
    "                \"latestAdded\": -1\n",
    "             }\n",
    "          }, \n",
    "          {\n",
    "             \"$limit\": 1\n",
    "          }, \n",
    "          {\n",
    "             \"$unwind\": \"$compound\"\n",
    "          }, \n",
    "          {\n",
    "             \"$project\": {\n",
    "                \"_id\": 0, \n",
    "                \"compound\": 1, \n",
    "                \"sortValueUsed\": {\n",
    "                   \"$cond\": { \n",
    "                      \"if\": { \n",
    "                         \"$eq\": [\"$compound.tier\", 0] \n",
    "                      }, \n",
    "                      \"then\": \"$compound.lastppdt\", \n",
    "                      \"else\": \"$compound.added\"\n",
    "                   }\n",
    "                }\n",
    "             }\n",
    "          }, \n",
    "          {\n",
    "             \"$sort\": {\n",
    "                \"sortValueUsed\": -1\n",
    "             }\n",
    "          }, \n",
    "          {\n",
    "             \"$limit\": 1\n",
    "          },\n",
    "          { \n",
    "             \"$replaceRoot\": { \n",
    "                \"newRoot\": \"$compound\" \n",
    "             }\n",
    "          }\n",
    "        ]\n",
    "    )\n",
    ")"
   ]
  }
 ],
 "metadata": {
  "kernelspec": {
   "display_name": "Python 3",
   "language": "python",
   "name": "python3"
  },
  "language_info": {
   "codemirror_mode": {
    "name": "ipython",
    "version": 3
   },
   "file_extension": ".py",
   "mimetype": "text/x-python",
   "name": "python",
   "nbconvert_exporter": "python",
   "pygments_lexer": "ipython3",
   "version": "3.6.4"
  }
 },
 "nbformat": 4,
 "nbformat_minor": 2
}
