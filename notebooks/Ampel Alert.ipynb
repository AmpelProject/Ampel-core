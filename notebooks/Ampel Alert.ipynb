{
 "cells": [
  {
   "cell_type": "code",
   "execution_count": 1,
   "metadata": {},
   "outputs": [],
   "source": [
    "from ampel.pipeline.t0.AmpelAlert import AmpelAlert"
   ]
  },
  {
   "cell_type": "code",
   "execution_count": 23,
   "metadata": {},
   "outputs": [],
   "source": [
    "ampel_alert = AmpelAlert.load_ztf_alert('../alerts/latest/20180313/436147610015010000.avro')\n",
    "ampel_alert = AmpelAlert.load_ztf_alert('/Users/hu/Downloads/ZTF18aahmxgg.avro', default_filters=None)"
   ]
  },
  {
   "cell_type": "code",
   "execution_count": 3,
   "metadata": {
    "scrolled": false
   },
   "outputs": [
    {
     "data": {
      "text/plain": [
       "'ZTF18aahmxgg'"
      ]
     },
     "execution_count": 3,
     "metadata": {},
     "output_type": "execute_result"
    }
   ],
   "source": [
    "ampel_alert.get_id()"
   ]
  },
  {
   "cell_type": "markdown",
   "metadata": {},
   "source": [
    "(following function call is performed automatically by Ampel)"
   ]
  },
  {
   "cell_type": "code",
   "execution_count": 4,
   "metadata": {},
   "outputs": [],
   "source": [
    "AmpelAlert.set_alert_keywords(\n",
    "    {\n",
    "        \"transient_id\" : \"alertid\",\n",
    "        \"photopoint_id\" : \"candid\",\n",
    "        \"obs_date\" : \"jd\",\n",
    "        \"filter_id\" : \"fid\",\n",
    "        \"mag\" : \"magpsf\"\n",
    "    }\n",
    ")"
   ]
  },
  {
   "cell_type": "code",
   "execution_count": 22,
   "metadata": {},
   "outputs": [
    {
     "data": {
      "text/plain": [
       "(20.28138542175293,\n",
       " None,\n",
       " None,\n",
       " None,\n",
       " None,\n",
       " None,\n",
       " None,\n",
       " None,\n",
       " None,\n",
       " None,\n",
       " None,\n",
       " None,\n",
       " None,\n",
       " None,\n",
       " None,\n",
       " None,\n",
       " None,\n",
       " None,\n",
       " None,\n",
       " None,\n",
       " None,\n",
       " None,\n",
       " None,\n",
       " None,\n",
       " None,\n",
       " None,\n",
       " None,\n",
       " None,\n",
       " None,\n",
       " None,\n",
       " None,\n",
       " None,\n",
       " None,\n",
       " None,\n",
       " None,\n",
       " None,\n",
       " None,\n",
       " None,\n",
       " None,\n",
       " None,\n",
       " None,\n",
       " None,\n",
       " None,\n",
       " None,\n",
       " None,\n",
       " None,\n",
       " None,\n",
       " None,\n",
       " None,\n",
       " None,\n",
       " None,\n",
       " None,\n",
       " None,\n",
       " None,\n",
       " None,\n",
       " None,\n",
       " None,\n",
       " None,\n",
       " None,\n",
       " None,\n",
       " None,\n",
       " 20.11709976196289,\n",
       " None,\n",
       " None,\n",
       " 20.566099166870117,\n",
       " None,\n",
       " 19.98349952697754,\n",
       " None,\n",
       " 19.938800811767578,\n",
       " None,\n",
       " None,\n",
       " None,\n",
       " 20.121299743652344,\n",
       " None,\n",
       " None,\n",
       " 19.929899215698242,\n",
       " None,\n",
       " 19.900999069213867,\n",
       " None,\n",
       " 20.472299575805664,\n",
       " None,\n",
       " 20.077499389648438,\n",
       " None,\n",
       " None,\n",
       " None,\n",
       " 19.9768009185791,\n",
       " None,\n",
       " 19.952800750732422,\n",
       " None,\n",
       " 20.10099983215332,\n",
       " None,\n",
       " 20.62420082092285,\n",
       " None,\n",
       " None,\n",
       " 19.808700561523438,\n",
       " None,\n",
       " 19.907499313354492,\n",
       " None,\n",
       " None,\n",
       " None,\n",
       " None,\n",
       " None,\n",
       " 20.096500396728516,\n",
       " None,\n",
       " None,\n",
       " None,\n",
       " None,\n",
       " None,\n",
       " None,\n",
       " None,\n",
       " None,\n",
       " None,\n",
       " None,\n",
       " 20.291900634765625,\n",
       " None,\n",
       " None,\n",
       " 20.15519905090332,\n",
       " None,\n",
       " 20.033599853515625,\n",
       " None,\n",
       " None,\n",
       " None,\n",
       " 19.994199752807617,\n",
       " None,\n",
       " 20.039499282836914,\n",
       " None,\n",
       " None,\n",
       " None,\n",
       " 20.11210060119629,\n",
       " None,\n",
       " None,\n",
       " None,\n",
       " 19.996599197387695,\n",
       " None,\n",
       " 19.88520050048828,\n",
       " 20.220600128173828)"
      ]
     },
     "execution_count": 22,
     "metadata": {},
     "output_type": "execute_result"
    }
   ],
   "source": [
    "ampel_alert.get_values(\"magpsf\", filters=None)"
   ]
  },
  {
   "cell_type": "code",
   "execution_count": 16,
   "metadata": {},
   "outputs": [
    {
     "data": {
      "text/plain": [
       "(20.28138542175293,\n",
       " 20.11709976196289,\n",
       " 20.566099166870117,\n",
       " 19.98349952697754,\n",
       " 19.938800811767578,\n",
       " 20.121299743652344,\n",
       " 19.929899215698242,\n",
       " 19.900999069213867,\n",
       " 20.472299575805664,\n",
       " 20.077499389648438,\n",
       " 19.9768009185791,\n",
       " 19.952800750732422,\n",
       " 20.10099983215332,\n",
       " 20.62420082092285,\n",
       " 19.808700561523438,\n",
       " 19.907499313354492,\n",
       " 20.096500396728516,\n",
       " 20.291900634765625,\n",
       " 20.15519905090332,\n",
       " 20.033599853515625,\n",
       " 19.994199752807617,\n",
       " 20.039499282836914,\n",
       " 20.11210060119629,\n",
       " 19.88520050048828,\n",
       " 20.220600128173828)"
      ]
     },
     "execution_count": 16,
     "metadata": {},
     "output_type": "execute_result"
    }
   ],
   "source": [
    "ampel_alert.get_values(\"magpsf\", filters=[\n",
    "    {'attribute': 'candid', 'operator': 'is not', 'value': None},\n",
    "        {'attribute': 'nbad', 'operator': '<', 'value': 2}\n",
    " ]\n",
    ")"
   ]
  },
  {
   "cell_type": "code",
   "execution_count": 17,
   "metadata": {},
   "outputs": [
    {
     "data": {
      "text/plain": [
       "(None,\n",
       " None,\n",
       " None,\n",
       " None,\n",
       " None,\n",
       " None,\n",
       " None,\n",
       " None,\n",
       " None,\n",
       " None,\n",
       " None,\n",
       " None,\n",
       " None,\n",
       " None,\n",
       " None,\n",
       " None,\n",
       " None,\n",
       " None,\n",
       " None,\n",
       " None,\n",
       " None,\n",
       " None,\n",
       " None,\n",
       " None,\n",
       " None,\n",
       " None,\n",
       " None,\n",
       " None,\n",
       " None,\n",
       " None,\n",
       " None,\n",
       " None,\n",
       " None,\n",
       " None,\n",
       " None,\n",
       " None,\n",
       " None,\n",
       " None,\n",
       " None,\n",
       " None,\n",
       " None,\n",
       " None,\n",
       " None,\n",
       " None,\n",
       " None,\n",
       " None,\n",
       " None,\n",
       " None,\n",
       " None,\n",
       " None,\n",
       " None,\n",
       " None,\n",
       " None,\n",
       " None,\n",
       " None,\n",
       " None,\n",
       " None,\n",
       " None,\n",
       " None,\n",
       " None,\n",
       " None,\n",
       " None,\n",
       " None,\n",
       " None,\n",
       " None,\n",
       " None,\n",
       " None,\n",
       " None,\n",
       " None,\n",
       " None,\n",
       " None,\n",
       " None,\n",
       " None,\n",
       " None,\n",
       " None,\n",
       " None,\n",
       " None,\n",
       " None,\n",
       " None,\n",
       " None,\n",
       " None,\n",
       " None,\n",
       " None,\n",
       " None,\n",
       " None,\n",
       " None,\n",
       " None,\n",
       " None,\n",
       " None,\n",
       " None,\n",
       " None,\n",
       " None,\n",
       " None,\n",
       " None,\n",
       " None,\n",
       " None,\n",
       " None,\n",
       " None,\n",
       " None,\n",
       " None,\n",
       " None,\n",
       " None,\n",
       " None,\n",
       " None,\n",
       " None,\n",
       " None,\n",
       " None,\n",
       " None,\n",
       " None,\n",
       " None)"
      ]
     },
     "execution_count": 17,
     "metadata": {},
     "output_type": "execute_result"
    }
   ],
   "source": [
    "ampel_alert.get_values(\"candid\", filters=[\n",
    "    {'attribute': 'candid', 'operator': 'is', 'value': None}\n",
    " ]\n",
    ")"
   ]
  },
  {
   "cell_type": "code",
   "execution_count": 18,
   "metadata": {},
   "outputs": [
    {
     "data": {
      "text/plain": [
       "((20.28138542175293, 1),\n",
       " (20.11709976196289, 2),\n",
       " (20.566099166870117, 2),\n",
       " (19.98349952697754, 2),\n",
       " (19.938800811767578, 2),\n",
       " (20.121299743652344, 2),\n",
       " (19.929899215698242, 2),\n",
       " (19.900999069213867, 2),\n",
       " (20.472299575805664, 2),\n",
       " (20.077499389648438, 2),\n",
       " (19.9768009185791, 2),\n",
       " (19.952800750732422, 2),\n",
       " (20.10099983215332, 2),\n",
       " (20.62420082092285, 2),\n",
       " (19.808700561523438, 2),\n",
       " (19.907499313354492, 2),\n",
       " (20.096500396728516, 2),\n",
       " (20.291900634765625, 2),\n",
       " (20.15519905090332, 2),\n",
       " (20.033599853515625, 2),\n",
       " (19.994199752807617, 2),\n",
       " (20.039499282836914, 2),\n",
       " (20.11210060119629, 2),\n",
       " (19.996599197387695, 2),\n",
       " (19.88520050048828, 2),\n",
       " (20.220600128173828, 1))"
      ]
     },
     "execution_count": 18,
     "metadata": {},
     "output_type": "execute_result"
    }
   ],
   "source": [
    "ampel_alert.get_tuples(\"magpsf\", \"fid\")"
   ]
  },
  {
   "cell_type": "code",
   "execution_count": 20,
   "metadata": {},
   "outputs": [
    {
     "data": {
      "text/plain": [
       "(19.98349952697754,\n",
       " 19.938800811767578,\n",
       " 19.929899215698242,\n",
       " 19.900999069213867,\n",
       " 19.9768009185791,\n",
       " 19.952800750732422,\n",
       " 19.808700561523438,\n",
       " 19.907499313354492,\n",
       " 19.994199752807617,\n",
       " 19.996599197387695,\n",
       " 19.88520050048828)"
      ]
     },
     "execution_count": 20,
     "metadata": {},
     "output_type": "execute_result"
    }
   ],
   "source": [
    "ampel_alert.get_values(\n",
    "    \"magpsf\", \n",
    "    filters=[\n",
    "        {'attribute': 'candid', 'value': None, 'operator': \"is not\"},\n",
    "        {'attribute': 'fid', 'value': 2, 'operator': \"==\"}, \n",
    "        {'attribute': 'magpsf',  'value': 20, 'operator': \"<\"}\n",
    "    ]\n",
    ")"
   ]
  },
  {
   "cell_type": "code",
   "execution_count": 10,
   "metadata": {
    "scrolled": true
   },
   "outputs": [
    {
     "data": {
      "text/plain": [
       "((2458227.8595718, 20.28138542175293),\n",
       " (2458216.8858681, 20.11709976196289),\n",
       " (2458216.9219329, 20.566099166870117),\n",
       " (2458217.9081366, 19.98349952697754),\n",
       " (2458217.9234491, 19.938800811767578),\n",
       " (2458217.9859722, 20.121299743652344),\n",
       " (2458218.8909028, 19.929899215698242),\n",
       " (2458218.9097338, 19.900999069213867),\n",
       " (2458218.9318634, 20.472299575805664),\n",
       " (2458218.9527778, 20.077499389648438),\n",
       " (2458219.0028009, 19.9768009185791),\n",
       " (2458219.8832755, 19.952800750732422),\n",
       " (2458219.9074884, 20.10099983215332),\n",
       " (2458219.9276852, 20.62420082092285),\n",
       " (2458219.9489699, 19.808700561523438),\n",
       " (2458219.949919, 19.907499313354492),\n",
       " (2458220.0166782, 20.096500396728516),\n",
       " (2458224.9448727, 20.291900634765625),\n",
       " (2458226.9139352, 20.15519905090332),\n",
       " (2458226.9226273, 20.033599853515625),\n",
       " (2458226.9416551, 19.994199752807617),\n",
       " (2458226.9426042, 20.039499282836914),\n",
       " (2458226.9755324, 20.11210060119629),\n",
       " (2458226.9982292, 19.996599197387695),\n",
       " (2458226.9991667, 19.88520050048828),\n",
       " (2458227.837338, 20.220600128173828))"
      ]
     },
     "execution_count": 10,
     "metadata": {},
     "output_type": "execute_result"
    }
   ],
   "source": [
    "ampel_alert.get_tuples(\"jd\", \"magpsf\")"
   ]
  },
  {
   "cell_type": "code",
   "execution_count": 11,
   "metadata": {
    "scrolled": false
   },
   "outputs": [
    {
     "data": {
      "text/plain": [
       "((1, 2458227.8595718, 20.28138542175293),\n",
       " (2, 2458216.8858681, 20.11709976196289),\n",
       " (2, 2458216.9219329, 20.566099166870117),\n",
       " (2, 2458217.9081366, 19.98349952697754),\n",
       " (2, 2458217.9234491, 19.938800811767578),\n",
       " (2, 2458217.9859722, 20.121299743652344),\n",
       " (2, 2458218.8909028, 19.929899215698242),\n",
       " (2, 2458218.9097338, 19.900999069213867),\n",
       " (2, 2458218.9318634, 20.472299575805664),\n",
       " (2, 2458218.9527778, 20.077499389648438),\n",
       " (2, 2458219.0028009, 19.9768009185791),\n",
       " (2, 2458219.8832755, 19.952800750732422),\n",
       " (2, 2458219.9074884, 20.10099983215332),\n",
       " (2, 2458219.9276852, 20.62420082092285),\n",
       " (2, 2458219.9489699, 19.808700561523438),\n",
       " (2, 2458219.949919, 19.907499313354492),\n",
       " (2, 2458220.0166782, 20.096500396728516),\n",
       " (2, 2458224.9448727, 20.291900634765625),\n",
       " (2, 2458226.9139352, 20.15519905090332),\n",
       " (2, 2458226.9226273, 20.033599853515625),\n",
       " (2, 2458226.9416551, 19.994199752807617),\n",
       " (2, 2458226.9426042, 20.039499282836914),\n",
       " (2, 2458226.9755324, 20.11210060119629),\n",
       " (2, 2458226.9982292, 19.996599197387695),\n",
       " (2, 2458226.9991667, 19.88520050048828),\n",
       " (1, 2458227.837338, 20.220600128173828))"
      ]
     },
     "execution_count": 11,
     "metadata": {},
     "output_type": "execute_result"
    }
   ],
   "source": [
    "ampel_alert.get_ntuples([\"filter_id\", \"obs_date\", \"mag\"])"
   ]
  },
  {
   "cell_type": "code",
   "execution_count": 12,
   "metadata": {},
   "outputs": [
    {
     "data": {
      "text/plain": [
       "<Figure size 640x480 with 1 Axes>"
      ]
     },
     "metadata": {},
     "output_type": "display_data"
    }
   ],
   "source": [
    "from ampel.view.AmpelAlertPlotter import AmpelAlertPlotter\n",
    "AmpelAlertPlotter.plot(ampel_alert, \"jd\", \"magpsf\")"
   ]
  },
  {
   "cell_type": "code",
   "execution_count": 13,
   "metadata": {},
   "outputs": [],
   "source": [
    "from ampel.pipeline.t0.loaders.ZIJSONLoader import ZIJSONLoader"
   ]
  },
  {
   "cell_type": "code",
   "execution_count": 14,
   "metadata": {},
   "outputs": [
    {
     "ename": "FileNotFoundError",
     "evalue": "[Errno 2] No such file or directory: '../alerts/jonas/same_alert_inc_ppts/alert_16.json'",
     "output_type": "error",
     "traceback": [
      "\u001b[0;31m---------------------------------------------------------------------------\u001b[0m",
      "\u001b[0;31mFileNotFoundError\u001b[0m                         Traceback (most recent call last)",
      "\u001b[0;32m<ipython-input-14-f0af9fb7e721>\u001b[0m in \u001b[0;36m<module>\u001b[0;34m()\u001b[0m\n\u001b[1;32m      1\u001b[0m ampel_alert2 = AmpelAlert(*ZIJSONLoader.get_flat_pps_list_from_json(\n\u001b[0;32m----> 2\u001b[0;31m     \"../alerts/jonas/same_alert_inc_ppts/alert_16.json\")\n\u001b[0m\u001b[1;32m      3\u001b[0m )\n",
      "\u001b[0;32m~/Documents/ZTF/Ampel/src/ampel/pipeline/t0/loaders/ZIJSONLoader.py\u001b[0m in \u001b[0;36mget_flat_pps_list_from_json\u001b[0;34m(file_path)\u001b[0m\n\u001b[1;32m     27\u001b[0m \u001b[0;34m\u001b[0m\u001b[0m\n\u001b[1;32m     28\u001b[0m                 \u001b[0;32mimport\u001b[0m \u001b[0mjson\u001b[0m\u001b[0;34m\u001b[0m\u001b[0m\n\u001b[0;32m---> 29\u001b[0;31m                 \u001b[0;32mwith\u001b[0m \u001b[0mopen\u001b[0m\u001b[0;34m(\u001b[0m\u001b[0mfile_path\u001b[0m\u001b[0;34m,\u001b[0m \u001b[0;34m\"r\"\u001b[0m\u001b[0;34m)\u001b[0m \u001b[0;32mas\u001b[0m \u001b[0mdata_file\u001b[0m\u001b[0;34m:\u001b[0m\u001b[0;34m\u001b[0m\u001b[0m\n\u001b[0m\u001b[1;32m     30\u001b[0m                         \u001b[0mjson_dict\u001b[0m \u001b[0;34m=\u001b[0m \u001b[0mjson\u001b[0m\u001b[0;34m.\u001b[0m\u001b[0mload\u001b[0m\u001b[0;34m(\u001b[0m\u001b[0mdata_file\u001b[0m\u001b[0;34m)\u001b[0m\u001b[0;34m\u001b[0m\u001b[0m\n\u001b[1;32m     31\u001b[0m \u001b[0;34m\u001b[0m\u001b[0m\n",
      "\u001b[0;31mFileNotFoundError\u001b[0m: [Errno 2] No such file or directory: '../alerts/jonas/same_alert_inc_ppts/alert_16.json'"
     ]
    }
   ],
   "source": [
    "ampel_alert2 = AmpelAlert(*ZIJSONLoader.get_flat_pps_list_from_json(\n",
    "    \"../alerts/jonas/same_alert_inc_ppts/alert_16.json\")\n",
    ")"
   ]
  },
  {
   "cell_type": "code",
   "execution_count": null,
   "metadata": {},
   "outputs": [],
   "source": [
    "AmpelAlertPlotter.plot(ampel_alert2, \"jd\", \"magpsf\")"
   ]
  }
 ],
 "metadata": {
  "kernelspec": {
   "display_name": "Python 3",
   "language": "python",
   "name": "python3"
  },
  "language_info": {
   "codemirror_mode": {
    "name": "ipython",
    "version": 3
   },
   "file_extension": ".py",
   "mimetype": "text/x-python",
   "name": "python",
   "nbconvert_exporter": "python",
   "pygments_lexer": "ipython3",
   "version": "3.6.4"
  }
 },
 "nbformat": 4,
 "nbformat_minor": 2
}
