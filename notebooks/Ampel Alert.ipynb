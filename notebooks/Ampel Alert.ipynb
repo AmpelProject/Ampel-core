{
 "cells": [
  {
   "cell_type": "code",
   "execution_count": 1,
   "metadata": {},
   "outputs": [],
   "source": [
    "from ampel.base.AmpelAlert import AmpelAlert"
   ]
  },
  {
   "cell_type": "code",
   "execution_count": 2,
   "metadata": {
    "scrolled": true
   },
   "outputs": [],
   "source": [
    "#ampel_alert = AmpelAlert.load_ztf_alert('../alerts/latest/20180313/436147610015010000.avro')\n",
    "#ampel_alert = AmpelAlert.load_ztf_alert('../alerts/latest/20180313/436149002815015000.avro')\n",
    "ampel_alert = AmpelAlert.load_ztf_alert('../alerts/latest/20180313/436147612015015007.avro')"
   ]
  },
  {
   "cell_type": "code",
   "execution_count": 3,
   "metadata": {},
   "outputs": [
    {
     "data": {
      "text/plain": [
       "[{'aimage': 0.5519999861717224,\n",
       "  'aimagerat': 0.25205478072166443,\n",
       "  'bimage': 0.3720000088214874,\n",
       "  'bimagerat': 0.1698630154132843,\n",
       "  'candid': 436147612015015007,\n",
       "  'chinr': 1.6069999933242798,\n",
       "  'chipsf': 5.475345611572266,\n",
       "  'classtar': 0.9490000009536743,\n",
       "  'dec': 10.9457678,\n",
       "  'decnr': 10.9457448,\n",
       "  'diffmaglim': 20.395782470703125,\n",
       "  'distnr': 4.54960298538208,\n",
       "  'distpsnr1': 3.4490325450897217,\n",
       "  'elong': 1.4838709831237793,\n",
       "  'fid': 2,\n",
       "  'field': 515,\n",
       "  'fwhm': 2.190000057220459,\n",
       "  'isdiffpos': 't',\n",
       "  'jd': 2458190.6476157,\n",
       "  'jdendhist': 2458190.6476157,\n",
       "  'jdstarthist': 2458190.6476157,\n",
       "  'magap': 19.93000030517578,\n",
       "  'magapbig': 19.68790054321289,\n",
       "  'magdiff': 0.46259889006614685,\n",
       "  'magfromlim': 0.4657824635505676,\n",
       "  'magnr': 21.39299964904785,\n",
       "  'magpsf': 19.4674015045166,\n",
       "  'mindtoedge': 447.8066101074219,\n",
       "  'nbad': 0,\n",
       "  'ncovhist': 41,\n",
       "  'ndethist': 1,\n",
       "  'nid': 436,\n",
       "  'nneg': 9,\n",
       "  'pdiffimfilename': 'ztf_20180313146331_000515_zr_c06_o_q1_scimrefdiffimg.fits',\n",
       "  'pid': 436147612015,\n",
       "  'programid': 0,\n",
       "  'programpi': 'Kulkarni',\n",
       "  'ra': 115.1807289,\n",
       "  'ranr': 115.1794256,\n",
       "  'rb': 0.6333333253860474,\n",
       "  'rcid': 20,\n",
       "  'scorr': 17.5039157867432,\n",
       "  'seeratio': 1.2454745769500732,\n",
       "  'sgmag': 21.705400466918945,\n",
       "  'sgscore': 0.0,\n",
       "  'sharpnr': -0.014999999664723873,\n",
       "  'sigmagap': 0.1371999979019165,\n",
       "  'sigmagapbig': 0.24120000004768372,\n",
       "  'sigmagnr': 0.16599999368190765,\n",
       "  'sigmapsf': 0.052474431693553925,\n",
       "  'simag': 20.820199966430664,\n",
       "  'sky': -0.2737019956111908,\n",
       "  'srmag': 21.529300689697266,\n",
       "  'ssdistnr': -999.0,\n",
       "  'ssmagnr': -999.0,\n",
       "  'ssnamenr': 'null',\n",
       "  'sumrat': 0.7974039912223816,\n",
       "  'szmag': 20.417400360107422,\n",
       "  'tblid': 7,\n",
       "  'xpos': 2301.181640625,\n",
       "  'ypos': 2632.693359375}]"
      ]
     },
     "execution_count": 3,
     "metadata": {},
     "output_type": "execute_result"
    }
   ],
   "source": [
    "ampel_alert.pps"
   ]
  },
  {
   "cell_type": "code",
   "execution_count": 4,
   "metadata": {
    "scrolled": true
   },
   "outputs": [
    {
     "data": {
      "text/plain": [
       "((115.1807289, 10.9457678),)"
      ]
     },
     "execution_count": 4,
     "metadata": {},
     "output_type": "execute_result"
    }
   ],
   "source": [
    "ampel_alert.get_ntuples([\"ra\", \"dec\"])"
   ]
  },
  {
   "cell_type": "markdown",
   "metadata": {},
   "source": [
    "(following function call is performed automatically by Ampel)"
   ]
  },
  {
   "cell_type": "code",
   "execution_count": 5,
   "metadata": {},
   "outputs": [],
   "source": [
    "AmpelAlert.set_alert_keywords(\n",
    "    {\n",
    "        \"transient_id\" : \"alertid\",\n",
    "        \"photopoint_id\" : \"candid\",\n",
    "        \"obs_date\" : \"jd\",\n",
    "        \"filter_id\" : \"fid\",\n",
    "        \"mag\" : \"magpsf\"\n",
    "    }\n",
    ")"
   ]
  },
  {
   "cell_type": "code",
   "execution_count": 6,
   "metadata": {},
   "outputs": [
    {
     "data": {
      "text/plain": [
       "(19.4674015045166,)"
      ]
     },
     "execution_count": 6,
     "metadata": {},
     "output_type": "execute_result"
    }
   ],
   "source": [
    "ampel_alert.get_values(\"magpsf\", filters=None)"
   ]
  },
  {
   "cell_type": "code",
   "execution_count": 7,
   "metadata": {},
   "outputs": [
    {
     "data": {
      "text/plain": [
       "(19.4674015045166,)"
      ]
     },
     "execution_count": 7,
     "metadata": {},
     "output_type": "execute_result"
    }
   ],
   "source": [
    "ampel_alert.get_values(\"magpsf\", filters=[\n",
    "    {'attribute': 'candid', 'operator': 'is not', 'value': None},\n",
    "        {'attribute': 'nbad', 'operator': '<', 'value': 2}\n",
    " ]\n",
    ")"
   ]
  },
  {
   "cell_type": "code",
   "execution_count": 8,
   "metadata": {},
   "outputs": [
    {
     "data": {
      "text/plain": [
       "()"
      ]
     },
     "execution_count": 8,
     "metadata": {},
     "output_type": "execute_result"
    }
   ],
   "source": [
    "ampel_alert.get_values(\"candid\", filters=[\n",
    "    {'attribute': 'candid', 'operator': 'is', 'value': None}\n",
    " ]\n",
    ")"
   ]
  },
  {
   "cell_type": "code",
   "execution_count": 9,
   "metadata": {},
   "outputs": [
    {
     "data": {
      "text/plain": [
       "((19.4674015045166, 2),)"
      ]
     },
     "execution_count": 9,
     "metadata": {},
     "output_type": "execute_result"
    }
   ],
   "source": [
    "ampel_alert.get_tuples(\"magpsf\", \"fid\")"
   ]
  },
  {
   "cell_type": "code",
   "execution_count": 10,
   "metadata": {},
   "outputs": [
    {
     "data": {
      "text/plain": [
       "(19.4674015045166,)"
      ]
     },
     "execution_count": 10,
     "metadata": {},
     "output_type": "execute_result"
    }
   ],
   "source": [
    "ampel_alert.get_values(\n",
    "    \"magpsf\", \n",
    "    filters=[\n",
    "        {'attribute': 'candid', 'value': None, 'operator': \"is not\"},\n",
    "        {'attribute': 'fid', 'value': 2, 'operator': \"==\"}, \n",
    "        {'attribute': 'magpsf',  'value': 20, 'operator': \"<\"}\n",
    "    ]\n",
    ")"
   ]
  },
  {
   "cell_type": "code",
   "execution_count": 11,
   "metadata": {
    "scrolled": true
   },
   "outputs": [
    {
     "data": {
      "text/plain": [
       "((2458190.6476157, 19.4674015045166),)"
      ]
     },
     "execution_count": 11,
     "metadata": {},
     "output_type": "execute_result"
    }
   ],
   "source": [
    "ampel_alert.get_tuples(\"jd\", \"magpsf\")"
   ]
  },
  {
   "cell_type": "code",
   "execution_count": 12,
   "metadata": {
    "scrolled": false
   },
   "outputs": [
    {
     "data": {
      "text/plain": [
       "((2, 2458190.6476157, 19.4674015045166),)"
      ]
     },
     "execution_count": 12,
     "metadata": {},
     "output_type": "execute_result"
    }
   ],
   "source": [
    "ampel_alert.get_ntuples([\"filter_id\", \"obs_date\", \"mag\"])"
   ]
  },
  {
   "cell_type": "code",
   "execution_count": 15,
   "metadata": {},
   "outputs": [
    {
     "data": {
      "image/png": "[encoded data removed]",
      "text/plain": [
       "<Figure size 432x288 with 1 Axes>"
      ]
     },
     "metadata": {},
     "output_type": "display_data"
    }
   ],
   "source": [
    "from ampel.view.AmpelAlertPlotter import AmpelAlertPlotter\n",
    "AmpelAlertPlotter.plot(ampel_alert, \"jd\", \"magpsf\")"
   ]
  },
  {
   "cell_type": "code",
   "execution_count": null,
   "metadata": {},
   "outputs": [],
   "source": []
  }
 ],
 "metadata": {
  "kernelspec": {
   "display_name": "Python 3",
   "language": "python",
   "name": "python3"
  },
  "language_info": {
   "codemirror_mode": {
    "name": "ipython",
    "version": 3
   },
   "file_extension": ".py",
   "mimetype": "text/x-python",
   "name": "python",
   "nbconvert_exporter": "python",
   "pygments_lexer": "ipython3",
   "version": "3.6.4"
  }
 },
 "nbformat": 4,
 "nbformat_minor": 2
}
