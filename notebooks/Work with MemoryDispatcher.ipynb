{
 "cells": [
  {
   "cell_type": "markdown",
   "metadata": {},
   "source": [
    "Set Random channel threshold to 50<br>\n",
    "###################################"
   ]
  },
  {
   "cell_type": "markdown",
   "metadata": {},
   "source": [
    "from ampel.pipeline.t0.dispatchers.MemoryDispatcher import MemoryDispatcher<br>from ampel.pipeline.t0.AlertProcessor import AlertProcessor\n",
    "<br>\n",
    "<br>\n",
    "ppl=AlertProcessor()<br>\n",
    "md = MemoryDispatcher(1)<br>\n",
    "file_paths = ppl.get_iterable_paths(base_dir=\"/Users/hu/Documents/ZTF/Ampel/alerts0/\", extension=\"*.avro\")<br>\n",
    "<br>\n",
    "ppl.set_custom_dispatcher(md)<br>\n",
    "ppl.run(file_paths)<br>\n",
    "<br>\n",
    "ppl.dispatcher.get_accepted_ids()<br>\n",
    "..........<br>\n",
    "ppl.dispatcher.get_accepted()<br>"
   ]
  },
  {
   "cell_type": "code",
   "execution_count": null,
   "metadata": {},
   "outputs": [],
   "source": [
    "from ampel.pipeline.t0.dispatchers.MemoryDispatcher import MemoryDispatcher\n",
    "from ampel.pipeline.t0.AlertProcessor import AlertProcessor"
   ]
  },
  {
   "cell_type": "code",
   "execution_count": null,
   "metadata": {},
   "outputs": [],
   "source": [
    "ppl=AlertProcessor()"
   ]
  },
  {
   "cell_type": "code",
   "execution_count": null,
   "metadata": {},
   "outputs": [],
   "source": [
    "md = MemoryDispatcher(1)"
   ]
  },
  {
   "cell_type": "code",
   "execution_count": null,
   "metadata": {},
   "outputs": [],
   "source": [
    "file_paths = ppl.get_iterable_paths(base_dir=\"/Users/hu/Documents/ZTF/Ampel/alerts0/\", extension=\"*.avro\")"
   ]
  },
  {
   "cell_type": "code",
   "execution_count": null,
   "metadata": {},
   "outputs": [],
   "source": [
    "ppl.set_custom_dispatcher(md)"
   ]
  },
  {
   "cell_type": "code",
   "execution_count": null,
   "metadata": {},
   "outputs": [],
   "source": [
    "ppl.run(file_paths)"
   ]
  },
  {
   "cell_type": "code",
   "execution_count": null,
   "metadata": {},
   "outputs": [],
   "source": [
    "ppl.dispatcher.get_accepted()"
   ]
  },
  {
   "cell_type": "code",
   "execution_count": null,
   "metadata": {},
   "outputs": [],
   "source": [
    "ppl.dispatcher.get_accepted_ids()"
   ]
  },
  {
   "cell_type": "code",
   "execution_count": null,
   "metadata": {},
   "outputs": [],
   "source": []
  }
 ],
 "metadata": {
  "kernelspec": {
   "display_name": "Python 3",
   "language": "python",
   "name": "python3"
  },
  "language_info": {
   "codemirror_mode": {
    "name": "ipython",
    "version": 3
   },
   "file_extension": ".py",
   "mimetype": "text/x-python",
   "name": "python",
   "nbconvert_exporter": "python",
   "pygments_lexer": "ipython3",
   "version": "3.6.3"
  }
 },
 "nbformat": 4,
 "nbformat_minor": 2
}
