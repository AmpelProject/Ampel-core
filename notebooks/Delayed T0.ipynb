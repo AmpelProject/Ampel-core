{
 "cells": [
  {
   "cell_type": "markdown",
   "metadata": {},
   "source": [
    "++++ delete docs\n",
    "++++ set Random \"threshold\" : 99\n",
    "\n",
    "quickimport(\"AlertProcessor\")\n",
    "ppl=AlertProcessor()\n",
    "file_paths = ppl.get_iterable_paths(base_dir=\"/Users/hu/Documents/ZTF/Ampel/alerts/single\", extension=\"*.avro\")\n",
    "ppl.run(file_paths)\n",
    "\n",
    "++++ show t2 docs\n",
    "++++ change t2 runState\n",
    "++++ set Random \"threshold\" : 1\n",
    "\n",
    "quickimport(\"AlertProcessor\")\n",
    "ppl=AlertProcessor()\n",
    "file_paths = ppl.get_iterable_paths(base_dir=\"/Users/hu/Documents/ZTF/Ampel/alerts/single\", extension=\"*.avro\")\n",
    "ppl.run(file_paths)"
   ]
  },
  {
   "cell_type": "code",
   "execution_count": null,
   "metadata": {},
   "outputs": [],
   "source": []
  }
 ],
 "metadata": {
  "kernelspec": {
   "display_name": "Python 3",
   "language": "python",
   "name": "python3"
  },
  "language_info": {
   "codemirror_mode": {
    "name": "ipython",
    "version": 3
   },
   "file_extension": ".py",
   "mimetype": "text/x-python",
   "name": "python",
   "nbconvert_exporter": "python",
   "pygments_lexer": "ipython3",
   "version": "3.6.3"
  }
 },
 "nbformat": 4,
 "nbformat_minor": 2
}
