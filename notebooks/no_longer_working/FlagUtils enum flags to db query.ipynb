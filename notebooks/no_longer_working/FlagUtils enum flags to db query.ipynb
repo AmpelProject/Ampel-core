{
 "cells": [
  {
   "cell_type": "code",
   "execution_count": 1,
   "metadata": {},
   "outputs": [],
   "source": [
    "from ampel.flags.FlagUtils import FlagUtils\n",
    "from ampel.flags.TransientFlags import TransientFlags\n",
    "from ampel.view.DBDocVizualizer import DBDocVizualizer\n",
    "import json"
   ]
  },
  {
   "cell_type": "markdown",
   "metadata": {},
   "source": [
    "Cosmetic "
   ]
  },
  {
   "cell_type": "code",
   "execution_count": 2,
   "metadata": {},
   "outputs": [],
   "source": [
    "vi = DBDocVizualizer()\n",
    "def pretty_print(arg):\n",
    "    vi.markdown_display_json(\n",
    "        json.dumps(arg, indent=4), \n",
    "    )"
   ]
  },
  {
   "cell_type": "markdown",
   "metadata": {},
   "source": [
    "# Matching flags"
   ]
  },
  {
   "cell_type": "markdown",
   "metadata": {},
   "source": [
    "Simple case: "
   ]
  },
  {
   "cell_type": "code",
   "execution_count": 4,
   "metadata": {},
   "outputs": [
    {
     "ename": "TypeError",
     "evalue": "enumflag_to_dbflag() takes 1 positional argument but 3 were given",
     "output_type": "error",
     "traceback": [
      "\u001b[0;31m---------------------------------------------------------------------------\u001b[0m",
      "\u001b[0;31mTypeError\u001b[0m                                 Traceback (most recent call last)",
      "\u001b[0;32m<ipython-input-4-ec17cdf51274>\u001b[0m in \u001b[0;36m<module>\u001b[0;34m()\u001b[0m\n\u001b[1;32m      3\u001b[0m         \u001b[0mTransientFlags\u001b[0m\u001b[0;34m.\u001b[0m\u001b[0mINST_ZTF\u001b[0m\u001b[0;34m,\u001b[0m\u001b[0;34m\u001b[0m\u001b[0m\n\u001b[1;32m      4\u001b[0m         \u001b[0;34m{\u001b[0m\u001b[0;34m'tranId'\u001b[0m\u001b[0;34m:\u001b[0m \u001b[0;34m'ZTFabc'\u001b[0m\u001b[0;34m}\u001b[0m\u001b[0;34m,\u001b[0m\u001b[0;34m\u001b[0m\u001b[0m\n\u001b[0;32m----> 5\u001b[0;31m         \u001b[0;34m'alFlags'\u001b[0m\u001b[0;34m\u001b[0m\u001b[0m\n\u001b[0m\u001b[1;32m      6\u001b[0m     )\n\u001b[1;32m      7\u001b[0m ) \n",
      "\u001b[0;31mTypeError\u001b[0m: enumflag_to_dbflag() takes 1 positional argument but 3 were given"
     ]
    }
   ],
   "source": [
    "pretty_print(\n",
    "    FlagUtils.enumflags_to_dbquery(\n",
    "        TransientFlags.INST_ZTF, \n",
    "        {'tranId': 'ZTFabc'}, \n",
    "        'alFlags'\n",
    "    )\n",
    ") "
   ]
  },
  {
   "cell_type": "markdown",
   "metadata": {},
   "source": [
    "Common case: "
   ]
  },
  {
   "cell_type": "code",
   "execution_count": null,
   "metadata": {},
   "outputs": [],
   "source": [
    "pretty_print(\n",
    "    FlagUtils.enumflags_to_dbquery(\n",
    "        TransientFlags.INST_ZTF|TransientFlags.ALERT_IPAC, \n",
    "        {'tranId': 'ZTFabc'}, \n",
    "        'alFlags'\n",
    "    )\n",
    ")"
   ]
  },
  {
   "cell_type": "markdown",
   "metadata": {},
   "source": [
    "Advanced case: "
   ]
  },
  {
   "cell_type": "code",
   "execution_count": null,
   "metadata": {
    "scrolled": true
   },
   "outputs": [],
   "source": [
    "pretty_print(\n",
    "    FlagUtils.enumflags_to_dbquery(\n",
    "        [TransientFlags.INST_ZTF|TransientFlags.ALERT_IPAC, TransientFlags.INST_OTHER1],\n",
    "         {'tranId': 'ZTFabc'}, \n",
    "        'alFlags'\n",
    "    )\n",
    ")"
   ]
  },
  {
   "cell_type": "markdown",
   "metadata": {},
   "source": [
    "# Excluding flags"
   ]
  },
  {
   "cell_type": "code",
   "execution_count": null,
   "metadata": {},
   "outputs": [],
   "source": [
    "pretty_print(\n",
    "    FlagUtils.not_enumflags_to_dbquery(\n",
    "        TransientFlags.INST_ZTF,\n",
    "         {'tranId': 'ZTFabc'}, \n",
    "        'alFlags'\n",
    "    )\n",
    ")"
   ]
  },
  {
   "cell_type": "code",
   "execution_count": null,
   "metadata": {},
   "outputs": [],
   "source": [
    "pretty_print(\n",
    "    FlagUtils.not_enumflags_to_dbquery(\n",
    "        TransientFlags.INST_ZTF|TransientFlags.ALERT_IPAC,\n",
    "         {'tranId': 'ZTFabc'}, \n",
    "        'alFlags'\n",
    "    )\n",
    ")"
   ]
  },
  {
   "cell_type": "code",
   "execution_count": null,
   "metadata": {},
   "outputs": [],
   "source": [
    "pretty_print(\n",
    "    FlagUtils.not_enumflags_to_dbquery(\n",
    "        [TransientFlags.INST_ZTF|TransientFlags.ALERT_IPAC, TransientFlags.INST_OTHER1],\n",
    "         {'tranId': 'ZTFabc'}, \n",
    "        'alFlags'\n",
    "    )\n",
    ")"
   ]
  },
  {
   "cell_type": "markdown",
   "metadata": {},
   "source": [
    "# Matching *and* excluding flags\n",
    "Order matters!\n",
    "\n",
    "Please call first `enumflags_to_dbquery` then `not_enumflags_to_dbquery`\n"
   ]
  },
  {
   "cell_type": "markdown",
   "metadata": {},
   "source": [
    "### Single flag exclusion\n"
   ]
  },
  {
   "cell_type": "code",
   "execution_count": null,
   "metadata": {
    "scrolled": true
   },
   "outputs": [],
   "source": [
    "query = {'tranId': 'ZTFabc'}\n",
    "\n",
    "FlagUtils.enumflags_to_dbquery(\n",
    "    TransientFlags.INST_ZTF,\n",
    "    query, \n",
    "    'alFlags'\n",
    ")\n",
    "    \n",
    "pretty_print(\n",
    "    FlagUtils.not_enumflags_to_dbquery(\n",
    "        TransientFlags.HAS_HU_PPT,\n",
    "         query, \n",
    "        'alFlags'\n",
    "    )\n",
    ")"
   ]
  },
  {
   "cell_type": "code",
   "execution_count": null,
   "metadata": {},
   "outputs": [],
   "source": [
    "query = {'tranId': 'ZTFabc'}\n",
    "\n",
    "FlagUtils.enumflags_to_dbquery(\n",
    "    TransientFlags.INST_ZTF|TransientFlags.ALERT_IPAC,\n",
    "    query, \n",
    "    'alFlags'\n",
    ")\n",
    "    \n",
    "pretty_print(\n",
    "    FlagUtils.not_enumflags_to_dbquery(\n",
    "        TransientFlags.HAS_HU_PPT,\n",
    "         query, \n",
    "        'alFlags'\n",
    "    )\n",
    ")"
   ]
  },
  {
   "cell_type": "code",
   "execution_count": null,
   "metadata": {},
   "outputs": [],
   "source": [
    "query = {'tranId': 'ZTFabc'}\n",
    "\n",
    "FlagUtils.enumflags_to_dbquery(\n",
    "    [TransientFlags.INST_ZTF|TransientFlags.ALERT_IPAC, TransientFlags.INST_OTHER1],\n",
    "    query, \n",
    "    'alFlags'\n",
    ")\n",
    "    \n",
    "pretty_print(\n",
    "    FlagUtils.not_enumflags_to_dbquery(\n",
    "        TransientFlags.HAS_HU_PPT,\n",
    "         query, \n",
    "        'alFlags'\n",
    "    )\n",
    ")"
   ]
  },
  {
   "cell_type": "markdown",
   "metadata": {},
   "source": [
    "### Combi flag exclusion\n"
   ]
  },
  {
   "cell_type": "code",
   "execution_count": null,
   "metadata": {},
   "outputs": [],
   "source": [
    "query = {'tranId': 'ZTFabc'}\n",
    "\n",
    "FlagUtils.enumflags_to_dbquery(\n",
    "    TransientFlags.INST_ZTF,\n",
    "    query, \n",
    "    'alFlags'\n",
    ")\n",
    "    \n",
    "pretty_print(\n",
    "    FlagUtils.not_enumflags_to_dbquery(\n",
    "        TransientFlags.HAS_HU_PPT|TransientFlags.HAS_SUPERSEEDED_PPT,\n",
    "         query, \n",
    "        'alFlags'\n",
    "    )\n",
    ")"
   ]
  },
  {
   "cell_type": "code",
   "execution_count": null,
   "metadata": {},
   "outputs": [],
   "source": [
    "query = {'tranId': 'ZTFabc'}\n",
    "\n",
    "FlagUtils.enumflags_to_dbquery(\n",
    "    TransientFlags.INST_ZTF|TransientFlags.ALERT_IPAC,\n",
    "    query, \n",
    "    'alFlags'\n",
    ")\n",
    "    \n",
    "pretty_print(\n",
    "    FlagUtils.not_enumflags_to_dbquery(\n",
    "        TransientFlags.HAS_HU_PPT|TransientFlags.HAS_SUPERSEEDED_PPT,\n",
    "         query, \n",
    "        'alFlags'\n",
    "    )\n",
    ")"
   ]
  },
  {
   "cell_type": "code",
   "execution_count": null,
   "metadata": {},
   "outputs": [],
   "source": [
    "query = {'tranId': 'ZTFabc'}\n",
    "\n",
    "FlagUtils.enumflags_to_dbquery(\n",
    "    [TransientFlags.INST_ZTF|TransientFlags.ALERT_IPAC, TransientFlags.INST_OTHER1],\n",
    "    query, \n",
    "    'alFlags'\n",
    ")\n",
    "    \n",
    "pretty_print(\n",
    "    FlagUtils.not_enumflags_to_dbquery(\n",
    "        TransientFlags.HAS_HU_PPT|TransientFlags.HAS_SUPERSEEDED_PPT,\n",
    "         query, \n",
    "        'alFlags'\n",
    "    )\n",
    ")"
   ]
  },
  {
   "cell_type": "markdown",
   "metadata": {},
   "source": [
    "### Multi flag exclusion\n"
   ]
  },
  {
   "cell_type": "code",
   "execution_count": null,
   "metadata": {},
   "outputs": [],
   "source": [
    "query = {'tranId': 'ZTFabc'}\n",
    "\n",
    "FlagUtils.enumflags_to_dbquery(\n",
    "    TransientFlags.INST_ZTF,\n",
    "    query, \n",
    "    'alFlags'\n",
    ")\n",
    "    \n",
    "pretty_print(\n",
    "    FlagUtils.not_enumflags_to_dbquery(\n",
    "        [TransientFlags.HAS_HU_PPT|TransientFlags.HAS_SUPERSEEDED_PPT, TransientFlags.HAS_WZM_PPT],\n",
    "         query,\n",
    "        'alFlags'\n",
    "    )\n",
    ")"
   ]
  },
  {
   "cell_type": "code",
   "execution_count": null,
   "metadata": {},
   "outputs": [],
   "source": [
    "query = {'tranId': 'ZTFabc'}\n",
    "\n",
    "FlagUtils.enumflags_to_dbquery(\n",
    "    TransientFlags.INST_ZTF|TransientFlags.ALERT_IPAC,\n",
    "    query, \n",
    "    'alFlags'\n",
    ")\n",
    "    \n",
    "pretty_print(\n",
    "    FlagUtils.not_enumflags_to_dbquery(\n",
    "        [TransientFlags.HAS_HU_PPT|TransientFlags.HAS_SUPERSEEDED_PPT, TransientFlags.HAS_WZM_PPT],\n",
    "         query,\n",
    "        'alFlags'\n",
    "    )\n",
    ")"
   ]
  },
  {
   "cell_type": "code",
   "execution_count": null,
   "metadata": {},
   "outputs": [],
   "source": [
    "query = {'tranId': 'ZTFabc'}\n",
    "\n",
    "FlagUtils.enumflags_to_dbquery(\n",
    "    [TransientFlags.INST_ZTF|TransientFlags.ALERT_IPAC, TransientFlags.INST_OTHER1],\n",
    "    query, \n",
    "    'alFlags'\n",
    ")\n",
    "    \n",
    "pretty_print(\n",
    "    FlagUtils.not_enumflags_to_dbquery(\n",
    "        [TransientFlags.HAS_HU_PPT|TransientFlags.HAS_SUPERSEEDED_PPT, TransientFlags.HAS_WZM_PPT],\n",
    "         query,\n",
    "        'alFlags'\n",
    "    )\n",
    ")"
   ]
  }
 ],
 "metadata": {
  "kernelspec": {
   "display_name": "Python 3",
   "language": "python",
   "name": "python3"
  },
  "language_info": {
   "codemirror_mode": {
    "name": "ipython",
    "version": 3
   },
   "file_extension": ".py",
   "mimetype": "text/x-python",
   "name": "python",
   "nbconvert_exporter": "python",
   "pygments_lexer": "ipython3",
   "version": "3.6.4"
  }
 },
 "nbformat": 4,
 "nbformat_minor": 2
}
