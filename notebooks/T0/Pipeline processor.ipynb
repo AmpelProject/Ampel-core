{
 "cells": [
  {
   "cell_type": "code",
   "execution_count": null,
   "metadata": {},
   "outputs": [],
   "source": [
    "from ampel.pipeline.t0.AlertProcessor import AlertProcessor\n",
    "from ampel.pipeline.t0.alerts.AlertSupplier import AlertSupplier\n",
    "from ampel.pipeline.t0.alerts.ZIAlertShaper import ZIAlertShaper\n",
    "from ampel.pipeline.t0.alerts.TarAlertLoader import TarAlertLoader\n",
    "from ampel.pipeline.t0.alerts.DirAlertLoader import DirAlertLoader\n",
    "from ampel.pipeline.t0.alerts.FileAlertLoader import FileAlertLoader"
   ]
  },
  {
   "cell_type": "markdown",
   "metadata": {},
   "source": [
    "# Setup config using config DB (other options are avail)"
   ]
  },
  {
   "cell_type": "code",
   "execution_count": null,
   "metadata": {},
   "outputs": [],
   "source": [
    "from ampel.pipeline.config.AmpelConfig import AmpelConfig\n",
    "from ampel.pipeline.db.DBWired import DBWired\n",
    "import pymongo\n",
    "\n",
    "AmpelConfig.set_config(\n",
    "    DBWired.get_config_from_db(\n",
    "        pymongo.MongoClient().get_database(\"Ampel_config\")\n",
    "    )\n",
    ")"
   ]
  },
  {
   "cell_type": "markdown",
   "metadata": {},
   "source": [
    "# Spawn new AlertProcessor instance"
   ]
  },
  {
   "cell_type": "code",
   "execution_count": null,
   "metadata": {
    "scrolled": false
   },
   "outputs": [],
   "source": [
    "#AlertProcessor.iter_max = 10\n",
    "ap=AlertProcessor(\n",
    "    central_db='Ampel_test', \n",
    "    channels=[\"HU_RANDOM\", \"NO_FILTER\"], \n",
    "    publish_stats=['jobs']\n",
    ")"
   ]
  },
  {
   "cell_type": "markdown",
   "metadata": {},
   "source": [
    "# Process single JSON file"
   ]
  },
  {
   "cell_type": "code",
   "execution_count": null,
   "metadata": {
    "scrolled": false
   },
   "outputs": [],
   "source": [
    "alert_supplier = AlertSupplier(\n",
    "    FileAlertLoader('../alerts/test_alert.json'), \n",
    "    ZIAlertShaper(), \n",
    "    serialization=\"json\"\n",
    ")\n",
    "ap.run(alert_supplier)"
   ]
  },
  {
   "cell_type": "markdown",
   "metadata": {},
   "source": [
    "# Process tarball"
   ]
  },
  {
   "cell_type": "code",
   "execution_count": null,
   "metadata": {
    "scrolled": true
   },
   "outputs": [],
   "source": [
    "tb_walker = TarAlertLoader('../alerts/tar.tst.gz')\n",
    "alert_supplier = AlertSupplier(tb_walker, ZIAlertShaper(), serialization=\"avro\")\n",
    "ap.run(alert_supplier)"
   ]
  },
  {
   "cell_type": "markdown",
   "metadata": {},
   "source": [
    "# Process avro alerts in folder"
   ]
  },
  {
   "cell_type": "code",
   "execution_count": null,
   "metadata": {
    "scrolled": true
   },
   "outputs": [],
   "source": [
    "ap.process_alert_folder(base_dir='../alerts/latest/20180209/', max_entries=10)"
   ]
  }
 ],
 "metadata": {
  "kernelspec": {
   "display_name": "Python 3",
   "language": "python",
   "name": "python3"
  },
  "language_info": {
   "codemirror_mode": {
    "name": "ipython",
    "version": 3
   },
   "file_extension": ".py",
   "mimetype": "text/x-python",
   "name": "python",
   "nbconvert_exporter": "python",
   "pygments_lexer": "ipython3",
   "version": "3.6.4"
  }
 },
 "nbformat": 4,
 "nbformat_minor": 2
}
